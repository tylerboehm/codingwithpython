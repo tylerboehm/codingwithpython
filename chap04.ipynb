{
  "cells": [
    {
      "cell_type": "markdown",
      "id": "1331faa1",
      "metadata": {
        "id": "1331faa1"
      },
      "source": [
        "You can order print and ebook versions of *Think Python 3e* from\n",
        "[Bookshop.org](https://bookshop.org/a/98697/9781098155438) and\n",
        "[Amazon](https://www.amazon.com/_/dp/1098155432?smid=ATVPDKIKX0DER&_encoding=UTF8&tag=oreilly20-20&_encoding=UTF8&tag=greenteapre01-20&linkCode=ur2&linkId=e2a529f94920295d27ec8a06e757dc7c&camp=1789&creative=9325)."
      ]
    },
    {
      "cell_type": "code",
      "execution_count": 1,
      "id": "df64b7da",
      "metadata": {
        "tags": [],
        "id": "df64b7da",
        "outputId": "fc075420-11a2-481c-bd09-f2013bf6ca38",
        "colab": {
          "base_uri": "https://localhost:8080/"
        }
      },
      "outputs": [
        {
          "output_type": "stream",
          "name": "stdout",
          "text": [
            "Collecting ColabTurtle\n",
            "  Downloading ColabTurtle-2.1.0.tar.gz (6.8 kB)\n",
            "  Preparing metadata (setup.py) ... \u001b[?25l\u001b[?25hdone\n",
            "Building wheels for collected packages: ColabTurtle\n",
            "  Building wheel for ColabTurtle (setup.py) ... \u001b[?25l\u001b[?25hdone\n",
            "  Created wheel for ColabTurtle: filename=ColabTurtle-2.1.0-py3-none-any.whl size=7642 sha256=ae72eac126fce66e8e00dbaef268b63adc27ccab18b94cdd06e76a1b8e6cfeea\n",
            "  Stored in directory: /root/.cache/pip/wheels/f6/9e/81/137e7da25129474562d30f8660be599e5c8d79228cb747e5b9\n",
            "Successfully built ColabTurtle\n",
            "Installing collected packages: ColabTurtle\n",
            "Successfully installed ColabTurtle-2.1.0\n"
          ]
        }
      ],
      "source": [
        "!pip3 install ColabTurtle"
      ]
    },
    {
      "cell_type": "code",
      "execution_count": null,
      "id": "320fc8bc",
      "metadata": {
        "tags": [],
        "id": "320fc8bc"
      },
      "outputs": [],
      "source": []
    },
    {
      "cell_type": "markdown",
      "id": "fbb4d5a2",
      "metadata": {
        "id": "fbb4d5a2"
      },
      "source": [
        "# Functions and Interfaces\n",
        "\n",
        "This chapter introduces a module called `jupyturtle`, which allows you to create simple drawings by giving instructions to an imaginary turtle.\n",
        "We will use this module to write functions that draw squares, polygons, and circles -- and to demonstrate **interface design**, which is a way of designing functions that work together."
      ]
    },
    {
      "cell_type": "markdown",
      "id": "0b0efa00",
      "metadata": {
        "tags": [],
        "id": "0b0efa00"
      },
      "source": [
        "## The jupyturtle module\n",
        "\n",
        "To use the `jupyturtle` module, we can import it like this."
      ]
    },
    {
      "cell_type": "code",
      "execution_count": 5,
      "id": "8f5a8a45",
      "metadata": {
        "id": "8f5a8a45"
      },
      "outputs": [],
      "source": [
        "import ColabTurtle # using Colab, so will be doing it this way for the exercise"
      ]
    },
    {
      "cell_type": "code",
      "source": [
        "import ColabTurtle.Turtle as turtle"
      ],
      "metadata": {
        "id": "h3bQ7dAGNXQe"
      },
      "id": "h3bQ7dAGNXQe",
      "execution_count": 13,
      "outputs": []
    },
    {
      "cell_type": "markdown",
      "id": "8c801121",
      "metadata": {
        "id": "8c801121"
      },
      "source": [
        "Now we can use the functions defined in the module, like `make_turtle` and `forward`."
      ]
    },
    {
      "cell_type": "code",
      "execution_count": 65,
      "id": "b3f255cd",
      "metadata": {
        "id": "b3f255cd"
      },
      "outputs": [],
      "source": [
        "def make_turtle(delay=0.2):\n",
        "  initial_speed = int(11 - delay * 10)  # Ensure initial_speed is an integer\n",
        "  initial_speed = max(1, min(initial_speed, 13))  # Clamp initial_speed to the range [1, 13]\n",
        "  turtle.initializeTurtle(initial_speed=initial_speed)"
      ]
    },
    {
      "cell_type": "code",
      "source": [
        "def forward (distance):\n",
        "  turtle.forward(distance)"
      ],
      "metadata": {
        "id": "4aXO8ZL2MkTf"
      },
      "id": "4aXO8ZL2MkTf",
      "execution_count": 61,
      "outputs": []
    },
    {
      "cell_type": "code",
      "source": [
        "make_turtle()\n",
        "forward(100)"
      ],
      "metadata": {
        "id": "X6c4V280NCsm",
        "outputId": "b2b217db-ae63-4612-a047-59a9862847e3",
        "colab": {
          "base_uri": "https://localhost:8080/",
          "height": 521
        }
      },
      "id": "X6c4V280NCsm",
      "execution_count": 20,
      "outputs": [
        {
          "output_type": "display_data",
          "data": {
            "text/plain": [
              "<IPython.core.display.HTML object>"
            ],
            "text/html": [
              "\n",
              "      <svg width=\"800\" height=\"500\">\n",
              "        <rect width=\"100%\" height=\"100%\" fill=\"black\"/>\n",
              "        <line x1=\"400\" y1=\"250\" x2=\"400.0\" y2=\"150.0\" stroke-linecap=\"round\" style=\"stroke:white;stroke-width:4\"/>\n",
              "        <g visibility=visible transform=\"rotate(360,400.0,150.0) translate(382.0, 132.0)\">\n",
              "<path style=\" stroke:none;fill-rule:evenodd;fill:white;fill-opacity:1;\" d=\"M 18.214844 0.632812 C 16.109375 1.800781 15.011719 4.074219 15.074219 7.132812 L 15.085938 7.652344 L 14.785156 7.496094 C 13.476562 6.824219 11.957031 6.671875 10.40625 7.066406 C 8.46875 7.550781 6.515625 9.15625 4.394531 11.992188 C 3.0625 13.777344 2.679688 14.636719 3.042969 15.027344 L 3.15625 15.152344 L 3.519531 15.152344 C 4.238281 15.152344 4.828125 14.886719 8.1875 13.039062 C 9.386719 12.378906 10.371094 11.839844 10.378906 11.839844 C 10.386719 11.839844 10.355469 11.929688 10.304688 12.035156 C 9.832031 13.09375 9.257812 14.820312 8.96875 16.078125 C 7.914062 20.652344 8.617188 24.53125 11.070312 27.660156 C 11.351562 28.015625 11.363281 27.914062 10.972656 28.382812 C 8.925781 30.84375 7.945312 33.28125 8.238281 35.1875 C 8.289062 35.527344 8.28125 35.523438 8.917969 35.523438 C 10.941406 35.523438 13.074219 34.207031 15.136719 31.6875 C 15.359375 31.417969 15.328125 31.425781 15.5625 31.574219 C 16.292969 32.042969 18.023438 32.964844 18.175781 32.964844 C 18.335938 32.964844 19.941406 32.210938 20.828125 31.71875 C 20.996094 31.625 21.136719 31.554688 21.136719 31.558594 C 21.203125 31.664062 21.898438 32.414062 22.222656 32.730469 C 23.835938 34.300781 25.5625 35.132812 27.582031 35.300781 C 27.90625 35.328125 27.9375 35.308594 28.007812 34.984375 C 28.382812 33.242188 27.625 30.925781 25.863281 28.425781 L 25.542969 27.96875 L 25.699219 27.785156 C 28.945312 23.960938 29.132812 18.699219 26.257812 11.96875 L 26.207031 11.84375 L 27.945312 12.703125 C 31.53125 14.476562 32.316406 14.800781 33.03125 14.800781 C 33.976562 14.800781 33.78125 13.9375 32.472656 12.292969 C 28.519531 7.355469 25.394531 5.925781 21.921875 7.472656 L 21.558594 7.636719 L 21.578125 7.542969 C 21.699219 6.992188 21.761719 5.742188 21.699219 5.164062 C 21.496094 3.296875 20.664062 1.964844 19.003906 0.855469 C 18.480469 0.503906 18.457031 0.5 18.214844 0.632812\"/>\n",
              "</g>\n",
              "      </svg>\n",
              "    "
            ]
          },
          "metadata": {}
        }
      ]
    },
    {
      "cell_type": "markdown",
      "id": "77a61cbb",
      "metadata": {
        "id": "77a61cbb"
      },
      "source": [
        "`make_turtle` creates a **canvas**, which is a space on the screen where we can draw, and a turtle, which is represented by a circular shell and a triangular head.\n",
        "The circle shows the location of the turtle and the triangle indicates the direction it is facing.\n",
        "\n",
        "`forward` moves the turtle a given distance in the direction it's facing, drawing a line segment along the way.\n",
        "The distance is in arbitrary units -- the actual size depends on your computer's screen.\n",
        "\n",
        "We will use functions defined in the `jupyturtle` module many times, so it would be nice if we did not have to write the name of the module every time.\n",
        "That's possible if we import the module like this."
      ]
    },
    {
      "cell_type": "markdown",
      "id": "c1322d31",
      "metadata": {
        "id": "c1322d31"
      },
      "source": [
        "This version of the import statement imports `make_turtle` and `forward` from the `jupyturtle` module so we can call them like this."
      ]
    },
    {
      "cell_type": "code",
      "source": [
        "from ColabTurtle.Turtle import left, right"
      ],
      "metadata": {
        "id": "YLbIqnLSOYaS"
      },
      "id": "YLbIqnLSOYaS",
      "execution_count": 29,
      "outputs": []
    },
    {
      "cell_type": "code",
      "execution_count": 30,
      "id": "1e768880",
      "metadata": {
        "id": "1e768880",
        "outputId": "7be0b5f8-5c63-4fe3-9eb2-695e0eecded2",
        "colab": {
          "base_uri": "https://localhost:8080/",
          "height": 521
        }
      },
      "outputs": [
        {
          "output_type": "display_data",
          "data": {
            "text/plain": [
              "<IPython.core.display.HTML object>"
            ],
            "text/html": [
              "\n",
              "      <svg width=\"800\" height=\"500\">\n",
              "        <rect width=\"100%\" height=\"100%\" fill=\"black\"/>\n",
              "        \n",
              "        <g visibility=visible transform=\"rotate(100,400,250) translate(382, 232)\">\n",
              "<path style=\" stroke:none;fill-rule:evenodd;fill:white;fill-opacity:1;\" d=\"M 18.214844 0.632812 C 16.109375 1.800781 15.011719 4.074219 15.074219 7.132812 L 15.085938 7.652344 L 14.785156 7.496094 C 13.476562 6.824219 11.957031 6.671875 10.40625 7.066406 C 8.46875 7.550781 6.515625 9.15625 4.394531 11.992188 C 3.0625 13.777344 2.679688 14.636719 3.042969 15.027344 L 3.15625 15.152344 L 3.519531 15.152344 C 4.238281 15.152344 4.828125 14.886719 8.1875 13.039062 C 9.386719 12.378906 10.371094 11.839844 10.378906 11.839844 C 10.386719 11.839844 10.355469 11.929688 10.304688 12.035156 C 9.832031 13.09375 9.257812 14.820312 8.96875 16.078125 C 7.914062 20.652344 8.617188 24.53125 11.070312 27.660156 C 11.351562 28.015625 11.363281 27.914062 10.972656 28.382812 C 8.925781 30.84375 7.945312 33.28125 8.238281 35.1875 C 8.289062 35.527344 8.28125 35.523438 8.917969 35.523438 C 10.941406 35.523438 13.074219 34.207031 15.136719 31.6875 C 15.359375 31.417969 15.328125 31.425781 15.5625 31.574219 C 16.292969 32.042969 18.023438 32.964844 18.175781 32.964844 C 18.335938 32.964844 19.941406 32.210938 20.828125 31.71875 C 20.996094 31.625 21.136719 31.554688 21.136719 31.558594 C 21.203125 31.664062 21.898438 32.414062 22.222656 32.730469 C 23.835938 34.300781 25.5625 35.132812 27.582031 35.300781 C 27.90625 35.328125 27.9375 35.308594 28.007812 34.984375 C 28.382812 33.242188 27.625 30.925781 25.863281 28.425781 L 25.542969 27.96875 L 25.699219 27.785156 C 28.945312 23.960938 29.132812 18.699219 26.257812 11.96875 L 26.207031 11.84375 L 27.945312 12.703125 C 31.53125 14.476562 32.316406 14.800781 33.03125 14.800781 C 33.976562 14.800781 33.78125 13.9375 32.472656 12.292969 C 28.519531 7.355469 25.394531 5.925781 21.921875 7.472656 L 21.558594 7.636719 L 21.578125 7.542969 C 21.699219 6.992188 21.761719 5.742188 21.699219 5.164062 C 21.496094 3.296875 20.664062 1.964844 19.003906 0.855469 C 18.480469 0.503906 18.457031 0.5 18.214844 0.632812\"/>\n",
              "</g>\n",
              "      </svg>\n",
              "    "
            ]
          },
          "metadata": {}
        }
      ],
      "source": [
        "make_turtle()\n",
        "right(100)"
      ]
    },
    {
      "cell_type": "markdown",
      "id": "bd319754",
      "metadata": {
        "id": "bd319754"
      },
      "source": [
        "`jupyturtle` provides two other functions we'll use, called `left` and `right`.\n",
        "We'll import them like this."
      ]
    },
    {
      "cell_type": "code",
      "execution_count": 28,
      "id": "6d874b03",
      "metadata": {
        "id": "6d874b03"
      },
      "outputs": [],
      "source": [
        "from ColabTurtle.Turtle import left, right"
      ]
    },
    {
      "cell_type": "markdown",
      "id": "0da2a311",
      "metadata": {
        "id": "0da2a311"
      },
      "source": [
        "`left` causes the turtle to turn left. It takes one argument, which is the angle of the turn in degrees.\n",
        "For example, we can make a 90 degree left turn like this."
      ]
    },
    {
      "cell_type": "code",
      "execution_count": 39,
      "id": "1bb57a0c",
      "metadata": {
        "id": "1bb57a0c",
        "outputId": "7a36f032-cd8d-4d11-ed3d-e6698fa01fb0",
        "colab": {
          "base_uri": "https://localhost:8080/",
          "height": 521
        }
      },
      "outputs": [
        {
          "output_type": "display_data",
          "data": {
            "text/plain": [
              "<IPython.core.display.HTML object>"
            ],
            "text/html": [
              "\n",
              "      <svg width=\"800\" height=\"500\">\n",
              "        <rect width=\"100%\" height=\"100%\" fill=\"black\"/>\n",
              "        <line x1=\"400\" y1=\"250\" x2=\"450.0\" y2=\"250.0\" stroke-linecap=\"round\" style=\"stroke:white;stroke-width:4\"/><line x1=\"450.0\" y1=\"250.0\" x2=\"450.0\" y2=\"200.0\" stroke-linecap=\"round\" style=\"stroke:white;stroke-width:4\"/>\n",
              "        <g visibility=visible transform=\"rotate(360,450.0,200.0) translate(432.0, 182.0)\">\n",
              "<path style=\" stroke:none;fill-rule:evenodd;fill:white;fill-opacity:1;\" d=\"M 18.214844 0.632812 C 16.109375 1.800781 15.011719 4.074219 15.074219 7.132812 L 15.085938 7.652344 L 14.785156 7.496094 C 13.476562 6.824219 11.957031 6.671875 10.40625 7.066406 C 8.46875 7.550781 6.515625 9.15625 4.394531 11.992188 C 3.0625 13.777344 2.679688 14.636719 3.042969 15.027344 L 3.15625 15.152344 L 3.519531 15.152344 C 4.238281 15.152344 4.828125 14.886719 8.1875 13.039062 C 9.386719 12.378906 10.371094 11.839844 10.378906 11.839844 C 10.386719 11.839844 10.355469 11.929688 10.304688 12.035156 C 9.832031 13.09375 9.257812 14.820312 8.96875 16.078125 C 7.914062 20.652344 8.617188 24.53125 11.070312 27.660156 C 11.351562 28.015625 11.363281 27.914062 10.972656 28.382812 C 8.925781 30.84375 7.945312 33.28125 8.238281 35.1875 C 8.289062 35.527344 8.28125 35.523438 8.917969 35.523438 C 10.941406 35.523438 13.074219 34.207031 15.136719 31.6875 C 15.359375 31.417969 15.328125 31.425781 15.5625 31.574219 C 16.292969 32.042969 18.023438 32.964844 18.175781 32.964844 C 18.335938 32.964844 19.941406 32.210938 20.828125 31.71875 C 20.996094 31.625 21.136719 31.554688 21.136719 31.558594 C 21.203125 31.664062 21.898438 32.414062 22.222656 32.730469 C 23.835938 34.300781 25.5625 35.132812 27.582031 35.300781 C 27.90625 35.328125 27.9375 35.308594 28.007812 34.984375 C 28.382812 33.242188 27.625 30.925781 25.863281 28.425781 L 25.542969 27.96875 L 25.699219 27.785156 C 28.945312 23.960938 29.132812 18.699219 26.257812 11.96875 L 26.207031 11.84375 L 27.945312 12.703125 C 31.53125 14.476562 32.316406 14.800781 33.03125 14.800781 C 33.976562 14.800781 33.78125 13.9375 32.472656 12.292969 C 28.519531 7.355469 25.394531 5.925781 21.921875 7.472656 L 21.558594 7.636719 L 21.578125 7.542969 C 21.699219 6.992188 21.761719 5.742188 21.699219 5.164062 C 21.496094 3.296875 20.664062 1.964844 19.003906 0.855469 C 18.480469 0.503906 18.457031 0.5 18.214844 0.632812\"/>\n",
              "</g>\n",
              "      </svg>\n",
              "    "
            ]
          },
          "metadata": {}
        }
      ],
      "source": [
        "make_turtle()\n",
        "right(90)\n",
        "forward(50)\n",
        "left(90)\n",
        "forward(50)"
      ]
    },
    {
      "cell_type": "markdown",
      "id": "cea2940f",
      "metadata": {
        "id": "cea2940f"
      },
      "source": [
        "This program moves the turtle east and then north, leaving two line segments behind.\n",
        "Before you go on, see if you can modify the previous program to make a square."
      ]
    },
    {
      "cell_type": "markdown",
      "id": "e20ea96c",
      "metadata": {
        "id": "e20ea96c"
      },
      "source": [
        "## Making a square\n",
        "\n",
        "Here's one way to make a square."
      ]
    },
    {
      "cell_type": "code",
      "execution_count": 41,
      "id": "9a9e455f",
      "metadata": {
        "id": "9a9e455f",
        "outputId": "0e60d475-cbc0-4174-85c6-d822d1d82822",
        "colab": {
          "base_uri": "https://localhost:8080/",
          "height": 521
        }
      },
      "outputs": [
        {
          "output_type": "display_data",
          "data": {
            "text/plain": [
              "<IPython.core.display.HTML object>"
            ],
            "text/html": [
              "\n",
              "      <svg width=\"800\" height=\"500\">\n",
              "        <rect width=\"100%\" height=\"100%\" fill=\"black\"/>\n",
              "        <line x1=\"400\" y1=\"250\" x2=\"400.0\" y2=\"200.0\" stroke-linecap=\"round\" style=\"stroke:white;stroke-width:4\"/><line x1=\"400.0\" y1=\"200.0\" x2=\"350.0\" y2=\"200.0\" stroke-linecap=\"round\" style=\"stroke:white;stroke-width:4\"/><line x1=\"350.0\" y1=\"200.0\" x2=\"350.0\" y2=\"250.0\" stroke-linecap=\"round\" style=\"stroke:white;stroke-width:4\"/><line x1=\"350.0\" y1=\"250.0\" x2=\"400.0\" y2=\"250.0\" stroke-linecap=\"round\" style=\"stroke:white;stroke-width:4\"/>\n",
              "        <g visibility=visible transform=\"rotate(360,400.0,250.0) translate(382.0, 232.0)\">\n",
              "<path style=\" stroke:none;fill-rule:evenodd;fill:white;fill-opacity:1;\" d=\"M 18.214844 0.632812 C 16.109375 1.800781 15.011719 4.074219 15.074219 7.132812 L 15.085938 7.652344 L 14.785156 7.496094 C 13.476562 6.824219 11.957031 6.671875 10.40625 7.066406 C 8.46875 7.550781 6.515625 9.15625 4.394531 11.992188 C 3.0625 13.777344 2.679688 14.636719 3.042969 15.027344 L 3.15625 15.152344 L 3.519531 15.152344 C 4.238281 15.152344 4.828125 14.886719 8.1875 13.039062 C 9.386719 12.378906 10.371094 11.839844 10.378906 11.839844 C 10.386719 11.839844 10.355469 11.929688 10.304688 12.035156 C 9.832031 13.09375 9.257812 14.820312 8.96875 16.078125 C 7.914062 20.652344 8.617188 24.53125 11.070312 27.660156 C 11.351562 28.015625 11.363281 27.914062 10.972656 28.382812 C 8.925781 30.84375 7.945312 33.28125 8.238281 35.1875 C 8.289062 35.527344 8.28125 35.523438 8.917969 35.523438 C 10.941406 35.523438 13.074219 34.207031 15.136719 31.6875 C 15.359375 31.417969 15.328125 31.425781 15.5625 31.574219 C 16.292969 32.042969 18.023438 32.964844 18.175781 32.964844 C 18.335938 32.964844 19.941406 32.210938 20.828125 31.71875 C 20.996094 31.625 21.136719 31.554688 21.136719 31.558594 C 21.203125 31.664062 21.898438 32.414062 22.222656 32.730469 C 23.835938 34.300781 25.5625 35.132812 27.582031 35.300781 C 27.90625 35.328125 27.9375 35.308594 28.007812 34.984375 C 28.382812 33.242188 27.625 30.925781 25.863281 28.425781 L 25.542969 27.96875 L 25.699219 27.785156 C 28.945312 23.960938 29.132812 18.699219 26.257812 11.96875 L 26.207031 11.84375 L 27.945312 12.703125 C 31.53125 14.476562 32.316406 14.800781 33.03125 14.800781 C 33.976562 14.800781 33.78125 13.9375 32.472656 12.292969 C 28.519531 7.355469 25.394531 5.925781 21.921875 7.472656 L 21.558594 7.636719 L 21.578125 7.542969 C 21.699219 6.992188 21.761719 5.742188 21.699219 5.164062 C 21.496094 3.296875 20.664062 1.964844 19.003906 0.855469 C 18.480469 0.503906 18.457031 0.5 18.214844 0.632812\"/>\n",
              "</g>\n",
              "      </svg>\n",
              "    "
            ]
          },
          "metadata": {}
        }
      ],
      "source": [
        "make_turtle()\n",
        "forward(50) # moves forward 50\n",
        "left(90) # turns left 90 degrees\n",
        "forward(50) # moves forward 50\n",
        "left(90) # so on and so forth\n",
        "forward(50)\n",
        "left(90)\n",
        "forward(50)\n",
        "left(90)"
      ]
    },
    {
      "cell_type": "markdown",
      "id": "a7500957",
      "metadata": {
        "id": "a7500957"
      },
      "source": [
        "Because this program repeats the same pair of lines four times, we can do the same thing more concisely with a `for` loop."
      ]
    },
    {
      "cell_type": "code",
      "execution_count": 42,
      "id": "cc27ad66",
      "metadata": {
        "id": "cc27ad66",
        "outputId": "e0bf2a17-345e-4a98-cf70-7f33967e3ce4",
        "colab": {
          "base_uri": "https://localhost:8080/",
          "height": 521
        }
      },
      "outputs": [
        {
          "output_type": "display_data",
          "data": {
            "text/plain": [
              "<IPython.core.display.HTML object>"
            ],
            "text/html": [
              "\n",
              "      <svg width=\"800\" height=\"500\">\n",
              "        <rect width=\"100%\" height=\"100%\" fill=\"black\"/>\n",
              "        <line x1=\"400\" y1=\"250\" x2=\"400.0\" y2=\"200.0\" stroke-linecap=\"round\" style=\"stroke:white;stroke-width:4\"/><line x1=\"400.0\" y1=\"200.0\" x2=\"350.0\" y2=\"200.0\" stroke-linecap=\"round\" style=\"stroke:white;stroke-width:4\"/><line x1=\"350.0\" y1=\"200.0\" x2=\"350.0\" y2=\"250.0\" stroke-linecap=\"round\" style=\"stroke:white;stroke-width:4\"/><line x1=\"350.0\" y1=\"250.0\" x2=\"400.0\" y2=\"250.0\" stroke-linecap=\"round\" style=\"stroke:white;stroke-width:4\"/>\n",
              "        <g visibility=visible transform=\"rotate(360,400.0,250.0) translate(382.0, 232.0)\">\n",
              "<path style=\" stroke:none;fill-rule:evenodd;fill:white;fill-opacity:1;\" d=\"M 18.214844 0.632812 C 16.109375 1.800781 15.011719 4.074219 15.074219 7.132812 L 15.085938 7.652344 L 14.785156 7.496094 C 13.476562 6.824219 11.957031 6.671875 10.40625 7.066406 C 8.46875 7.550781 6.515625 9.15625 4.394531 11.992188 C 3.0625 13.777344 2.679688 14.636719 3.042969 15.027344 L 3.15625 15.152344 L 3.519531 15.152344 C 4.238281 15.152344 4.828125 14.886719 8.1875 13.039062 C 9.386719 12.378906 10.371094 11.839844 10.378906 11.839844 C 10.386719 11.839844 10.355469 11.929688 10.304688 12.035156 C 9.832031 13.09375 9.257812 14.820312 8.96875 16.078125 C 7.914062 20.652344 8.617188 24.53125 11.070312 27.660156 C 11.351562 28.015625 11.363281 27.914062 10.972656 28.382812 C 8.925781 30.84375 7.945312 33.28125 8.238281 35.1875 C 8.289062 35.527344 8.28125 35.523438 8.917969 35.523438 C 10.941406 35.523438 13.074219 34.207031 15.136719 31.6875 C 15.359375 31.417969 15.328125 31.425781 15.5625 31.574219 C 16.292969 32.042969 18.023438 32.964844 18.175781 32.964844 C 18.335938 32.964844 19.941406 32.210938 20.828125 31.71875 C 20.996094 31.625 21.136719 31.554688 21.136719 31.558594 C 21.203125 31.664062 21.898438 32.414062 22.222656 32.730469 C 23.835938 34.300781 25.5625 35.132812 27.582031 35.300781 C 27.90625 35.328125 27.9375 35.308594 28.007812 34.984375 C 28.382812 33.242188 27.625 30.925781 25.863281 28.425781 L 25.542969 27.96875 L 25.699219 27.785156 C 28.945312 23.960938 29.132812 18.699219 26.257812 11.96875 L 26.207031 11.84375 L 27.945312 12.703125 C 31.53125 14.476562 32.316406 14.800781 33.03125 14.800781 C 33.976562 14.800781 33.78125 13.9375 32.472656 12.292969 C 28.519531 7.355469 25.394531 5.925781 21.921875 7.472656 L 21.558594 7.636719 L 21.578125 7.542969 C 21.699219 6.992188 21.761719 5.742188 21.699219 5.164062 C 21.496094 3.296875 20.664062 1.964844 19.003906 0.855469 C 18.480469 0.503906 18.457031 0.5 18.214844 0.632812\"/>\n",
              "</g>\n",
              "      </svg>\n",
              "    "
            ]
          },
          "metadata": {}
        }
      ],
      "source": [
        "make_turtle()\n",
        "for i in range(4):\n",
        "    forward(50)\n",
        "    left(90)"
      ]
    },
    {
      "cell_type": "markdown",
      "id": "c072ea41",
      "metadata": {
        "tags": [],
        "id": "c072ea41"
      },
      "source": [
        "## Encapsulation and generalization\n",
        "\n",
        "Let's take the square-drawing code from the previous section and put it in a function called `square`."
      ]
    },
    {
      "cell_type": "code",
      "execution_count": 43,
      "id": "ad5f1128",
      "metadata": {
        "id": "ad5f1128"
      },
      "outputs": [],
      "source": [
        "def square():\n",
        "    for i in range(4):\n",
        "        forward(50)\n",
        "        left(90)"
      ]
    },
    {
      "cell_type": "markdown",
      "id": "0789b5d9",
      "metadata": {
        "id": "0789b5d9"
      },
      "source": [
        "Now we can call the function like this."
      ]
    },
    {
      "cell_type": "code",
      "execution_count": 44,
      "id": "193bbe5e",
      "metadata": {
        "id": "193bbe5e",
        "outputId": "2dcd5225-a180-4138-ff5c-d065a0f865ee",
        "colab": {
          "base_uri": "https://localhost:8080/",
          "height": 521
        }
      },
      "outputs": [
        {
          "output_type": "display_data",
          "data": {
            "text/plain": [
              "<IPython.core.display.HTML object>"
            ],
            "text/html": [
              "\n",
              "      <svg width=\"800\" height=\"500\">\n",
              "        <rect width=\"100%\" height=\"100%\" fill=\"black\"/>\n",
              "        <line x1=\"400\" y1=\"250\" x2=\"400.0\" y2=\"200.0\" stroke-linecap=\"round\" style=\"stroke:white;stroke-width:4\"/><line x1=\"400.0\" y1=\"200.0\" x2=\"350.0\" y2=\"200.0\" stroke-linecap=\"round\" style=\"stroke:white;stroke-width:4\"/><line x1=\"350.0\" y1=\"200.0\" x2=\"350.0\" y2=\"250.0\" stroke-linecap=\"round\" style=\"stroke:white;stroke-width:4\"/><line x1=\"350.0\" y1=\"250.0\" x2=\"400.0\" y2=\"250.0\" stroke-linecap=\"round\" style=\"stroke:white;stroke-width:4\"/>\n",
              "        <g visibility=visible transform=\"rotate(360,400.0,250.0) translate(382.0, 232.0)\">\n",
              "<path style=\" stroke:none;fill-rule:evenodd;fill:white;fill-opacity:1;\" d=\"M 18.214844 0.632812 C 16.109375 1.800781 15.011719 4.074219 15.074219 7.132812 L 15.085938 7.652344 L 14.785156 7.496094 C 13.476562 6.824219 11.957031 6.671875 10.40625 7.066406 C 8.46875 7.550781 6.515625 9.15625 4.394531 11.992188 C 3.0625 13.777344 2.679688 14.636719 3.042969 15.027344 L 3.15625 15.152344 L 3.519531 15.152344 C 4.238281 15.152344 4.828125 14.886719 8.1875 13.039062 C 9.386719 12.378906 10.371094 11.839844 10.378906 11.839844 C 10.386719 11.839844 10.355469 11.929688 10.304688 12.035156 C 9.832031 13.09375 9.257812 14.820312 8.96875 16.078125 C 7.914062 20.652344 8.617188 24.53125 11.070312 27.660156 C 11.351562 28.015625 11.363281 27.914062 10.972656 28.382812 C 8.925781 30.84375 7.945312 33.28125 8.238281 35.1875 C 8.289062 35.527344 8.28125 35.523438 8.917969 35.523438 C 10.941406 35.523438 13.074219 34.207031 15.136719 31.6875 C 15.359375 31.417969 15.328125 31.425781 15.5625 31.574219 C 16.292969 32.042969 18.023438 32.964844 18.175781 32.964844 C 18.335938 32.964844 19.941406 32.210938 20.828125 31.71875 C 20.996094 31.625 21.136719 31.554688 21.136719 31.558594 C 21.203125 31.664062 21.898438 32.414062 22.222656 32.730469 C 23.835938 34.300781 25.5625 35.132812 27.582031 35.300781 C 27.90625 35.328125 27.9375 35.308594 28.007812 34.984375 C 28.382812 33.242188 27.625 30.925781 25.863281 28.425781 L 25.542969 27.96875 L 25.699219 27.785156 C 28.945312 23.960938 29.132812 18.699219 26.257812 11.96875 L 26.207031 11.84375 L 27.945312 12.703125 C 31.53125 14.476562 32.316406 14.800781 33.03125 14.800781 C 33.976562 14.800781 33.78125 13.9375 32.472656 12.292969 C 28.519531 7.355469 25.394531 5.925781 21.921875 7.472656 L 21.558594 7.636719 L 21.578125 7.542969 C 21.699219 6.992188 21.761719 5.742188 21.699219 5.164062 C 21.496094 3.296875 20.664062 1.964844 19.003906 0.855469 C 18.480469 0.503906 18.457031 0.5 18.214844 0.632812\"/>\n",
              "</g>\n",
              "      </svg>\n",
              "    "
            ]
          },
          "metadata": {}
        }
      ],
      "source": [
        "make_turtle()\n",
        "square()"
      ]
    },
    {
      "cell_type": "markdown",
      "id": "da905fc6",
      "metadata": {
        "id": "da905fc6"
      },
      "source": [
        "Wrapping a piece of code up in a function is called **encapsulation**.\n",
        "One of the benefits of encapsulation is that it attaches a name to the code, which serves as a kind of documentation. Another advantage is that if you re-use the code, it is more concise to call a function twice than to copy and paste the body!\n",
        "\n",
        "In the current version, the size of the square is always `50`.\n",
        "If we want to draw squares with different sizes, we can take the length of the sides as a parameter."
      ]
    },
    {
      "cell_type": "code",
      "execution_count": 47,
      "id": "def8a5f1",
      "metadata": {
        "id": "def8a5f1"
      },
      "outputs": [],
      "source": [
        "def square(length):\n",
        "    for i in range(4):\n",
        "        forward(length) # so when we do square() what we but in the brackets will be the length of the square\n",
        "        right(90)"
      ]
    },
    {
      "cell_type": "markdown",
      "id": "397fda4b",
      "metadata": {
        "id": "397fda4b"
      },
      "source": [
        "Now we can draw squares with different sizes."
      ]
    },
    {
      "cell_type": "code",
      "execution_count": 48,
      "id": "b283e795",
      "metadata": {
        "id": "b283e795",
        "outputId": "3aaa20df-475e-49e8-9796-d69ec8802975",
        "colab": {
          "base_uri": "https://localhost:8080/",
          "height": 521
        }
      },
      "outputs": [
        {
          "output_type": "display_data",
          "data": {
            "text/plain": [
              "<IPython.core.display.HTML object>"
            ],
            "text/html": [
              "\n",
              "      <svg width=\"800\" height=\"500\">\n",
              "        <rect width=\"100%\" height=\"100%\" fill=\"black\"/>\n",
              "        <line x1=\"400\" y1=\"250\" x2=\"400.0\" y2=\"220.0\" stroke-linecap=\"round\" style=\"stroke:white;stroke-width:4\"/><line x1=\"400.0\" y1=\"220.0\" x2=\"430.0\" y2=\"220.0\" stroke-linecap=\"round\" style=\"stroke:white;stroke-width:4\"/><line x1=\"430.0\" y1=\"220.0\" x2=\"430.0\" y2=\"250.0\" stroke-linecap=\"round\" style=\"stroke:white;stroke-width:4\"/><line x1=\"430.0\" y1=\"250.0\" x2=\"400.0\" y2=\"250.0\" stroke-linecap=\"round\" style=\"stroke:white;stroke-width:4\"/><line x1=\"400.0\" y1=\"250.0\" x2=\"400.0\" y2=\"190.0\" stroke-linecap=\"round\" style=\"stroke:white;stroke-width:4\"/><line x1=\"400.0\" y1=\"190.0\" x2=\"460.0\" y2=\"190.0\" stroke-linecap=\"round\" style=\"stroke:white;stroke-width:4\"/><line x1=\"460.0\" y1=\"190.0\" x2=\"460.0\" y2=\"250.0\" stroke-linecap=\"round\" style=\"stroke:white;stroke-width:4\"/><line x1=\"460.0\" y1=\"250.0\" x2=\"400.0\" y2=\"250.0\" stroke-linecap=\"round\" style=\"stroke:white;stroke-width:4\"/>\n",
              "        <g visibility=visible transform=\"rotate(360,400.0,250.0) translate(382.0, 232.0)\">\n",
              "<path style=\" stroke:none;fill-rule:evenodd;fill:white;fill-opacity:1;\" d=\"M 18.214844 0.632812 C 16.109375 1.800781 15.011719 4.074219 15.074219 7.132812 L 15.085938 7.652344 L 14.785156 7.496094 C 13.476562 6.824219 11.957031 6.671875 10.40625 7.066406 C 8.46875 7.550781 6.515625 9.15625 4.394531 11.992188 C 3.0625 13.777344 2.679688 14.636719 3.042969 15.027344 L 3.15625 15.152344 L 3.519531 15.152344 C 4.238281 15.152344 4.828125 14.886719 8.1875 13.039062 C 9.386719 12.378906 10.371094 11.839844 10.378906 11.839844 C 10.386719 11.839844 10.355469 11.929688 10.304688 12.035156 C 9.832031 13.09375 9.257812 14.820312 8.96875 16.078125 C 7.914062 20.652344 8.617188 24.53125 11.070312 27.660156 C 11.351562 28.015625 11.363281 27.914062 10.972656 28.382812 C 8.925781 30.84375 7.945312 33.28125 8.238281 35.1875 C 8.289062 35.527344 8.28125 35.523438 8.917969 35.523438 C 10.941406 35.523438 13.074219 34.207031 15.136719 31.6875 C 15.359375 31.417969 15.328125 31.425781 15.5625 31.574219 C 16.292969 32.042969 18.023438 32.964844 18.175781 32.964844 C 18.335938 32.964844 19.941406 32.210938 20.828125 31.71875 C 20.996094 31.625 21.136719 31.554688 21.136719 31.558594 C 21.203125 31.664062 21.898438 32.414062 22.222656 32.730469 C 23.835938 34.300781 25.5625 35.132812 27.582031 35.300781 C 27.90625 35.328125 27.9375 35.308594 28.007812 34.984375 C 28.382812 33.242188 27.625 30.925781 25.863281 28.425781 L 25.542969 27.96875 L 25.699219 27.785156 C 28.945312 23.960938 29.132812 18.699219 26.257812 11.96875 L 26.207031 11.84375 L 27.945312 12.703125 C 31.53125 14.476562 32.316406 14.800781 33.03125 14.800781 C 33.976562 14.800781 33.78125 13.9375 32.472656 12.292969 C 28.519531 7.355469 25.394531 5.925781 21.921875 7.472656 L 21.558594 7.636719 L 21.578125 7.542969 C 21.699219 6.992188 21.761719 5.742188 21.699219 5.164062 C 21.496094 3.296875 20.664062 1.964844 19.003906 0.855469 C 18.480469 0.503906 18.457031 0.5 18.214844 0.632812\"/>\n",
              "</g>\n",
              "      </svg>\n",
              "    "
            ]
          },
          "metadata": {}
        }
      ],
      "source": [
        "make_turtle()\n",
        "square(30)\n",
        "square(60)"
      ]
    },
    {
      "cell_type": "markdown",
      "id": "5a46bf64",
      "metadata": {
        "id": "5a46bf64"
      },
      "source": [
        "Adding a parameter to a function is called **generalization** because it makes the function more general: with the previous version, the square is always the same size; with this version it can be any size.\n",
        "\n",
        "If we add another parameter, we can make it even more general.\n",
        "The following function draws regular polygons with a given number of sides."
      ]
    },
    {
      "cell_type": "code",
      "execution_count": 54,
      "id": "171974ed",
      "metadata": {
        "id": "171974ed"
      },
      "outputs": [],
      "source": [
        "def polygon(n, length):\n",
        "    angle = 360 / n\n",
        "    for i in range(n):\n",
        "        forward(length)\n",
        "        right(angle)"
      ]
    },
    {
      "cell_type": "markdown",
      "id": "286d3c77",
      "metadata": {
        "id": "286d3c77"
      },
      "source": [
        "In a regular polygon with `n` sides, the angle between adjacent sides is `360 / n` degrees.\n",
        "\n",
        "The following example draws a `7`-sided polygon with side length `30`."
      ]
    },
    {
      "cell_type": "code",
      "execution_count": 55,
      "id": "71f7d9d2",
      "metadata": {
        "id": "71f7d9d2",
        "outputId": "db5b7086-e491-482c-a5f9-336b509ff7c4",
        "colab": {
          "base_uri": "https://localhost:8080/",
          "height": 521
        }
      },
      "outputs": [
        {
          "output_type": "display_data",
          "data": {
            "text/plain": [
              "<IPython.core.display.HTML object>"
            ],
            "text/html": [
              "\n",
              "      <svg width=\"800\" height=\"500\">\n",
              "        <rect width=\"100%\" height=\"100%\" fill=\"black\"/>\n",
              "        <line x1=\"400\" y1=\"250\" x2=\"400.0\" y2=\"220.0\" stroke-linecap=\"round\" style=\"stroke:white;stroke-width:4\"/><line x1=\"400.0\" y1=\"220.0\" x2=\"423.455\" y2=\"201.295\" stroke-linecap=\"round\" style=\"stroke:white;stroke-width:4\"/><line x1=\"423.455\" y1=\"201.295\" x2=\"452.703\" y2=\"207.971\" stroke-linecap=\"round\" style=\"stroke:white;stroke-width:4\"/><line x1=\"452.703\" y1=\"207.971\" x2=\"465.72\" y2=\"235.0\" stroke-linecap=\"round\" style=\"stroke:white;stroke-width:4\"/><line x1=\"465.72\" y1=\"235.0\" x2=\"452.703\" y2=\"262.029\" stroke-linecap=\"round\" style=\"stroke:white;stroke-width:4\"/><line x1=\"452.703\" y1=\"262.029\" x2=\"423.455\" y2=\"268.705\" stroke-linecap=\"round\" style=\"stroke:white;stroke-width:4\"/><line x1=\"423.455\" y1=\"268.705\" x2=\"400.0\" y2=\"250.0\" stroke-linecap=\"round\" style=\"stroke:white;stroke-width:4\"/>\n",
              "        <g visibility=visible transform=\"rotate(360.00000000000006,400.0,250.0) translate(382.0, 232.0)\">\n",
              "<path style=\" stroke:none;fill-rule:evenodd;fill:white;fill-opacity:1;\" d=\"M 18.214844 0.632812 C 16.109375 1.800781 15.011719 4.074219 15.074219 7.132812 L 15.085938 7.652344 L 14.785156 7.496094 C 13.476562 6.824219 11.957031 6.671875 10.40625 7.066406 C 8.46875 7.550781 6.515625 9.15625 4.394531 11.992188 C 3.0625 13.777344 2.679688 14.636719 3.042969 15.027344 L 3.15625 15.152344 L 3.519531 15.152344 C 4.238281 15.152344 4.828125 14.886719 8.1875 13.039062 C 9.386719 12.378906 10.371094 11.839844 10.378906 11.839844 C 10.386719 11.839844 10.355469 11.929688 10.304688 12.035156 C 9.832031 13.09375 9.257812 14.820312 8.96875 16.078125 C 7.914062 20.652344 8.617188 24.53125 11.070312 27.660156 C 11.351562 28.015625 11.363281 27.914062 10.972656 28.382812 C 8.925781 30.84375 7.945312 33.28125 8.238281 35.1875 C 8.289062 35.527344 8.28125 35.523438 8.917969 35.523438 C 10.941406 35.523438 13.074219 34.207031 15.136719 31.6875 C 15.359375 31.417969 15.328125 31.425781 15.5625 31.574219 C 16.292969 32.042969 18.023438 32.964844 18.175781 32.964844 C 18.335938 32.964844 19.941406 32.210938 20.828125 31.71875 C 20.996094 31.625 21.136719 31.554688 21.136719 31.558594 C 21.203125 31.664062 21.898438 32.414062 22.222656 32.730469 C 23.835938 34.300781 25.5625 35.132812 27.582031 35.300781 C 27.90625 35.328125 27.9375 35.308594 28.007812 34.984375 C 28.382812 33.242188 27.625 30.925781 25.863281 28.425781 L 25.542969 27.96875 L 25.699219 27.785156 C 28.945312 23.960938 29.132812 18.699219 26.257812 11.96875 L 26.207031 11.84375 L 27.945312 12.703125 C 31.53125 14.476562 32.316406 14.800781 33.03125 14.800781 C 33.976562 14.800781 33.78125 13.9375 32.472656 12.292969 C 28.519531 7.355469 25.394531 5.925781 21.921875 7.472656 L 21.558594 7.636719 L 21.578125 7.542969 C 21.699219 6.992188 21.761719 5.742188 21.699219 5.164062 C 21.496094 3.296875 20.664062 1.964844 19.003906 0.855469 C 18.480469 0.503906 18.457031 0.5 18.214844 0.632812\"/>\n",
              "</g>\n",
              "      </svg>\n",
              "    "
            ]
          },
          "metadata": {}
        }
      ],
      "source": [
        "make_turtle()\n",
        "polygon(7, 30) # first argument is sides, second argument is length"
      ]
    },
    {
      "cell_type": "markdown",
      "id": "dc0226db",
      "metadata": {
        "id": "dc0226db"
      },
      "source": [
        "When a function has more than a few numeric arguments, it is easy to forget what they are, or what order they should be in.\n",
        "It can be a good idea to include the names of the parameters in the argument list."
      ]
    },
    {
      "cell_type": "code",
      "execution_count": 56,
      "id": "8ff2a5f4",
      "metadata": {
        "tags": [],
        "id": "8ff2a5f4",
        "outputId": "8ac92142-07b6-4433-86c7-42c6d73fb0f1",
        "colab": {
          "base_uri": "https://localhost:8080/",
          "height": 521
        }
      },
      "outputs": [
        {
          "output_type": "display_data",
          "data": {
            "text/plain": [
              "<IPython.core.display.HTML object>"
            ],
            "text/html": [
              "\n",
              "      <svg width=\"800\" height=\"500\">\n",
              "        <rect width=\"100%\" height=\"100%\" fill=\"black\"/>\n",
              "        <line x1=\"400\" y1=\"250\" x2=\"400.0\" y2=\"220.0\" stroke-linecap=\"round\" style=\"stroke:white;stroke-width:4\"/><line x1=\"400.0\" y1=\"220.0\" x2=\"423.455\" y2=\"201.295\" stroke-linecap=\"round\" style=\"stroke:white;stroke-width:4\"/><line x1=\"423.455\" y1=\"201.295\" x2=\"452.703\" y2=\"207.971\" stroke-linecap=\"round\" style=\"stroke:white;stroke-width:4\"/><line x1=\"452.703\" y1=\"207.971\" x2=\"465.72\" y2=\"235.0\" stroke-linecap=\"round\" style=\"stroke:white;stroke-width:4\"/><line x1=\"465.72\" y1=\"235.0\" x2=\"452.703\" y2=\"262.029\" stroke-linecap=\"round\" style=\"stroke:white;stroke-width:4\"/><line x1=\"452.703\" y1=\"262.029\" x2=\"423.455\" y2=\"268.705\" stroke-linecap=\"round\" style=\"stroke:white;stroke-width:4\"/><line x1=\"423.455\" y1=\"268.705\" x2=\"400.0\" y2=\"250.0\" stroke-linecap=\"round\" style=\"stroke:white;stroke-width:4\"/>\n",
              "        <g visibility=visible transform=\"rotate(360.00000000000006,400.0,250.0) translate(382.0, 232.0)\">\n",
              "<path style=\" stroke:none;fill-rule:evenodd;fill:white;fill-opacity:1;\" d=\"M 18.214844 0.632812 C 16.109375 1.800781 15.011719 4.074219 15.074219 7.132812 L 15.085938 7.652344 L 14.785156 7.496094 C 13.476562 6.824219 11.957031 6.671875 10.40625 7.066406 C 8.46875 7.550781 6.515625 9.15625 4.394531 11.992188 C 3.0625 13.777344 2.679688 14.636719 3.042969 15.027344 L 3.15625 15.152344 L 3.519531 15.152344 C 4.238281 15.152344 4.828125 14.886719 8.1875 13.039062 C 9.386719 12.378906 10.371094 11.839844 10.378906 11.839844 C 10.386719 11.839844 10.355469 11.929688 10.304688 12.035156 C 9.832031 13.09375 9.257812 14.820312 8.96875 16.078125 C 7.914062 20.652344 8.617188 24.53125 11.070312 27.660156 C 11.351562 28.015625 11.363281 27.914062 10.972656 28.382812 C 8.925781 30.84375 7.945312 33.28125 8.238281 35.1875 C 8.289062 35.527344 8.28125 35.523438 8.917969 35.523438 C 10.941406 35.523438 13.074219 34.207031 15.136719 31.6875 C 15.359375 31.417969 15.328125 31.425781 15.5625 31.574219 C 16.292969 32.042969 18.023438 32.964844 18.175781 32.964844 C 18.335938 32.964844 19.941406 32.210938 20.828125 31.71875 C 20.996094 31.625 21.136719 31.554688 21.136719 31.558594 C 21.203125 31.664062 21.898438 32.414062 22.222656 32.730469 C 23.835938 34.300781 25.5625 35.132812 27.582031 35.300781 C 27.90625 35.328125 27.9375 35.308594 28.007812 34.984375 C 28.382812 33.242188 27.625 30.925781 25.863281 28.425781 L 25.542969 27.96875 L 25.699219 27.785156 C 28.945312 23.960938 29.132812 18.699219 26.257812 11.96875 L 26.207031 11.84375 L 27.945312 12.703125 C 31.53125 14.476562 32.316406 14.800781 33.03125 14.800781 C 33.976562 14.800781 33.78125 13.9375 32.472656 12.292969 C 28.519531 7.355469 25.394531 5.925781 21.921875 7.472656 L 21.558594 7.636719 L 21.578125 7.542969 C 21.699219 6.992188 21.761719 5.742188 21.699219 5.164062 C 21.496094 3.296875 20.664062 1.964844 19.003906 0.855469 C 18.480469 0.503906 18.457031 0.5 18.214844 0.632812\"/>\n",
              "</g>\n",
              "      </svg>\n",
              "    "
            ]
          },
          "metadata": {}
        }
      ],
      "source": [
        "make_turtle()\n",
        "polygon(n=7, length=30)"
      ]
    },
    {
      "cell_type": "markdown",
      "id": "6aa28eba",
      "metadata": {
        "id": "6aa28eba"
      },
      "source": [
        "These are sometimes called \"named arguments\" because they include the parameter names.\n",
        "But in Python they are more often called **keyword arguments** (not to be confused with Python keywords like `for` and `def`).\n",
        "\n",
        "This use of the assignment operator, `=`, is a reminder about how arguments and parameters work -- when you call a function, the arguments are assigned to the parameters."
      ]
    },
    {
      "cell_type": "markdown",
      "id": "b10184b4",
      "metadata": {
        "id": "b10184b4"
      },
      "source": [
        "## Approximating a circle\n",
        "\n",
        "Now suppose we want to draw a circle.\n",
        "We can do that, approximately, by drawing a polygon with a large number of sides, so each side is small enough that it's hard to see.\n",
        "Here is a function that uses `polygon` to draw a `30`-sided polygon that approximates a circle."
      ]
    },
    {
      "cell_type": "code",
      "execution_count": 57,
      "id": "7f2a5f28",
      "metadata": {
        "id": "7f2a5f28"
      },
      "outputs": [],
      "source": [
        "import math\n",
        "\n",
        "def circle(radius):\n",
        "    circumference = 2 * math.pi * radius\n",
        "    n = 30\n",
        "    length = circumference / n\n",
        "    polygon(n, length)"
      ]
    },
    {
      "cell_type": "markdown",
      "id": "39023314",
      "metadata": {
        "id": "39023314"
      },
      "source": [
        "`circle` takes the radius of the the circle as a parameter.\n",
        "It computes `circumference`, which is the circumference of a circle with the given radius.\n",
        "`n` is the number of sides, so `circumference / n` is the length of each side.\n",
        "\n",
        "This function might take a long time to run.\n",
        "We can speed it up by calling `make_turtle` with a keyword argument called `delay` that sets the time, in seconds, the turtle waits after each step.\n",
        "The default value is `0.2` seconds -- if we set it to `0.02` it runs about 10 times faster."
      ]
    },
    {
      "cell_type": "code",
      "execution_count": 66,
      "id": "75258056",
      "metadata": {
        "id": "75258056",
        "outputId": "fd2fda9e-8161-442b-e620-a1dde5c75e3b",
        "colab": {
          "base_uri": "https://localhost:8080/",
          "height": 521
        }
      },
      "outputs": [
        {
          "output_type": "display_data",
          "data": {
            "text/plain": [
              "<IPython.core.display.HTML object>"
            ],
            "text/html": [
              "\n",
              "      <svg width=\"800\" height=\"500\">\n",
              "        <rect width=\"100%\" height=\"100%\" fill=\"black\"/>\n",
              "        <line x1=\"400\" y1=\"250\" x2=\"400.0\" y2=\"243.717\" stroke-linecap=\"round\" style=\"stroke:white;stroke-width:4\"/><line x1=\"400.0\" y1=\"243.717\" x2=\"401.306\" y2=\"237.571\" stroke-linecap=\"round\" style=\"stroke:white;stroke-width:4\"/><line x1=\"401.306\" y1=\"237.571\" x2=\"403.862\" y2=\"231.831\" stroke-linecap=\"round\" style=\"stroke:white;stroke-width:4\"/><line x1=\"403.862\" y1=\"231.831\" x2=\"407.555\" y2=\"226.748\" stroke-linecap=\"round\" style=\"stroke:white;stroke-width:4\"/><line x1=\"407.555\" y1=\"226.748\" x2=\"412.224\" y2=\"222.544\" stroke-linecap=\"round\" style=\"stroke:white;stroke-width:4\"/><line x1=\"412.224\" y1=\"222.544\" x2=\"417.665\" y2=\"219.402\" stroke-linecap=\"round\" style=\"stroke:white;stroke-width:4\"/><line x1=\"417.665\" y1=\"219.402\" x2=\"423.641\" y2=\"217.46\" stroke-linecap=\"round\" style=\"stroke:white;stroke-width:4\"/><line x1=\"423.641\" y1=\"217.46\" x2=\"429.89\" y2=\"216.803\" stroke-linecap=\"round\" style=\"stroke:white;stroke-width:4\"/><line x1=\"429.89\" y1=\"216.803\" x2=\"436.139\" y2=\"217.46\" stroke-linecap=\"round\" style=\"stroke:white;stroke-width:4\"/><line x1=\"436.139\" y1=\"217.46\" x2=\"442.115\" y2=\"219.402\" stroke-linecap=\"round\" style=\"stroke:white;stroke-width:4\"/><line x1=\"442.115\" y1=\"219.402\" x2=\"447.556\" y2=\"222.544\" stroke-linecap=\"round\" style=\"stroke:white;stroke-width:4\"/><line x1=\"447.556\" y1=\"222.544\" x2=\"452.225\" y2=\"226.748\" stroke-linecap=\"round\" style=\"stroke:white;stroke-width:4\"/><line x1=\"452.225\" y1=\"226.748\" x2=\"455.918\" y2=\"231.831\" stroke-linecap=\"round\" style=\"stroke:white;stroke-width:4\"/><line x1=\"455.918\" y1=\"231.831\" x2=\"458.474\" y2=\"237.571\" stroke-linecap=\"round\" style=\"stroke:white;stroke-width:4\"/><line x1=\"458.474\" y1=\"237.571\" x2=\"459.78\" y2=\"243.717\" stroke-linecap=\"round\" style=\"stroke:white;stroke-width:4\"/><line x1=\"459.78\" y1=\"243.717\" x2=\"459.78\" y2=\"250.0\" stroke-linecap=\"round\" style=\"stroke:white;stroke-width:4\"/><line x1=\"459.78\" y1=\"250.0\" x2=\"458.474\" y2=\"256.146\" stroke-linecap=\"round\" style=\"stroke:white;stroke-width:4\"/><line x1=\"458.474\" y1=\"256.146\" x2=\"455.918\" y2=\"261.886\" stroke-linecap=\"round\" style=\"stroke:white;stroke-width:4\"/><line x1=\"455.918\" y1=\"261.886\" x2=\"452.225\" y2=\"266.969\" stroke-linecap=\"round\" style=\"stroke:white;stroke-width:4\"/><line x1=\"452.225\" y1=\"266.969\" x2=\"447.556\" y2=\"271.173\" stroke-linecap=\"round\" style=\"stroke:white;stroke-width:4\"/><line x1=\"447.556\" y1=\"271.173\" x2=\"442.115\" y2=\"274.315\" stroke-linecap=\"round\" style=\"stroke:white;stroke-width:4\"/><line x1=\"442.115\" y1=\"274.315\" x2=\"436.139\" y2=\"276.257\" stroke-linecap=\"round\" style=\"stroke:white;stroke-width:4\"/><line x1=\"436.139\" y1=\"276.257\" x2=\"429.89\" y2=\"276.914\" stroke-linecap=\"round\" style=\"stroke:white;stroke-width:4\"/><line x1=\"429.89\" y1=\"276.914\" x2=\"423.641\" y2=\"276.257\" stroke-linecap=\"round\" style=\"stroke:white;stroke-width:4\"/><line x1=\"423.641\" y1=\"276.257\" x2=\"417.665\" y2=\"274.315\" stroke-linecap=\"round\" style=\"stroke:white;stroke-width:4\"/><line x1=\"417.665\" y1=\"274.315\" x2=\"412.224\" y2=\"271.173\" stroke-linecap=\"round\" style=\"stroke:white;stroke-width:4\"/><line x1=\"412.224\" y1=\"271.173\" x2=\"407.555\" y2=\"266.969\" stroke-linecap=\"round\" style=\"stroke:white;stroke-width:4\"/><line x1=\"407.555\" y1=\"266.969\" x2=\"403.862\" y2=\"261.886\" stroke-linecap=\"round\" style=\"stroke:white;stroke-width:4\"/><line x1=\"403.862\" y1=\"261.886\" x2=\"401.306\" y2=\"256.146\" stroke-linecap=\"round\" style=\"stroke:white;stroke-width:4\"/><line x1=\"401.306\" y1=\"256.146\" x2=\"400.0\" y2=\"250.0\" stroke-linecap=\"round\" style=\"stroke:white;stroke-width:4\"/>\n",
              "        <g visibility=visible transform=\"rotate(360.0,400.0,250.0) translate(382.0, 232.0)\">\n",
              "<path style=\" stroke:none;fill-rule:evenodd;fill:white;fill-opacity:1;\" d=\"M 18.214844 0.632812 C 16.109375 1.800781 15.011719 4.074219 15.074219 7.132812 L 15.085938 7.652344 L 14.785156 7.496094 C 13.476562 6.824219 11.957031 6.671875 10.40625 7.066406 C 8.46875 7.550781 6.515625 9.15625 4.394531 11.992188 C 3.0625 13.777344 2.679688 14.636719 3.042969 15.027344 L 3.15625 15.152344 L 3.519531 15.152344 C 4.238281 15.152344 4.828125 14.886719 8.1875 13.039062 C 9.386719 12.378906 10.371094 11.839844 10.378906 11.839844 C 10.386719 11.839844 10.355469 11.929688 10.304688 12.035156 C 9.832031 13.09375 9.257812 14.820312 8.96875 16.078125 C 7.914062 20.652344 8.617188 24.53125 11.070312 27.660156 C 11.351562 28.015625 11.363281 27.914062 10.972656 28.382812 C 8.925781 30.84375 7.945312 33.28125 8.238281 35.1875 C 8.289062 35.527344 8.28125 35.523438 8.917969 35.523438 C 10.941406 35.523438 13.074219 34.207031 15.136719 31.6875 C 15.359375 31.417969 15.328125 31.425781 15.5625 31.574219 C 16.292969 32.042969 18.023438 32.964844 18.175781 32.964844 C 18.335938 32.964844 19.941406 32.210938 20.828125 31.71875 C 20.996094 31.625 21.136719 31.554688 21.136719 31.558594 C 21.203125 31.664062 21.898438 32.414062 22.222656 32.730469 C 23.835938 34.300781 25.5625 35.132812 27.582031 35.300781 C 27.90625 35.328125 27.9375 35.308594 28.007812 34.984375 C 28.382812 33.242188 27.625 30.925781 25.863281 28.425781 L 25.542969 27.96875 L 25.699219 27.785156 C 28.945312 23.960938 29.132812 18.699219 26.257812 11.96875 L 26.207031 11.84375 L 27.945312 12.703125 C 31.53125 14.476562 32.316406 14.800781 33.03125 14.800781 C 33.976562 14.800781 33.78125 13.9375 32.472656 12.292969 C 28.519531 7.355469 25.394531 5.925781 21.921875 7.472656 L 21.558594 7.636719 L 21.578125 7.542969 C 21.699219 6.992188 21.761719 5.742188 21.699219 5.164062 C 21.496094 3.296875 20.664062 1.964844 19.003906 0.855469 C 18.480469 0.503906 18.457031 0.5 18.214844 0.632812\"/>\n",
              "</g>\n",
              "      </svg>\n",
              "    "
            ]
          },
          "metadata": {}
        }
      ],
      "source": [
        "make_turtle()\n",
        "circle(30)"
      ]
    },
    {
      "cell_type": "markdown",
      "id": "701f9cf8",
      "metadata": {
        "id": "701f9cf8"
      },
      "source": [
        "A limitation of this solution is that `n` is a constant, which means\n",
        "that for very big circles, the sides are too long, and for small\n",
        "circles, we waste time drawing very short sides.\n",
        "One option is to generalize the function by taking `n` as a parameter.\n",
        "But let's keep it simple for now."
      ]
    },
    {
      "cell_type": "markdown",
      "id": "c48f262c",
      "metadata": {
        "id": "c48f262c"
      },
      "source": [
        "## Refactoring\n",
        "\n",
        "Now let's write a more general version of `circle`, called `arc`, that takes a second parameter, `angle`, and draws an arc of a circle that spans the given angle.\n",
        "For example, if `angle` is `360` degrees, it draws a complete circle. If `angle` is `180` degrees, it draws a half circle.\n",
        "\n",
        "To write `circle`, we were able to reuse `polygon`, because a many-sided polygon is a good approximation of a circle.\n",
        "But we can't use `polygon` to write `arc`.\n",
        "\n",
        "Instead, we'll create the more general version of `polygon`, called `polyline`."
      ]
    },
    {
      "cell_type": "code",
      "execution_count": 67,
      "id": "381edd23",
      "metadata": {
        "id": "381edd23"
      },
      "outputs": [],
      "source": [
        "def polyline(n, length, angle):\n",
        "    for i in range(n):\n",
        "        forward(length)\n",
        "        left(angle)"
      ]
    },
    {
      "cell_type": "markdown",
      "id": "c2b2503e",
      "metadata": {
        "id": "c2b2503e"
      },
      "source": [
        "`polyline` takes as parameters the number of line segments to draw, `n`, the length of the segments, `length`, and the angle between them, `angle`.\n",
        "\n",
        "Now we can rewrite `polygon` to use `polyline`."
      ]
    },
    {
      "cell_type": "code",
      "execution_count": 68,
      "id": "2f4eecc0",
      "metadata": {
        "id": "2f4eecc0"
      },
      "outputs": [],
      "source": [
        "def polygon(n, length):\n",
        "    angle = 360.0 / n\n",
        "    polyline(n, length, angle)"
      ]
    },
    {
      "cell_type": "markdown",
      "id": "2714a59e",
      "metadata": {
        "id": "2714a59e"
      },
      "source": [
        "And we can use `polyline` to write `arc`."
      ]
    },
    {
      "cell_type": "code",
      "execution_count": 70,
      "id": "539466f6",
      "metadata": {
        "id": "539466f6"
      },
      "outputs": [],
      "source": [
        "def arc(radius, angle):\n",
        "    arc_length = 2 * math.pi * radius * angle / 360\n",
        "    n = 30\n",
        "    length = arc_length / n\n",
        "    step_angle = angle / n\n",
        "    polyline(n, length, step_angle)"
      ]
    },
    {
      "cell_type": "markdown",
      "id": "3c18773c",
      "metadata": {
        "id": "3c18773c"
      },
      "source": [
        "`arc` is similar to `circle`, except that it computes `arc_length`, which is a fraction of the circumference of a circle.\n",
        "\n",
        "Finally, we can rewrite `circle` to use `arc`."
      ]
    },
    {
      "cell_type": "code",
      "execution_count": 71,
      "id": "8e09f456",
      "metadata": {
        "id": "8e09f456"
      },
      "outputs": [],
      "source": [
        "def circle(radius):\n",
        "    arc(radius,  360)"
      ]
    },
    {
      "cell_type": "markdown",
      "id": "313a357c",
      "metadata": {
        "id": "313a357c"
      },
      "source": [
        "To check that these functions work as expected, we'll use them to draw something like a snail.\n",
        "With `delay=0`, the turtle runs as fast as possible."
      ]
    },
    {
      "cell_type": "code",
      "execution_count": 72,
      "id": "80d6eadd",
      "metadata": {
        "id": "80d6eadd",
        "outputId": "ae1f1120-0d6d-483f-da54-079119eba74e",
        "colab": {
          "base_uri": "https://localhost:8080/",
          "height": 521
        }
      },
      "outputs": [
        {
          "output_type": "display_data",
          "data": {
            "text/plain": [
              "<IPython.core.display.HTML object>"
            ],
            "text/html": [
              "\n",
              "      <svg width=\"800\" height=\"500\">\n",
              "        <rect width=\"100%\" height=\"100%\" fill=\"black\"/>\n",
              "        <line x1=\"400\" y1=\"250\" x2=\"400.0\" y2=\"241.0\" stroke-linecap=\"round\" style=\"stroke:white;stroke-width:4\"/><line x1=\"400.0\" y1=\"241.0\" x2=\"397.219\" y2=\"232.44\" stroke-linecap=\"round\" style=\"stroke:white;stroke-width:4\"/><line x1=\"397.219\" y1=\"232.44\" x2=\"391.929\" y2=\"225.159\" stroke-linecap=\"round\" style=\"stroke:white;stroke-width:4\"/><line x1=\"391.929\" y1=\"225.159\" x2=\"384.648\" y2=\"219.869\" stroke-linecap=\"round\" style=\"stroke:white;stroke-width:4\"/><line x1=\"384.648\" y1=\"219.869\" x2=\"376.088\" y2=\"217.088\" stroke-linecap=\"round\" style=\"stroke:white;stroke-width:4\"/><line x1=\"376.088\" y1=\"217.088\" x2=\"367.088\" y2=\"217.088\" stroke-linecap=\"round\" style=\"stroke:white;stroke-width:4\"/><line x1=\"367.088\" y1=\"217.088\" x2=\"358.528\" y2=\"219.869\" stroke-linecap=\"round\" style=\"stroke:white;stroke-width:4\"/><line x1=\"358.528\" y1=\"219.869\" x2=\"351.247\" y2=\"225.159\" stroke-linecap=\"round\" style=\"stroke:white;stroke-width:4\"/><line x1=\"351.247\" y1=\"225.159\" x2=\"345.957\" y2=\"232.44\" stroke-linecap=\"round\" style=\"stroke:white;stroke-width:4\"/><line x1=\"345.957\" y1=\"232.44\" x2=\"343.176\" y2=\"241.0\" stroke-linecap=\"round\" style=\"stroke:white;stroke-width:4\"/><line x1=\"343.176\" y1=\"241.0\" x2=\"343.176\" y2=\"250.0\" stroke-linecap=\"round\" style=\"stroke:white;stroke-width:4\"/><line x1=\"343.176\" y1=\"250.0\" x2=\"345.957\" y2=\"258.56\" stroke-linecap=\"round\" style=\"stroke:white;stroke-width:4\"/><line x1=\"345.957\" y1=\"258.56\" x2=\"351.247\" y2=\"265.841\" stroke-linecap=\"round\" style=\"stroke:white;stroke-width:4\"/><line x1=\"351.247\" y1=\"265.841\" x2=\"358.528\" y2=\"271.131\" stroke-linecap=\"round\" style=\"stroke:white;stroke-width:4\"/><line x1=\"358.528\" y1=\"271.131\" x2=\"367.088\" y2=\"273.912\" stroke-linecap=\"round\" style=\"stroke:white;stroke-width:4\"/><line x1=\"367.088\" y1=\"273.912\" x2=\"376.088\" y2=\"273.912\" stroke-linecap=\"round\" style=\"stroke:white;stroke-width:4\"/><line x1=\"376.088\" y1=\"273.912\" x2=\"384.648\" y2=\"271.131\" stroke-linecap=\"round\" style=\"stroke:white;stroke-width:4\"/><line x1=\"384.648\" y1=\"271.131\" x2=\"391.929\" y2=\"265.841\" stroke-linecap=\"round\" style=\"stroke:white;stroke-width:4\"/><line x1=\"391.929\" y1=\"265.841\" x2=\"397.219\" y2=\"258.56\" stroke-linecap=\"round\" style=\"stroke:white;stroke-width:4\"/><line x1=\"397.219\" y1=\"258.56\" x2=\"400.0\" y2=\"250.0\" stroke-linecap=\"round\" style=\"stroke:white;stroke-width:4\"/><line x1=\"400.0\" y1=\"250.0\" x2=\"400.0\" y2=\"247.149\" stroke-linecap=\"round\" style=\"stroke:white;stroke-width:4\"/><line x1=\"400.0\" y1=\"247.149\" x2=\"399.884\" y2=\"244.301\" stroke-linecap=\"round\" style=\"stroke:white;stroke-width:4\"/><line x1=\"399.884\" y1=\"244.301\" x2=\"399.652\" y2=\"241.46\" stroke-linecap=\"round\" style=\"stroke:white;stroke-width:4\"/><line x1=\"399.652\" y1=\"241.46\" x2=\"399.305\" y2=\"238.631\" stroke-linecap=\"round\" style=\"stroke:white;stroke-width:4\"/><line x1=\"399.305\" y1=\"238.631\" x2=\"398.843\" y2=\"235.818\" stroke-linecap=\"round\" style=\"stroke:white;stroke-width:4\"/><line x1=\"398.843\" y1=\"235.818\" x2=\"398.267\" y2=\"233.026\" stroke-linecap=\"round\" style=\"stroke:white;stroke-width:4\"/><line x1=\"398.267\" y1=\"233.026\" x2=\"397.577\" y2=\"230.26\" stroke-linecap=\"round\" style=\"stroke:white;stroke-width:4\"/><line x1=\"397.577\" y1=\"230.26\" x2=\"396.775\" y2=\"227.524\" stroke-linecap=\"round\" style=\"stroke:white;stroke-width:4\"/><line x1=\"396.775\" y1=\"227.524\" x2=\"395.863\" y2=\"224.823\" stroke-linecap=\"round\" style=\"stroke:white;stroke-width:4\"/><line x1=\"395.863\" y1=\"224.823\" x2=\"394.841\" y2=\"222.162\" stroke-linecap=\"round\" style=\"stroke:white;stroke-width:4\"/><line x1=\"394.841\" y1=\"222.162\" x2=\"393.712\" y2=\"219.544\" stroke-linecap=\"round\" style=\"stroke:white;stroke-width:4\"/><line x1=\"393.712\" y1=\"219.544\" x2=\"392.477\" y2=\"216.975\" stroke-linecap=\"round\" style=\"stroke:white;stroke-width:4\"/><line x1=\"392.477\" y1=\"216.975\" x2=\"391.139\" y2=\"214.458\" stroke-linecap=\"round\" style=\"stroke:white;stroke-width:4\"/><line x1=\"391.139\" y1=\"214.458\" x2=\"389.699\" y2=\"211.998\" stroke-linecap=\"round\" style=\"stroke:white;stroke-width:4\"/><line x1=\"389.699\" y1=\"211.998\" x2=\"388.16\" y2=\"209.598\" stroke-linecap=\"round\" style=\"stroke:white;stroke-width:4\"/><line x1=\"388.16\" y1=\"209.598\" x2=\"386.525\" y2=\"207.263\" stroke-linecap=\"round\" style=\"stroke:white;stroke-width:4\"/><line x1=\"386.525\" y1=\"207.263\" x2=\"384.796\" y2=\"204.996\" stroke-linecap=\"round\" style=\"stroke:white;stroke-width:4\"/><line x1=\"384.796\" y1=\"204.996\" x2=\"382.976\" y2=\"202.802\" stroke-linecap=\"round\" style=\"stroke:white;stroke-width:4\"/><line x1=\"382.976\" y1=\"202.802\" x2=\"381.069\" y2=\"200.684\" stroke-linecap=\"round\" style=\"stroke:white;stroke-width:4\"/><line x1=\"381.069\" y1=\"200.684\" x2=\"379.077\" y2=\"198.645\" stroke-linecap=\"round\" style=\"stroke:white;stroke-width:4\"/><line x1=\"379.077\" y1=\"198.645\" x2=\"377.003\" y2=\"196.689\" stroke-linecap=\"round\" style=\"stroke:white;stroke-width:4\"/><line x1=\"377.003\" y1=\"196.689\" x2=\"374.852\" y2=\"194.819\" stroke-linecap=\"round\" style=\"stroke:white;stroke-width:4\"/><line x1=\"374.852\" y1=\"194.819\" x2=\"372.626\" y2=\"193.038\" stroke-linecap=\"round\" style=\"stroke:white;stroke-width:4\"/><line x1=\"372.626\" y1=\"193.038\" x2=\"370.33\" y2=\"191.349\" stroke-linecap=\"round\" style=\"stroke:white;stroke-width:4\"/><line x1=\"370.33\" y1=\"191.349\" x2=\"367.967\" y2=\"189.755\" stroke-linecap=\"round\" style=\"stroke:white;stroke-width:4\"/><line x1=\"367.967\" y1=\"189.755\" x2=\"365.541\" y2=\"188.258\" stroke-linecap=\"round\" style=\"stroke:white;stroke-width:4\"/><line x1=\"365.541\" y1=\"188.258\" x2=\"363.056\" y2=\"186.861\" stroke-linecap=\"round\" style=\"stroke:white;stroke-width:4\"/><line x1=\"363.056\" y1=\"186.861\" x2=\"360.516\" y2=\"185.567\" stroke-linecap=\"round\" style=\"stroke:white;stroke-width:4\"/><line x1=\"360.516\" y1=\"185.567\" x2=\"357.925\" y2=\"184.377\" stroke-linecap=\"round\" style=\"stroke:white;stroke-width:4\"/><line x1=\"357.925\" y1=\"184.377\" x2=\"355.288\" y2=\"183.294\" stroke-linecap=\"round\" style=\"stroke:white;stroke-width:4\"/><line x1=\"355.288\" y1=\"183.294\" x2=\"353.32\" y2=\"182.578\" stroke-linecap=\"round\" style=\"stroke:white;stroke-width:4\"/><line x1=\"353.32\" y1=\"182.578\" x2=\"351.246\" y2=\"182.287\" stroke-linecap=\"round\" style=\"stroke:white;stroke-width:4\"/><line x1=\"351.246\" y1=\"182.287\" x2=\"349.157\" y2=\"182.433\" stroke-linecap=\"round\" style=\"stroke:white;stroke-width:4\"/><line x1=\"349.157\" y1=\"182.433\" x2=\"347.144\" y2=\"183.01\" stroke-linecap=\"round\" style=\"stroke:white;stroke-width:4\"/><line x1=\"347.144\" y1=\"183.01\" x2=\"345.295\" y2=\"183.993\" stroke-linecap=\"round\" style=\"stroke:white;stroke-width:4\"/><line x1=\"345.295\" y1=\"183.993\" x2=\"343.691\" y2=\"185.339\" stroke-linecap=\"round\" style=\"stroke:white;stroke-width:4\"/><line x1=\"343.691\" y1=\"185.339\" x2=\"342.402\" y2=\"186.989\" stroke-linecap=\"round\" style=\"stroke:white;stroke-width:4\"/><line x1=\"342.402\" y1=\"186.989\" x2=\"341.484\" y2=\"188.871\" stroke-linecap=\"round\" style=\"stroke:white;stroke-width:4\"/><line x1=\"341.484\" y1=\"188.871\" x2=\"340.977\" y2=\"190.903\" stroke-linecap=\"round\" style=\"stroke:white;stroke-width:4\"/><line x1=\"340.977\" y1=\"190.903\" x2=\"340.904\" y2=\"192.996\" stroke-linecap=\"round\" style=\"stroke:white;stroke-width:4\"/><line x1=\"340.904\" y1=\"192.996\" x2=\"341.268\" y2=\"195.059\" stroke-linecap=\"round\" style=\"stroke:white;stroke-width:4\"/><line x1=\"341.268\" y1=\"195.059\" x2=\"342.053\" y2=\"197.001\" stroke-linecap=\"round\" style=\"stroke:white;stroke-width:4\"/><line x1=\"342.053\" y1=\"197.001\" x2=\"343.224\" y2=\"198.737\" stroke-linecap=\"round\" style=\"stroke:white;stroke-width:4\"/><line x1=\"343.224\" y1=\"198.737\" x2=\"344.731\" y2=\"200.192\" stroke-linecap=\"round\" style=\"stroke:white;stroke-width:4\"/><line x1=\"344.731\" y1=\"200.192\" x2=\"346.507\" y2=\"201.302\" stroke-linecap=\"round\" style=\"stroke:white;stroke-width:4\"/><line x1=\"346.507\" y1=\"201.302\" x2=\"348.475\" y2=\"202.018\" stroke-linecap=\"round\" style=\"stroke:white;stroke-width:4\"/><line x1=\"348.475\" y1=\"202.018\" x2=\"350.549\" y2=\"202.309\" stroke-linecap=\"round\" style=\"stroke:white;stroke-width:4\"/><line x1=\"350.549\" y1=\"202.309\" x2=\"352.638\" y2=\"202.163\" stroke-linecap=\"round\" style=\"stroke:white;stroke-width:4\"/><line x1=\"352.638\" y1=\"202.163\" x2=\"354.651\" y2=\"201.586\" stroke-linecap=\"round\" style=\"stroke:white;stroke-width:4\"/><line x1=\"354.651\" y1=\"201.586\" x2=\"356.5\" y2=\"200.603\" stroke-linecap=\"round\" style=\"stroke:white;stroke-width:4\"/><line x1=\"356.5\" y1=\"200.603\" x2=\"358.104\" y2=\"199.257\" stroke-linecap=\"round\" style=\"stroke:white;stroke-width:4\"/><line x1=\"358.104\" y1=\"199.257\" x2=\"359.393\" y2=\"197.607\" stroke-linecap=\"round\" style=\"stroke:white;stroke-width:4\"/><line x1=\"359.393\" y1=\"197.607\" x2=\"360.311\" y2=\"195.725\" stroke-linecap=\"round\" style=\"stroke:white;stroke-width:4\"/><line x1=\"360.311\" y1=\"195.725\" x2=\"360.818\" y2=\"193.693\" stroke-linecap=\"round\" style=\"stroke:white;stroke-width:4\"/><line x1=\"360.818\" y1=\"193.693\" x2=\"360.891\" y2=\"191.6\" stroke-linecap=\"round\" style=\"stroke:white;stroke-width:4\"/><line x1=\"360.891\" y1=\"191.6\" x2=\"360.527\" y2=\"189.537\" stroke-linecap=\"round\" style=\"stroke:white;stroke-width:4\"/><line x1=\"360.527\" y1=\"189.537\" x2=\"359.742\" y2=\"187.595\" stroke-linecap=\"round\" style=\"stroke:white;stroke-width:4\"/><line x1=\"359.742\" y1=\"187.595\" x2=\"358.571\" y2=\"185.859\" stroke-linecap=\"round\" style=\"stroke:white;stroke-width:4\"/><line x1=\"358.571\" y1=\"185.859\" x2=\"357.064\" y2=\"184.404\" stroke-linecap=\"round\" style=\"stroke:white;stroke-width:4\"/><line x1=\"357.064\" y1=\"184.404\" x2=\"355.288\" y2=\"183.294\" stroke-linecap=\"round\" style=\"stroke:white;stroke-width:4\"/>\n",
              "        <g visibility=visible transform=\"rotate(289.9999999999999,355.288,183.294) translate(337.288, 165.294)\">\n",
              "<path style=\" stroke:none;fill-rule:evenodd;fill:white;fill-opacity:1;\" d=\"M 18.214844 0.632812 C 16.109375 1.800781 15.011719 4.074219 15.074219 7.132812 L 15.085938 7.652344 L 14.785156 7.496094 C 13.476562 6.824219 11.957031 6.671875 10.40625 7.066406 C 8.46875 7.550781 6.515625 9.15625 4.394531 11.992188 C 3.0625 13.777344 2.679688 14.636719 3.042969 15.027344 L 3.15625 15.152344 L 3.519531 15.152344 C 4.238281 15.152344 4.828125 14.886719 8.1875 13.039062 C 9.386719 12.378906 10.371094 11.839844 10.378906 11.839844 C 10.386719 11.839844 10.355469 11.929688 10.304688 12.035156 C 9.832031 13.09375 9.257812 14.820312 8.96875 16.078125 C 7.914062 20.652344 8.617188 24.53125 11.070312 27.660156 C 11.351562 28.015625 11.363281 27.914062 10.972656 28.382812 C 8.925781 30.84375 7.945312 33.28125 8.238281 35.1875 C 8.289062 35.527344 8.28125 35.523438 8.917969 35.523438 C 10.941406 35.523438 13.074219 34.207031 15.136719 31.6875 C 15.359375 31.417969 15.328125 31.425781 15.5625 31.574219 C 16.292969 32.042969 18.023438 32.964844 18.175781 32.964844 C 18.335938 32.964844 19.941406 32.210938 20.828125 31.71875 C 20.996094 31.625 21.136719 31.554688 21.136719 31.558594 C 21.203125 31.664062 21.898438 32.414062 22.222656 32.730469 C 23.835938 34.300781 25.5625 35.132812 27.582031 35.300781 C 27.90625 35.328125 27.9375 35.308594 28.007812 34.984375 C 28.382812 33.242188 27.625 30.925781 25.863281 28.425781 L 25.542969 27.96875 L 25.699219 27.785156 C 28.945312 23.960938 29.132812 18.699219 26.257812 11.96875 L 26.207031 11.84375 L 27.945312 12.703125 C 31.53125 14.476562 32.316406 14.800781 33.03125 14.800781 C 33.976562 14.800781 33.78125 13.9375 32.472656 12.292969 C 28.519531 7.355469 25.394531 5.925781 21.921875 7.472656 L 21.558594 7.636719 L 21.578125 7.542969 C 21.699219 6.992188 21.761719 5.742188 21.699219 5.164062 C 21.496094 3.296875 20.664062 1.964844 19.003906 0.855469 C 18.480469 0.503906 18.457031 0.5 18.214844 0.632812\"/>\n",
              "</g>\n",
              "      </svg>\n",
              "    "
            ]
          },
          "metadata": {}
        }
      ],
      "source": [
        "make_turtle(delay=0)\n",
        "polygon(n=20, length=9)\n",
        "arc(radius=70, angle=70)\n",
        "circle(radius=10)"
      ]
    },
    {
      "cell_type": "markdown",
      "id": "a34da3d8",
      "metadata": {
        "id": "a34da3d8"
      },
      "source": [
        "In this example, we started with working code and reorganized it with different functions.\n",
        "Changes like this, which improve the code without changing its behavior, are called **refactoring**.\n",
        "\n",
        "If we had planned ahead, we might have written `polyline` first and avoided refactoring, but often you don't know enough at the beginning of a project to design all the functions.\n",
        "Once you start coding, you understand the problem better.\n",
        "Sometimes refactoring is a sign that you have learned something."
      ]
    },
    {
      "cell_type": "markdown",
      "id": "d18c9d16",
      "metadata": {
        "id": "d18c9d16"
      },
      "source": [
        "## Stack diagram\n",
        "\n",
        "When we call `circle`, it calls `arc`, which calls `polyline`.\n",
        "We can use a stack diagram to show this sequence of function calls and the parameters for each one."
      ]
    },
    {
      "cell_type": "code",
      "execution_count": null,
      "id": "1571ee71",
      "metadata": {
        "tags": [],
        "id": "1571ee71"
      },
      "outputs": [],
      "source": []
    },
    {
      "cell_type": "code",
      "execution_count": null,
      "id": "f4e37360",
      "metadata": {
        "tags": [],
        "id": "f4e37360"
      },
      "outputs": [],
      "source": []
    },
    {
      "cell_type": "markdown",
      "id": "3160bba1",
      "metadata": {
        "id": "3160bba1"
      },
      "source": [
        "Notice that the value of `angle` in `polyline` is different from the value of `angle` in `arc`.\n",
        "Parameters are local, which means you can use the same parameter name in different functions; it's a different variable in each function, and it can refer to a different value."
      ]
    },
    {
      "cell_type": "markdown",
      "id": "c23552d3",
      "metadata": {
        "id": "c23552d3"
      },
      "source": [
        "## A development plan\n",
        "\n",
        "A **development plan** is a process for writing programs.\n",
        "The process we used in this chapter is \"encapsulation and generalization\".\n",
        "The steps of this process are:\n",
        "\n",
        "1.  Start by writing a small program with no function definitions.\n",
        "\n",
        "2.  Once you get the program working, identify a coherent piece of it,\n",
        "    encapsulate the piece in a function and give it a name.\n",
        "\n",
        "3.  Generalize the function by adding appropriate parameters.\n",
        "\n",
        "4.  Repeat Steps 1 to 3 until you have a set of working functions.\n",
        "\n",
        "5.  Look for opportunities to improve the program by refactoring. For\n",
        "    example, if you have similar code in several places, consider\n",
        "    factoring it into an appropriately general function.\n",
        "\n",
        "This process has some drawbacks -- we will see alternatives later -- but it can be useful if you don't know ahead of time how to divide the program into functions.\n",
        "This approach lets you design as you go along."
      ]
    },
    {
      "cell_type": "markdown",
      "id": "a3b6b83d",
      "metadata": {
        "id": "a3b6b83d"
      },
      "source": [
        "The design of a function has two parts:\n",
        "\n",
        "* The **interface** is how the function is used, including its name, the parameters it takes and what the function is supposed to do.\n",
        "\n",
        "* The **implementation** is how the function does what it's supposed to do.\n",
        "\n",
        "For example, here's the first version of `circle` we wrote, which uses `polygon`."
      ]
    },
    {
      "cell_type": "code",
      "execution_count": 73,
      "id": "baf964ba",
      "metadata": {
        "id": "baf964ba"
      },
      "outputs": [],
      "source": [
        "def circle(radius):\n",
        "    circumference = 2 * math.pi * radius\n",
        "    n = 30\n",
        "    length = circumference / n\n",
        "    polygon(n, length)"
      ]
    },
    {
      "cell_type": "markdown",
      "id": "5d3d2e79",
      "metadata": {
        "id": "5d3d2e79"
      },
      "source": [
        "And here's the refactored version that uses `arc`."
      ]
    },
    {
      "cell_type": "code",
      "execution_count": 74,
      "id": "e2e006d5",
      "metadata": {
        "id": "e2e006d5"
      },
      "outputs": [],
      "source": [
        "def circle(radius):\n",
        "    arc(radius,  360)"
      ]
    },
    {
      "cell_type": "markdown",
      "id": "b726f72c",
      "metadata": {
        "id": "b726f72c"
      },
      "source": [
        "These two functions have the same interface -- they take the same parameters and do the same thing -- but they have different implementations."
      ]
    },
    {
      "cell_type": "markdown",
      "id": "3e3bae20",
      "metadata": {
        "tags": [],
        "id": "3e3bae20"
      },
      "source": [
        "## Docstrings\n",
        "\n",
        "A **docstring** is a string at the beginning of a function that explains the interface (\"doc\" is short for \"documentation\").\n",
        "Here is an example:"
      ]
    },
    {
      "cell_type": "code",
      "execution_count": 76,
      "id": "b68f3682",
      "metadata": {
        "id": "b68f3682"
      },
      "outputs": [],
      "source": [
        "def polyline(n, length, angle):\n",
        "    for i in range(n):\n",
        "        forward(length)\n",
        "        left(angle)"
      ]
    },
    {
      "cell_type": "markdown",
      "id": "55b60cbc",
      "metadata": {
        "id": "55b60cbc"
      },
      "source": [
        "By convention, docstrings are triple-quoted strings, also known as **multiline strings** because the triple quotes allow the string to span more than one line.\n",
        "\n",
        "A docstring should:\n",
        "\n",
        "* Explain concisely what the function does, without getting into the details of how it works,\n",
        "\n",
        "* Explain what effect each parameter has on the behavior of the function, and\n",
        "\n",
        "* Indicate what type each parameter should be, if it is not obvious.\n",
        "\n",
        "Writing this kind of documentation is an important part of interface design.\n",
        "A well-designed interface should be simple to explain; if you have a hard time explaining one of your functions, maybe the interface could be improved."
      ]
    },
    {
      "cell_type": "markdown",
      "id": "f1115940",
      "metadata": {
        "id": "f1115940"
      },
      "source": [
        "## Debugging\n",
        "\n",
        "An interface is like a contract between a function and a caller. The\n",
        "caller agrees to provide certain arguments and the function agrees to\n",
        "do certain work.\n",
        "\n",
        "For example, `polyline` requires three arguments: `n` has to be an integer; `length` should be a positive number; and `angle` has to be a number, which is understood to be in degrees.\n",
        "\n",
        "These requirements are called **preconditions** because they are supposed to be true before the function starts executing. Conversely, conditions at the end of the function are **postconditions**.\n",
        "Postconditions include the intended effect of the function (like drawing line segments) and any side effects (like moving the turtle or making other changes).\n",
        "\n",
        "Preconditions are the responsibility of the caller. If the caller violates a precondition and the function doesn't work correctly, the bug is in the caller, not the function.\n",
        "\n",
        "If the preconditions are satisfied and the postconditions are not, the bug is in the function. If your pre- and postconditions are clear, they can help with debugging."
      ]
    },
    {
      "cell_type": "markdown",
      "id": "a4d33a70",
      "metadata": {
        "id": "a4d33a70"
      },
      "source": [
        "## Glossary\n",
        "\n",
        "**interface design:**\n",
        "A process for designing the interface of a function, which includes the parameters it should take.\n",
        "\n",
        "**canvas:**\n",
        "A window used to display graphical elements including lines, circles, rectangles, and other shapes.\n",
        "\n",
        "**encapsulation:**\n",
        " The process of transforming a sequence of statements into a function definition.\n",
        "\n",
        "**generalization:**\n",
        " The process of replacing something unnecessarily specific (like a number) with something appropriately general (like a variable or parameter).\n",
        "\n",
        "**keyword argument:**\n",
        "An argument that includes the name of the parameter.\n",
        "\n",
        "**refactoring:**\n",
        " The process of modifying a working program to improve function interfaces and other qualities of the code.\n",
        "\n",
        "**development plan:**\n",
        "A process for writing programs.\n",
        "\n",
        "**docstring:**\n",
        " A string that appears at the top of a function definition to document the function's interface.\n",
        "\n",
        "**multiline string:**\n",
        "A string enclosed in triple quotes that can span more than one line of a program.\n",
        "\n",
        "**precondition:**\n",
        " A requirement that should be satisfied by the caller before a function starts.\n",
        "\n",
        "**postcondition:**\n",
        " A requirement that should be satisfied by the function before it ends."
      ]
    },
    {
      "cell_type": "markdown",
      "id": "0bfe2e19",
      "metadata": {
        "id": "0bfe2e19"
      },
      "source": [
        "## Exercises"
      ]
    },
    {
      "cell_type": "code",
      "execution_count": 77,
      "id": "9f94061e",
      "metadata": {
        "tags": [],
        "id": "9f94061e"
      },
      "outputs": [],
      "source": [
        "from ColabTurtle.Turtle import penup, pendown"
      ]
    },
    {
      "cell_type": "markdown",
      "id": "50ed5c38",
      "metadata": {
        "id": "50ed5c38"
      },
      "source": [
        "For the exercises below, there are a few more turtle functions you might want to use.\n",
        "\n",
        "* `penup` lifts the turtle's imaginary pen so it doesn't leave a trail when it moves.\n",
        "\n",
        "* `pendown` puts the pen back down.\n",
        "\n",
        "The following function uses `penup` and `pendown` to move the turtle without leaving a trail."
      ]
    },
    {
      "cell_type": "code",
      "execution_count": 78,
      "id": "6f9a0106",
      "metadata": {
        "id": "6f9a0106"
      },
      "outputs": [],
      "source": [
        "def jump(length):\n",
        "  penup()\n",
        "  forward(100)\n",
        "  pendown()"
      ]
    },
    {
      "cell_type": "markdown",
      "id": "c78c1e17",
      "metadata": {
        "id": "c78c1e17"
      },
      "source": [
        "### Exercise\n",
        "\n",
        "Write a function called `rectangle` that draws a rectangle with given side lengths.\n",
        "For example, here's a rectangle that's `80` units wide and `40` units tall."
      ]
    },
    {
      "cell_type": "code",
      "execution_count": 80,
      "id": "c54ba660",
      "metadata": {
        "id": "c54ba660"
      },
      "outputs": [],
      "source": [
        "def rectangle(width, height):\n",
        "    for i in range(2):\n",
        "        forward(width)\n",
        "        right(90)\n",
        "        forward(height)\n",
        "        right(90)"
      ]
    },
    {
      "cell_type": "markdown",
      "id": "4b05078c",
      "metadata": {
        "tags": [],
        "id": "4b05078c"
      },
      "source": [
        "You can use the following code to test your function."
      ]
    },
    {
      "cell_type": "code",
      "execution_count": 85,
      "id": "1311ee08",
      "metadata": {
        "tags": [],
        "id": "1311ee08",
        "outputId": "b9288003-f263-4160-976c-9be85b06aa5e",
        "colab": {
          "base_uri": "https://localhost:8080/",
          "height": 521
        }
      },
      "outputs": [
        {
          "output_type": "display_data",
          "data": {
            "text/plain": [
              "<IPython.core.display.HTML object>"
            ],
            "text/html": [
              "\n",
              "      <svg width=\"800\" height=\"500\">\n",
              "        <rect width=\"100%\" height=\"100%\" fill=\"black\"/>\n",
              "        <line x1=\"355.288\" y1=\"183.294\" x2=\"280.113\" y2=\"155.932\" stroke-linecap=\"round\" style=\"stroke:white;stroke-width:4\"/><line x1=\"280.113\" y1=\"155.932\" x2=\"293.794\" y2=\"118.344\" stroke-linecap=\"round\" style=\"stroke:white;stroke-width:4\"/><line x1=\"293.794\" y1=\"118.344\" x2=\"368.969\" y2=\"145.706\" stroke-linecap=\"round\" style=\"stroke:white;stroke-width:4\"/><line x1=\"368.969\" y1=\"145.706\" x2=\"355.288\" y2=\"183.294\" stroke-linecap=\"round\" style=\"stroke:white;stroke-width:4\"/>\n",
              "        <g visibility=visible transform=\"rotate(289.9999999999999,355.288,183.294) translate(337.288, 165.294)\">\n",
              "<path style=\" stroke:none;fill-rule:evenodd;fill:white;fill-opacity:1;\" d=\"M 18.214844 0.632812 C 16.109375 1.800781 15.011719 4.074219 15.074219 7.132812 L 15.085938 7.652344 L 14.785156 7.496094 C 13.476562 6.824219 11.957031 6.671875 10.40625 7.066406 C 8.46875 7.550781 6.515625 9.15625 4.394531 11.992188 C 3.0625 13.777344 2.679688 14.636719 3.042969 15.027344 L 3.15625 15.152344 L 3.519531 15.152344 C 4.238281 15.152344 4.828125 14.886719 8.1875 13.039062 C 9.386719 12.378906 10.371094 11.839844 10.378906 11.839844 C 10.386719 11.839844 10.355469 11.929688 10.304688 12.035156 C 9.832031 13.09375 9.257812 14.820312 8.96875 16.078125 C 7.914062 20.652344 8.617188 24.53125 11.070312 27.660156 C 11.351562 28.015625 11.363281 27.914062 10.972656 28.382812 C 8.925781 30.84375 7.945312 33.28125 8.238281 35.1875 C 8.289062 35.527344 8.28125 35.523438 8.917969 35.523438 C 10.941406 35.523438 13.074219 34.207031 15.136719 31.6875 C 15.359375 31.417969 15.328125 31.425781 15.5625 31.574219 C 16.292969 32.042969 18.023438 32.964844 18.175781 32.964844 C 18.335938 32.964844 19.941406 32.210938 20.828125 31.71875 C 20.996094 31.625 21.136719 31.554688 21.136719 31.558594 C 21.203125 31.664062 21.898438 32.414062 22.222656 32.730469 C 23.835938 34.300781 25.5625 35.132812 27.582031 35.300781 C 27.90625 35.328125 27.9375 35.308594 28.007812 34.984375 C 28.382812 33.242188 27.625 30.925781 25.863281 28.425781 L 25.542969 27.96875 L 25.699219 27.785156 C 28.945312 23.960938 29.132812 18.699219 26.257812 11.96875 L 26.207031 11.84375 L 27.945312 12.703125 C 31.53125 14.476562 32.316406 14.800781 33.03125 14.800781 C 33.976562 14.800781 33.78125 13.9375 32.472656 12.292969 C 28.519531 7.355469 25.394531 5.925781 21.921875 7.472656 L 21.558594 7.636719 L 21.578125 7.542969 C 21.699219 6.992188 21.761719 5.742188 21.699219 5.164062 C 21.496094 3.296875 20.664062 1.964844 19.003906 0.855469 C 18.480469 0.503906 18.457031 0.5 18.214844 0.632812\"/>\n",
              "</g>\n",
              "      </svg>\n",
              "    "
            ]
          },
          "metadata": {}
        }
      ],
      "source": [
        "turtle.clear()\n",
        "rectangle (80, 40)"
      ]
    },
    {
      "cell_type": "markdown",
      "id": "8b8faaf6",
      "metadata": {
        "id": "8b8faaf6"
      },
      "source": [
        "### Exercise\n",
        "\n",
        "Write a function called `rhombus` that draws a rhombus with a given side length and a given interior angle. For example, here's a rhombus with side length `50` and an interior angle of `60` degrees."
      ]
    },
    {
      "cell_type": "code",
      "execution_count": 88,
      "id": "3db6f106",
      "metadata": {
        "id": "3db6f106"
      },
      "outputs": [],
      "source": [
        "def rhombus(length, angle):\n",
        "    for i in range(2):\n",
        "        forward(length)\n",
        "        left(angle)\n",
        "        forward(length)\n",
        "        left(180 - angle)"
      ]
    },
    {
      "cell_type": "markdown",
      "id": "7917956b",
      "metadata": {
        "tags": [],
        "id": "7917956b"
      },
      "source": [
        "You can use the following code to test your function."
      ]
    },
    {
      "cell_type": "code",
      "execution_count": 89,
      "id": "1d845de9",
      "metadata": {
        "tags": [],
        "id": "1d845de9",
        "outputId": "b62d72d6-5ff1-4b5b-c2d0-9029e53dcaab",
        "colab": {
          "base_uri": "https://localhost:8080/",
          "height": 521
        }
      },
      "outputs": [
        {
          "output_type": "display_data",
          "data": {
            "text/plain": [
              "<IPython.core.display.HTML object>"
            ],
            "text/html": [
              "\n",
              "      <svg width=\"800\" height=\"500\">\n",
              "        <rect width=\"100%\" height=\"100%\" fill=\"black\"/>\n",
              "        <line x1=\"355.288\" y1=\"183.294\" x2=\"308.303\" y2=\"166.193\" stroke-linecap=\"round\" style=\"stroke:white;stroke-width:4\"/><line x1=\"308.303\" y1=\"166.193\" x2=\"270.001\" y2=\"198.332\" stroke-linecap=\"round\" style=\"stroke:white;stroke-width:4\"/><line x1=\"270.001\" y1=\"198.332\" x2=\"316.986\" y2=\"215.433\" stroke-linecap=\"round\" style=\"stroke:white;stroke-width:4\"/><line x1=\"316.986\" y1=\"215.433\" x2=\"355.288\" y2=\"183.294\" stroke-linecap=\"round\" style=\"stroke:white;stroke-width:4\"/>\n",
              "        <g visibility=visible transform=\"rotate(289.9999999999999,355.288,183.294) translate(337.288, 165.294)\">\n",
              "<path style=\" stroke:none;fill-rule:evenodd;fill:white;fill-opacity:1;\" d=\"M 18.214844 0.632812 C 16.109375 1.800781 15.011719 4.074219 15.074219 7.132812 L 15.085938 7.652344 L 14.785156 7.496094 C 13.476562 6.824219 11.957031 6.671875 10.40625 7.066406 C 8.46875 7.550781 6.515625 9.15625 4.394531 11.992188 C 3.0625 13.777344 2.679688 14.636719 3.042969 15.027344 L 3.15625 15.152344 L 3.519531 15.152344 C 4.238281 15.152344 4.828125 14.886719 8.1875 13.039062 C 9.386719 12.378906 10.371094 11.839844 10.378906 11.839844 C 10.386719 11.839844 10.355469 11.929688 10.304688 12.035156 C 9.832031 13.09375 9.257812 14.820312 8.96875 16.078125 C 7.914062 20.652344 8.617188 24.53125 11.070312 27.660156 C 11.351562 28.015625 11.363281 27.914062 10.972656 28.382812 C 8.925781 30.84375 7.945312 33.28125 8.238281 35.1875 C 8.289062 35.527344 8.28125 35.523438 8.917969 35.523438 C 10.941406 35.523438 13.074219 34.207031 15.136719 31.6875 C 15.359375 31.417969 15.328125 31.425781 15.5625 31.574219 C 16.292969 32.042969 18.023438 32.964844 18.175781 32.964844 C 18.335938 32.964844 19.941406 32.210938 20.828125 31.71875 C 20.996094 31.625 21.136719 31.554688 21.136719 31.558594 C 21.203125 31.664062 21.898438 32.414062 22.222656 32.730469 C 23.835938 34.300781 25.5625 35.132812 27.582031 35.300781 C 27.90625 35.328125 27.9375 35.308594 28.007812 34.984375 C 28.382812 33.242188 27.625 30.925781 25.863281 28.425781 L 25.542969 27.96875 L 25.699219 27.785156 C 28.945312 23.960938 29.132812 18.699219 26.257812 11.96875 L 26.207031 11.84375 L 27.945312 12.703125 C 31.53125 14.476562 32.316406 14.800781 33.03125 14.800781 C 33.976562 14.800781 33.78125 13.9375 32.472656 12.292969 C 28.519531 7.355469 25.394531 5.925781 21.921875 7.472656 L 21.558594 7.636719 L 21.578125 7.542969 C 21.699219 6.992188 21.761719 5.742188 21.699219 5.164062 C 21.496094 3.296875 20.664062 1.964844 19.003906 0.855469 C 18.480469 0.503906 18.457031 0.5 18.214844 0.632812\"/>\n",
              "</g>\n",
              "      </svg>\n",
              "    "
            ]
          },
          "metadata": {}
        }
      ],
      "source": [
        "turtle.clear()\n",
        "rhombus(50, 60)"
      ]
    },
    {
      "cell_type": "markdown",
      "id": "a9175a90",
      "metadata": {
        "id": "a9175a90"
      },
      "source": [
        "### Exercise\n",
        "\n",
        "Now write a more general function called `parallelogram` that draws a quadrilateral with parallel sides. Then rewrite `rectangle` and `rhombus` to use `parallelogram`."
      ]
    },
    {
      "cell_type": "code",
      "execution_count": 90,
      "id": "895005cb",
      "metadata": {
        "id": "895005cb"
      },
      "outputs": [],
      "source": [
        "def parallelogram(width, height, angle):\n",
        "    for i in range(2):\n",
        "        forward(width)\n",
        "        left(angle)\n",
        "        forward(height)\n",
        "        left(180 - angle)"
      ]
    },
    {
      "cell_type": "code",
      "execution_count": 91,
      "id": "7e7d34b0",
      "metadata": {
        "id": "7e7d34b0"
      },
      "outputs": [],
      "source": [
        "def rectangle(width, height):\n",
        "    parallelogram(width, height, 90)"
      ]
    },
    {
      "cell_type": "code",
      "execution_count": 92,
      "id": "481396f9",
      "metadata": {
        "id": "481396f9"
      },
      "outputs": [],
      "source": [
        "def rhombus(length, angle):\n",
        "    parallelogram(length, length, angle)"
      ]
    },
    {
      "cell_type": "markdown",
      "id": "c03bd4a2",
      "metadata": {
        "tags": [],
        "id": "c03bd4a2"
      },
      "source": [
        "You can use the following code to test your functions."
      ]
    },
    {
      "cell_type": "code",
      "execution_count": 96,
      "id": "c8dfebc9",
      "metadata": {
        "tags": [],
        "id": "c8dfebc9",
        "outputId": "02d2f8c8-d3c1-4779-a07b-0b8846ddca44",
        "colab": {
          "base_uri": "https://localhost:8080/",
          "height": 521
        }
      },
      "outputs": [
        {
          "output_type": "display_data",
          "data": {
            "text/plain": [
              "<IPython.core.display.HTML object>"
            ],
            "text/html": [
              "\n",
              "      <svg width=\"800\" height=\"500\">\n",
              "        <rect width=\"100%\" height=\"100%\" fill=\"black\"/>\n",
              "        <line x1=\"355.288\" y1=\"183.294\" x2=\"298.906\" y2=\"162.773\" stroke-linecap=\"round\" style=\"stroke:white;stroke-width:4\"/><line x1=\"298.906\" y1=\"162.773\" x2=\"229.624\" y2=\"202.773\" stroke-linecap=\"round\" style=\"stroke:white;stroke-width:4\"/><line x1=\"229.624\" y1=\"202.773\" x2=\"286.006\" y2=\"223.294\" stroke-linecap=\"round\" style=\"stroke:white;stroke-width:4\"/><line x1=\"286.006\" y1=\"223.294\" x2=\"355.288\" y2=\"183.294\" stroke-linecap=\"round\" style=\"stroke:white;stroke-width:4\"/>\n",
              "        <g visibility=visible transform=\"rotate(289.9999999999999,355.288,183.294) translate(337.288, 165.294)\">\n",
              "<path style=\" stroke:none;fill-rule:evenodd;fill:white;fill-opacity:1;\" d=\"M 18.214844 0.632812 C 16.109375 1.800781 15.011719 4.074219 15.074219 7.132812 L 15.085938 7.652344 L 14.785156 7.496094 C 13.476562 6.824219 11.957031 6.671875 10.40625 7.066406 C 8.46875 7.550781 6.515625 9.15625 4.394531 11.992188 C 3.0625 13.777344 2.679688 14.636719 3.042969 15.027344 L 3.15625 15.152344 L 3.519531 15.152344 C 4.238281 15.152344 4.828125 14.886719 8.1875 13.039062 C 9.386719 12.378906 10.371094 11.839844 10.378906 11.839844 C 10.386719 11.839844 10.355469 11.929688 10.304688 12.035156 C 9.832031 13.09375 9.257812 14.820312 8.96875 16.078125 C 7.914062 20.652344 8.617188 24.53125 11.070312 27.660156 C 11.351562 28.015625 11.363281 27.914062 10.972656 28.382812 C 8.925781 30.84375 7.945312 33.28125 8.238281 35.1875 C 8.289062 35.527344 8.28125 35.523438 8.917969 35.523438 C 10.941406 35.523438 13.074219 34.207031 15.136719 31.6875 C 15.359375 31.417969 15.328125 31.425781 15.5625 31.574219 C 16.292969 32.042969 18.023438 32.964844 18.175781 32.964844 C 18.335938 32.964844 19.941406 32.210938 20.828125 31.71875 C 20.996094 31.625 21.136719 31.554688 21.136719 31.558594 C 21.203125 31.664062 21.898438 32.414062 22.222656 32.730469 C 23.835938 34.300781 25.5625 35.132812 27.582031 35.300781 C 27.90625 35.328125 27.9375 35.308594 28.007812 34.984375 C 28.382812 33.242188 27.625 30.925781 25.863281 28.425781 L 25.542969 27.96875 L 25.699219 27.785156 C 28.945312 23.960938 29.132812 18.699219 26.257812 11.96875 L 26.207031 11.84375 L 27.945312 12.703125 C 31.53125 14.476562 32.316406 14.800781 33.03125 14.800781 C 33.976562 14.800781 33.78125 13.9375 32.472656 12.292969 C 28.519531 7.355469 25.394531 5.925781 21.921875 7.472656 L 21.558594 7.636719 L 21.578125 7.542969 C 21.699219 6.992188 21.761719 5.742188 21.699219 5.164062 C 21.496094 3.296875 20.664062 1.964844 19.003906 0.855469 C 18.480469 0.503906 18.457031 0.5 18.214844 0.632812\"/>\n",
              "</g>\n",
              "      </svg>\n",
              "    "
            ]
          },
          "metadata": {}
        }
      ],
      "source": [
        "turtle.clear()\n",
        "parallelogram(60, 80, 50)"
      ]
    },
    {
      "cell_type": "markdown",
      "id": "991ab59d",
      "metadata": {
        "id": "991ab59d"
      },
      "source": [
        "### Exercise\n",
        "\n",
        "Write an appropriately general set of functions that can draw shapes like this.\n",
        "\n",
        "![](https://github.com/AllenDowney/ThinkPython/raw/v3/jupyturtle_pie.png)\n",
        "\n",
        "Hint: Write a function called `triangle` that draws one triangular segment, and then a function called `draw_pie` that uses `triangle`."
      ]
    },
    {
      "cell_type": "code",
      "execution_count": 111,
      "id": "8be6442e",
      "metadata": {
        "id": "8be6442e"
      },
      "outputs": [],
      "source": [
        "def triangle(length, angle):\n",
        "  for i in range(3):\n",
        "    turtle.forward(length)\n",
        "    turtle.right(angle)\n",
        "\n",
        "def draw_pie(num_segments, radius):\n",
        "  angle = 360 / num_segments\n",
        "  for i in range(num_segments):\n",
        "    triangle(radius, angle)\n",
        "    turtle.right(angle)"
      ]
    },
    {
      "cell_type": "code",
      "execution_count": null,
      "id": "be1b7ed8",
      "metadata": {
        "id": "be1b7ed8"
      },
      "outputs": [],
      "source": []
    },
    {
      "cell_type": "markdown",
      "id": "8702c0ad",
      "metadata": {
        "tags": [],
        "id": "8702c0ad"
      },
      "source": [
        "You can use the following code to test your functions."
      ]
    },
    {
      "cell_type": "code",
      "execution_count": 116,
      "id": "c519ca39",
      "metadata": {
        "tags": [],
        "id": "c519ca39",
        "outputId": "fd1cb344-950d-4406-c703-484ad0bba2ed",
        "colab": {
          "base_uri": "https://localhost:8080/",
          "height": 715
        }
      },
      "outputs": [
        {
          "output_type": "display_data",
          "data": {
            "text/plain": [
              "<IPython.core.display.HTML object>"
            ],
            "text/html": [
              "\n",
              "      <svg width=\"800\" height=\"500\">\n",
              "        <rect width=\"100%\" height=\"100%\" fill=\"black\"/>\n",
              "        \n",
              "        <g visibility=visible transform=\"rotate(379.9999999999999,200.934,-47.331) translate(182.934, -65.331)\">\n",
              "<path style=\" stroke:none;fill-rule:evenodd;fill:white;fill-opacity:1;\" d=\"M 18.214844 0.632812 C 16.109375 1.800781 15.011719 4.074219 15.074219 7.132812 L 15.085938 7.652344 L 14.785156 7.496094 C 13.476562 6.824219 11.957031 6.671875 10.40625 7.066406 C 8.46875 7.550781 6.515625 9.15625 4.394531 11.992188 C 3.0625 13.777344 2.679688 14.636719 3.042969 15.027344 L 3.15625 15.152344 L 3.519531 15.152344 C 4.238281 15.152344 4.828125 14.886719 8.1875 13.039062 C 9.386719 12.378906 10.371094 11.839844 10.378906 11.839844 C 10.386719 11.839844 10.355469 11.929688 10.304688 12.035156 C 9.832031 13.09375 9.257812 14.820312 8.96875 16.078125 C 7.914062 20.652344 8.617188 24.53125 11.070312 27.660156 C 11.351562 28.015625 11.363281 27.914062 10.972656 28.382812 C 8.925781 30.84375 7.945312 33.28125 8.238281 35.1875 C 8.289062 35.527344 8.28125 35.523438 8.917969 35.523438 C 10.941406 35.523438 13.074219 34.207031 15.136719 31.6875 C 15.359375 31.417969 15.328125 31.425781 15.5625 31.574219 C 16.292969 32.042969 18.023438 32.964844 18.175781 32.964844 C 18.335938 32.964844 19.941406 32.210938 20.828125 31.71875 C 20.996094 31.625 21.136719 31.554688 21.136719 31.558594 C 21.203125 31.664062 21.898438 32.414062 22.222656 32.730469 C 23.835938 34.300781 25.5625 35.132812 27.582031 35.300781 C 27.90625 35.328125 27.9375 35.308594 28.007812 34.984375 C 28.382812 33.242188 27.625 30.925781 25.863281 28.425781 L 25.542969 27.96875 L 25.699219 27.785156 C 28.945312 23.960938 29.132812 18.699219 26.257812 11.96875 L 26.207031 11.84375 L 27.945312 12.703125 C 31.53125 14.476562 32.316406 14.800781 33.03125 14.800781 C 33.976562 14.800781 33.78125 13.9375 32.472656 12.292969 C 28.519531 7.355469 25.394531 5.925781 21.921875 7.472656 L 21.558594 7.636719 L 21.578125 7.542969 C 21.699219 6.992188 21.761719 5.742188 21.699219 5.164062 C 21.496094 3.296875 20.664062 1.964844 19.003906 0.855469 C 18.480469 0.503906 18.457031 0.5 18.214844 0.632812\"/>\n",
              "</g>\n",
              "      </svg>\n",
              "    "
            ]
          },
          "metadata": {}
        },
        {
          "output_type": "error",
          "ename": "NameError",
          "evalue": "name 'length' is not defined",
          "traceback": [
            "\u001b[0;31m---------------------------------------------------------------------------\u001b[0m",
            "\u001b[0;31mNameError\u001b[0m                                 Traceback (most recent call last)",
            "\u001b[0;32m<ipython-input-116-ccb9fa6a25cc>\u001b[0m in \u001b[0;36m<cell line: 0>\u001b[0;34m()\u001b[0m\n\u001b[1;32m      1\u001b[0m \u001b[0mturtle\u001b[0m\u001b[0;34m.\u001b[0m\u001b[0mclear\u001b[0m\u001b[0;34m(\u001b[0m\u001b[0;34m)\u001b[0m\u001b[0;34m\u001b[0m\u001b[0;34m\u001b[0m\u001b[0m\n\u001b[0;32m----> 2\u001b[0;31m \u001b[0mbase_length\u001b[0m \u001b[0;34m=\u001b[0m \u001b[0mlength\u001b[0m\u001b[0;34m\u001b[0m\u001b[0;34m\u001b[0m\u001b[0m\n\u001b[0m\u001b[1;32m      3\u001b[0m \u001b[0mturtle\u001b[0m\u001b[0;34m.\u001b[0m\u001b[0mpenup\u001b[0m\u001b[0;34m(\u001b[0m\u001b[0;34m)\u001b[0m\u001b[0;34m\u001b[0m\u001b[0;34m\u001b[0m\u001b[0m\n\u001b[1;32m      4\u001b[0m \u001b[0mturtle\u001b[0m\u001b[0;34m.\u001b[0m\u001b[0mbackward\u001b[0m\u001b[0;34m(\u001b[0m\u001b[0mbase_length\u001b[0m \u001b[0;34m/\u001b[0m \u001b[0;36m2\u001b[0m\u001b[0;34m)\u001b[0m\u001b[0;34m\u001b[0m\u001b[0;34m\u001b[0m\u001b[0m\n\u001b[1;32m      5\u001b[0m \u001b[0mturtle\u001b[0m\u001b[0;34m.\u001b[0m\u001b[0mpendown\u001b[0m\u001b[0;34m(\u001b[0m\u001b[0;34m)\u001b[0m\u001b[0;34m\u001b[0m\u001b[0;34m\u001b[0m\u001b[0m\n",
            "\u001b[0;31mNameError\u001b[0m: name 'length' is not defined"
          ]
        }
      ],
      "source": [
        "   turtle.clear()\n",
        "   base_length = length\n",
        "   turtle.penup()\n",
        "   turtle.backward(base_length / 2)\n",
        "   turtle.pendown()"
      ]
    },
    {
      "cell_type": "code",
      "execution_count": null,
      "id": "89ce198a",
      "metadata": {
        "tags": [],
        "id": "89ce198a"
      },
      "outputs": [],
      "source": []
    },
    {
      "cell_type": "markdown",
      "id": "9c78b76f",
      "metadata": {
        "id": "9c78b76f"
      },
      "source": [
        "### Exercise\n",
        "\n",
        "Write an appropriately general set of functions that can draw flowers like this.\n",
        "\n",
        "![](https://github.com/AllenDowney/ThinkPython/raw/v3/jupyturtle_flower.png)\n",
        "\n",
        "Hint: Use `arc` to write a function called `petal` that draws one flower petal."
      ]
    },
    {
      "cell_type": "code",
      "execution_count": null,
      "id": "0f0e7498",
      "metadata": {
        "id": "0f0e7498"
      },
      "outputs": [],
      "source": []
    },
    {
      "cell_type": "code",
      "execution_count": null,
      "id": "6c0d0bff",
      "metadata": {
        "id": "6c0d0bff"
      },
      "outputs": [],
      "source": []
    },
    {
      "cell_type": "markdown",
      "id": "8fe06dea",
      "metadata": {
        "tags": [],
        "id": "8fe06dea"
      },
      "source": [
        "You can use the following code to test your functions.\n",
        "\n",
        "Because the solution draws a lot of small line segments, it tends to slow down as it runs.\n",
        "To avoid that, you can add the keyword argument `auto_render=False` to avoid drawing after every step, and then call the `render` function at the end to show the result.\n",
        "\n",
        "While you are debugging, you might want to remove `auto_render=False`."
      ]
    },
    {
      "cell_type": "code",
      "execution_count": null,
      "id": "04193da5",
      "metadata": {
        "tags": [],
        "id": "04193da5"
      },
      "outputs": [],
      "source": []
    },
    {
      "cell_type": "code",
      "execution_count": null,
      "id": "4cfea3b0",
      "metadata": {
        "tags": [],
        "id": "4cfea3b0"
      },
      "outputs": [],
      "source": []
    },
    {
      "cell_type": "markdown",
      "id": "9d9f35d1",
      "metadata": {
        "id": "9d9f35d1"
      },
      "source": [
        "### Ask a virtual assistant\n",
        "\n",
        "There are several modules like `jupyturtle` in Python, and the one we used in this chapter has been customized for this book.\n",
        "So if you ask a virtual assistant for help, it won't know which module to use.\n",
        "But if you give it a few examples to work with, it can probably figure it out.\n",
        "For example, try this prompt and see if it can write a function that draws a spiral:\n",
        "\n",
        "```\n",
        "The following program uses a turtle graphics module to draw a circle:\n",
        "\n",
        "from jupyturtle import make_turtle, forward, left\n",
        "import math\n",
        "\n",
        "def polygon(n, length):\n",
        "    angle = 360 / n\n",
        "    for i in range(n):\n",
        "        forward(length)\n",
        "        left(angle)\n",
        "        \n",
        "def circle(radius):\n",
        "    circumference = 2 * math.pi * radius\n",
        "    n = 30\n",
        "    length = circumference / n\n",
        "    polygon(n, length)\n",
        "    \n",
        "make_turtle(delay=0)\n",
        "circle(30)\n",
        "\n",
        "Write a function that draws a spiral.\n",
        "```"
      ]
    },
    {
      "cell_type": "markdown",
      "id": "7beb2afe",
      "metadata": {
        "id": "7beb2afe"
      },
      "source": [
        "Keep in mind that the result might use features we have not seen yet, and it might have errors.\n",
        "Copy the code from the VA and see if you can get it working.\n",
        "If you didn't get what you wanted, try modifying the prompt.\n"
      ]
    },
    {
      "cell_type": "code",
      "execution_count": null,
      "id": "46d3151c",
      "metadata": {
        "id": "46d3151c"
      },
      "outputs": [],
      "source": []
    },
    {
      "cell_type": "code",
      "execution_count": null,
      "id": "186c7fbc",
      "metadata": {
        "id": "186c7fbc"
      },
      "outputs": [],
      "source": []
    },
    {
      "cell_type": "markdown",
      "id": "a7f4edf8",
      "metadata": {
        "tags": [],
        "id": "a7f4edf8"
      },
      "source": [
        "[Think Python: 3rd Edition](https://allendowney.github.io/ThinkPython/index.html)\n",
        "\n",
        "Copyright 2024 [Allen B. Downey](https://allendowney.com)\n",
        "\n",
        "Code license: [MIT License](https://mit-license.org/)\n",
        "\n",
        "Text license: [Creative Commons Attribution-NonCommercial-ShareAlike 4.0 International](https://creativecommons.org/licenses/by-nc-sa/4.0/)"
      ]
    }
  ],
  "metadata": {
    "celltoolbar": "Tags",
    "kernelspec": {
      "display_name": "Python 3 (ipykernel)",
      "language": "python",
      "name": "python3"
    },
    "language_info": {
      "codemirror_mode": {
        "name": "ipython",
        "version": 3
      },
      "file_extension": ".py",
      "mimetype": "text/x-python",
      "name": "python",
      "nbconvert_exporter": "python",
      "pygments_lexer": "ipython3",
      "version": "3.10.11"
    },
    "colab": {
      "provenance": []
    }
  },
  "nbformat": 4,
  "nbformat_minor": 5
}