{
  "cells": [
    {
      "cell_type": "markdown",
      "id": "1331faa1",
      "metadata": {
        "id": "1331faa1"
      },
      "source": [
        "You can order print and ebook versions of *Think Python 3e* from\n",
        "[Bookshop.org](https://bookshop.org/a/98697/9781098155438) and\n",
        "[Amazon](https://www.amazon.com/_/dp/1098155432?smid=ATVPDKIKX0DER&_encoding=UTF8&tag=oreilly20-20&_encoding=UTF8&tag=greenteapre01-20&linkCode=ur2&linkId=e2a529f94920295d27ec8a06e757dc7c&camp=1789&creative=9325)."
      ]
    },
    {
      "cell_type": "code",
      "execution_count": null,
      "id": "361d390a",
      "metadata": {
        "tags": [],
        "id": "361d390a"
      },
      "outputs": [],
      "source": [
        "# EXAMPLES DONE AT BOTTOM"
      ]
    },
    {
      "cell_type": "markdown",
      "id": "9d97603b",
      "metadata": {
        "id": "9d97603b"
      },
      "source": [
        "# Strings and Regular Expressions\n",
        "\n",
        "Strings are not like integers, floats, and booleans. A string is a **sequence**, which means it contains multiple values in a particular order.\n",
        "In this chapter we'll see how to access the values that make up a string, and we'll use functions that process strings.\n",
        "\n",
        "We'll also use regular expressions, which are a powerful tool for finding patterns in a string and performing operations like search and replace.\n",
        "\n",
        "As an exercise, you'll have a chance to apply these tools to a word game called Wordle."
      ]
    },
    {
      "cell_type": "markdown",
      "id": "1280dd83",
      "metadata": {
        "id": "1280dd83"
      },
      "source": [
        "## A string is a sequence\n",
        "\n",
        "A string is a sequence of characters. A **character** can be a letter (in almost any alphabet), a digit, a punctuation mark, or white space.\n",
        "\n",
        "You can select a character from a string with the bracket operator.\n",
        "This example statement selects character number 1 from `fruit` and\n",
        "assigns it to `letter`:"
      ]
    },
    {
      "cell_type": "code",
      "execution_count": null,
      "id": "9b53c1fe",
      "metadata": {
        "id": "9b53c1fe"
      },
      "outputs": [],
      "source": []
    },
    {
      "cell_type": "markdown",
      "id": "a307e429",
      "metadata": {
        "id": "a307e429"
      },
      "source": [
        "The expression in brackets is an **index**, so called because it *indicates* which character in the sequence to select.\n",
        "But the result might not be what you expect."
      ]
    },
    {
      "cell_type": "code",
      "execution_count": null,
      "id": "2cb1d58c",
      "metadata": {
        "id": "2cb1d58c"
      },
      "outputs": [],
      "source": []
    },
    {
      "cell_type": "markdown",
      "id": "57c13319",
      "metadata": {
        "id": "57c13319"
      },
      "source": [
        "The letter with index `1` is actually the second letter of the string.\n",
        "An index is an offset from the beginning of the string, so the offset of the first letter is `0`."
      ]
    },
    {
      "cell_type": "code",
      "execution_count": null,
      "id": "4ce1eb16",
      "metadata": {
        "id": "4ce1eb16"
      },
      "outputs": [],
      "source": []
    },
    {
      "cell_type": "markdown",
      "id": "57d8e54c",
      "metadata": {
        "id": "57d8e54c"
      },
      "source": [
        "You can think of `'b'` as the 0th letter of `'banana'` -- pronounced \"zero-eth\".\n",
        "\n",
        "The index in brackets can be a variable."
      ]
    },
    {
      "cell_type": "code",
      "execution_count": null,
      "id": "11201ba9",
      "metadata": {
        "id": "11201ba9"
      },
      "outputs": [],
      "source": []
    },
    {
      "cell_type": "markdown",
      "id": "9630e2e7",
      "metadata": {
        "id": "9630e2e7"
      },
      "source": [
        "Or an expression that contains variables and operators."
      ]
    },
    {
      "cell_type": "code",
      "execution_count": null,
      "id": "fc4383d0",
      "metadata": {
        "id": "fc4383d0"
      },
      "outputs": [],
      "source": []
    },
    {
      "cell_type": "markdown",
      "id": "939b602d",
      "metadata": {
        "id": "939b602d"
      },
      "source": [
        "But the value of the index has to be an integer -- otherwise you get a `TypeError`."
      ]
    },
    {
      "cell_type": "code",
      "execution_count": null,
      "id": "aec20975",
      "metadata": {
        "tags": [],
        "id": "aec20975"
      },
      "outputs": [],
      "source": []
    },
    {
      "cell_type": "markdown",
      "id": "3f0f7e3a",
      "metadata": {
        "id": "3f0f7e3a"
      },
      "source": [
        "As we saw in Chapter 1, we can use the built-in function `len` to get the length of a string."
      ]
    },
    {
      "cell_type": "code",
      "execution_count": null,
      "id": "796ce317",
      "metadata": {
        "id": "796ce317"
      },
      "outputs": [],
      "source": []
    },
    {
      "cell_type": "markdown",
      "id": "29013c47",
      "metadata": {
        "id": "29013c47"
      },
      "source": [
        "To get the last letter of a string, you might be tempted to write this:"
      ]
    },
    {
      "cell_type": "code",
      "execution_count": null,
      "id": "3ccb4a64",
      "metadata": {
        "tags": [],
        "id": "3ccb4a64"
      },
      "outputs": [],
      "source": []
    },
    {
      "cell_type": "markdown",
      "id": "b87e09bd",
      "metadata": {
        "id": "b87e09bd"
      },
      "source": [
        "But that causes an `IndexError` because there is no letter in `'banana'` with the index 6. Because we started counting at `0`, the six letters are numbered `0` to `5`. To get the last character, you have to subtract `1` from `n`:"
      ]
    },
    {
      "cell_type": "code",
      "execution_count": null,
      "id": "2cf99de6",
      "metadata": {
        "id": "2cf99de6"
      },
      "outputs": [],
      "source": []
    },
    {
      "cell_type": "markdown",
      "id": "3c79dcec",
      "metadata": {
        "id": "3c79dcec"
      },
      "source": [
        "But there's an easier way.\n",
        "To get the last letter in a string, you can use a negative index, which counts backward from the end."
      ]
    },
    {
      "cell_type": "code",
      "execution_count": null,
      "id": "3dedf6fa",
      "metadata": {
        "id": "3dedf6fa"
      },
      "outputs": [],
      "source": []
    },
    {
      "cell_type": "markdown",
      "id": "5677b727",
      "metadata": {
        "id": "5677b727"
      },
      "source": [
        "The index `-1` selects the last letter, `-2` selects the second to last, and so on."
      ]
    },
    {
      "cell_type": "markdown",
      "id": "8392a12a",
      "metadata": {
        "id": "8392a12a"
      },
      "source": [
        "## String slices\n",
        "\n",
        "A segment of a string is called a **slice**.\n",
        "Selecting a slice is similar to selecting a character."
      ]
    },
    {
      "cell_type": "code",
      "execution_count": null,
      "id": "386b9df2",
      "metadata": {
        "id": "386b9df2"
      },
      "outputs": [],
      "source": []
    },
    {
      "cell_type": "markdown",
      "id": "5cc12531",
      "metadata": {
        "id": "5cc12531"
      },
      "source": [
        "The operator `[n:m]` returns the part of the string from the `n`th\n",
        "character to the `m`th character, including the first but excluding the second.\n",
        "This behavior is counterintuitive, but it might help to imagine the indices pointing *between* the characters, as in this figure:"
      ]
    },
    {
      "cell_type": "code",
      "execution_count": null,
      "id": "05f9743d",
      "metadata": {
        "tags": [],
        "id": "05f9743d"
      },
      "outputs": [],
      "source": []
    },
    {
      "cell_type": "code",
      "execution_count": null,
      "id": "b09d8356",
      "metadata": {
        "tags": [],
        "id": "b09d8356"
      },
      "outputs": [],
      "source": []
    },
    {
      "cell_type": "markdown",
      "id": "c391abbf",
      "metadata": {
        "id": "c391abbf"
      },
      "source": [
        "For example, the slice `[3:6]` selects the letters `ana`, which means that `6` is legal as part of a slice, but not legal as an index.\n",
        "\n",
        "\n",
        "If you omit the first index, the slice starts at the beginning of the string."
      ]
    },
    {
      "cell_type": "code",
      "execution_count": null,
      "id": "00592313",
      "metadata": {
        "id": "00592313"
      },
      "outputs": [],
      "source": []
    },
    {
      "cell_type": "markdown",
      "id": "1bd7dcb1",
      "metadata": {
        "id": "1bd7dcb1"
      },
      "source": [
        "If you omit the second index, the slice goes to the end of the string:"
      ]
    },
    {
      "cell_type": "code",
      "execution_count": null,
      "id": "01684797",
      "metadata": {
        "id": "01684797"
      },
      "outputs": [],
      "source": []
    },
    {
      "cell_type": "markdown",
      "id": "4701123b",
      "metadata": {
        "id": "4701123b"
      },
      "source": [
        "If the first index is greater than or equal to the second, the result is an **empty string**, represented by two quotation marks:"
      ]
    },
    {
      "cell_type": "code",
      "execution_count": null,
      "id": "c7551ded",
      "metadata": {
        "id": "c7551ded"
      },
      "outputs": [],
      "source": []
    },
    {
      "cell_type": "markdown",
      "id": "d12735ab",
      "metadata": {
        "id": "d12735ab"
      },
      "source": [
        "An empty string contains no characters and has length 0.\n",
        "\n",
        "Continuing this example, what do you think `fruit[:]` means? Try it and\n",
        "see."
      ]
    },
    {
      "cell_type": "code",
      "execution_count": null,
      "id": "b5c5ce3e",
      "metadata": {
        "tags": [],
        "id": "b5c5ce3e"
      },
      "outputs": [],
      "source": []
    },
    {
      "cell_type": "markdown",
      "id": "918d3dd0",
      "metadata": {
        "id": "918d3dd0"
      },
      "source": [
        "## Strings are immutable\n",
        "\n",
        "It is tempting to use the `[]` operator on the left side of an\n",
        "assignment, with the intention of changing a character in a string, like this:"
      ]
    },
    {
      "cell_type": "code",
      "execution_count": null,
      "id": "69ccd380",
      "metadata": {
        "tags": [],
        "id": "69ccd380"
      },
      "outputs": [],
      "source": []
    },
    {
      "cell_type": "markdown",
      "id": "df3dd7d1",
      "metadata": {
        "id": "df3dd7d1"
      },
      "source": [
        "The result is a `TypeError`.\n",
        "In the error message, the \"object\" is the string and the \"item\" is the character\n",
        "we tried to assign.\n",
        "For now, an **object** is the same thing as a value, but we will refine that definition later.\n",
        "\n",
        "The reason for this error is that strings are **immutable**, which means you can't change an existing string.\n",
        "The best you can do is create a new string that is a variation of the original."
      ]
    },
    {
      "cell_type": "code",
      "execution_count": null,
      "id": "280d27a1",
      "metadata": {
        "id": "280d27a1"
      },
      "outputs": [],
      "source": []
    },
    {
      "cell_type": "markdown",
      "id": "2848546f",
      "metadata": {
        "id": "2848546f"
      },
      "source": [
        "This example concatenates a new first letter onto a slice of `greeting`.\n",
        "It has no effect on the original string."
      ]
    },
    {
      "cell_type": "code",
      "execution_count": null,
      "id": "8fa4a4cf",
      "metadata": {
        "id": "8fa4a4cf"
      },
      "outputs": [],
      "source": []
    },
    {
      "cell_type": "markdown",
      "id": "49e4da57",
      "metadata": {
        "id": "49e4da57"
      },
      "source": [
        "## String comparison\n",
        "\n",
        "The relational operators work on strings. To see if two strings are\n",
        "equal, we can use the `==` operator."
      ]
    },
    {
      "cell_type": "code",
      "execution_count": null,
      "id": "b754d462",
      "metadata": {
        "id": "b754d462"
      },
      "outputs": [],
      "source": []
    },
    {
      "cell_type": "markdown",
      "id": "e9be6097",
      "metadata": {
        "id": "e9be6097"
      },
      "source": [
        "Other relational operations are useful for putting words in alphabetical\n",
        "order:"
      ]
    },
    {
      "cell_type": "code",
      "execution_count": null,
      "id": "44374eb8",
      "metadata": {
        "id": "44374eb8"
      },
      "outputs": [],
      "source": []
    },
    {
      "cell_type": "code",
      "execution_count": null,
      "id": "a46f7035",
      "metadata": {
        "id": "a46f7035"
      },
      "outputs": [],
      "source": []
    },
    {
      "cell_type": "markdown",
      "id": "b66f449a",
      "metadata": {
        "id": "b66f449a"
      },
      "source": [
        "Python does not handle uppercase and lowercase letters the same way\n",
        "people do. All the uppercase letters come before all the lowercase\n",
        "letters, so:"
      ]
    },
    {
      "cell_type": "code",
      "execution_count": null,
      "id": "a691f9e2",
      "metadata": {
        "id": "a691f9e2"
      },
      "outputs": [],
      "source": []
    },
    {
      "cell_type": "markdown",
      "id": "f9b916c9",
      "metadata": {
        "id": "f9b916c9"
      },
      "source": [
        "To solve this problem, we can convert strings to a standard format, such as all lowercase, before performing the comparison.\n",
        "Keep that in mind if you have to defend yourself against a man armed with a Pineapple."
      ]
    },
    {
      "cell_type": "markdown",
      "id": "531069f1",
      "metadata": {
        "id": "531069f1"
      },
      "source": [
        "## String methods\n",
        "\n",
        "Strings provide methods that perform a variety of useful operations.\n",
        "A method is similar to a function -- it takes arguments and returns a value -- but the syntax is different.\n",
        "For example, the method `upper` takes a string and returns a new string with all uppercase letters.\n",
        "\n",
        "Instead of the function syntax `upper(word)`, it uses the method syntax `word.upper()`."
      ]
    },
    {
      "cell_type": "code",
      "execution_count": null,
      "id": "fa6140a6",
      "metadata": {
        "id": "fa6140a6"
      },
      "outputs": [],
      "source": []
    },
    {
      "cell_type": "markdown",
      "id": "1ac41744",
      "metadata": {
        "id": "1ac41744"
      },
      "source": [
        "This use of the dot operator specifies the name of the method, `upper`, and the name of the string to apply the method to, `word`.\n",
        "The empty parentheses indicate that this method takes no arguments.\n",
        "\n",
        "A method call is called an **invocation**; in this case, we would say that we are invoking `upper` on `word`."
      ]
    },
    {
      "cell_type": "markdown",
      "id": "2a13d4ef",
      "metadata": {
        "tags": [],
        "id": "2a13d4ef"
      },
      "source": [
        "## Writing files\n",
        "\n",
        "String operators and methods are useful for reading and writing text files.\n",
        "As an example, we'll work with the text of *Dracula*, a novel by Bram Stoker that is available from Project Gutenberg (<https://www.gutenberg.org/ebooks/345>)."
      ]
    },
    {
      "cell_type": "code",
      "execution_count": null,
      "id": "e3f1dc18",
      "metadata": {
        "tags": [],
        "id": "e3f1dc18"
      },
      "outputs": [],
      "source": []
    },
    {
      "cell_type": "markdown",
      "id": "963dda79",
      "metadata": {
        "id": "963dda79"
      },
      "source": [
        "I've downloaded the book in a plain text file called `pg345.txt`, which we can open for reading like this:"
      ]
    },
    {
      "cell_type": "code",
      "execution_count": null,
      "id": "bd2d5175",
      "metadata": {
        "id": "bd2d5175"
      },
      "outputs": [],
      "source": []
    },
    {
      "cell_type": "markdown",
      "id": "b5d99e8c",
      "metadata": {
        "id": "b5d99e8c"
      },
      "source": [
        "In addition to the text of the book, this file contains a section at the beginning with information about the book and a section at the end with information about the license.\n",
        "Before we process the text, we can remove this extra material by finding the special lines at the beginning and end that begin with `'***'`.\n",
        "\n",
        "The following function takes a line and checks whether it is one of the special lines.\n",
        "It uses the `startswith` method, which checks whether a string starts with a given sequence of characters."
      ]
    },
    {
      "cell_type": "code",
      "execution_count": null,
      "id": "b9c9318c",
      "metadata": {
        "id": "b9c9318c"
      },
      "outputs": [],
      "source": []
    },
    {
      "cell_type": "markdown",
      "id": "2efdfe35",
      "metadata": {
        "id": "2efdfe35"
      },
      "source": [
        "We can use this function to loop through the lines in the file and print only the special lines."
      ]
    },
    {
      "cell_type": "code",
      "execution_count": null,
      "id": "a9417d4c",
      "metadata": {
        "id": "a9417d4c"
      },
      "outputs": [],
      "source": []
    },
    {
      "cell_type": "markdown",
      "id": "07fb5992",
      "metadata": {
        "id": "07fb5992"
      },
      "source": [
        "Now let's create a new file, called `pg345_cleaned.txt`, that contains only the text of the book.\n",
        "In order to loop through the book again, we have to open it again for reading.\n",
        "And, to write a new file, we can open it for writing."
      ]
    },
    {
      "cell_type": "code",
      "execution_count": null,
      "id": "f2336825",
      "metadata": {
        "id": "f2336825"
      },
      "outputs": [],
      "source": []
    },
    {
      "cell_type": "markdown",
      "id": "96d881aa",
      "metadata": {
        "id": "96d881aa"
      },
      "source": [
        "`open` takes an optional parameters that specifies the \"mode\" -- in this example, `'w'` indicates that we're opening the file for writing.\n",
        "If the file doesn't exist, it will be created; if it already exists, the contents will be replaced.\n",
        "\n",
        "As a first step, we'll loop through the file until we find the first special line."
      ]
    },
    {
      "cell_type": "code",
      "execution_count": null,
      "id": "d1b286ee",
      "metadata": {
        "id": "d1b286ee"
      },
      "outputs": [],
      "source": []
    },
    {
      "cell_type": "markdown",
      "id": "1989d5a1",
      "metadata": {
        "id": "1989d5a1"
      },
      "source": [
        "The `break` statement \"breaks\" out of the loop -- that is, it causes the loop to end immediately, before we get to the end of the file.\n",
        "\n",
        "When the loop exits, `line` contains the special line that made the conditional true."
      ]
    },
    {
      "cell_type": "code",
      "execution_count": null,
      "id": "b4ecf365",
      "metadata": {
        "id": "b4ecf365"
      },
      "outputs": [],
      "source": []
    },
    {
      "cell_type": "markdown",
      "id": "9f28c3b4",
      "metadata": {
        "id": "9f28c3b4"
      },
      "source": [
        "Because `reader` keeps track of where it is in the file, we can use a second loop to pick up where we left off.\n",
        "\n",
        "The following loop reads the rest of the file, one line at a time.\n",
        "When it finds the special line that indicates the end of the text, it breaks out of the loop.\n",
        "Otherwise, it writes the line to the output file."
      ]
    },
    {
      "cell_type": "code",
      "execution_count": null,
      "id": "a99dc11c",
      "metadata": {
        "id": "a99dc11c"
      },
      "outputs": [],
      "source": []
    },
    {
      "cell_type": "markdown",
      "id": "c07032a4",
      "metadata": {
        "id": "c07032a4"
      },
      "source": [
        "When this loop exits, `line` contains the second special line."
      ]
    },
    {
      "cell_type": "code",
      "execution_count": null,
      "id": "dfd6b264",
      "metadata": {
        "id": "dfd6b264"
      },
      "outputs": [],
      "source": []
    },
    {
      "cell_type": "markdown",
      "id": "0c30b41c",
      "metadata": {
        "id": "0c30b41c"
      },
      "source": [
        "At this point `reader` and `writer` are still open, which means we could keep reading lines from `reader` or writing lines to `writer`.\n",
        "To indicate that we're done, we can close both files by invoking the `close` method."
      ]
    },
    {
      "cell_type": "code",
      "execution_count": null,
      "id": "4eda555c",
      "metadata": {
        "id": "4eda555c"
      },
      "outputs": [],
      "source": []
    },
    {
      "cell_type": "markdown",
      "id": "d5084cdc",
      "metadata": {
        "id": "d5084cdc"
      },
      "source": [
        "To check whether this process was successful, we can read the first few lines from the new file we just created."
      ]
    },
    {
      "cell_type": "code",
      "execution_count": null,
      "id": "5e1e8c74",
      "metadata": {
        "id": "5e1e8c74"
      },
      "outputs": [],
      "source": []
    },
    {
      "cell_type": "markdown",
      "id": "34c93df3",
      "metadata": {
        "id": "34c93df3"
      },
      "source": [
        "The `endswidth` method checks whether a string ends with a given sequence of characters."
      ]
    },
    {
      "cell_type": "markdown",
      "id": "fcdb4bbf",
      "metadata": {
        "id": "fcdb4bbf"
      },
      "source": [
        "## Find and replace\n",
        "\n",
        "In the Icelandic translation of *Dracula* from 1901, the name of one of the characters was changed from \"Jonathan\" to \"Thomas\".\n",
        "To make this change in the English version, we can loop through the book, use the `replace` method to replace one name with another, and write the result to a new file.\n",
        "\n",
        "We'll start by counting the lines in the cleaned version of the file."
      ]
    },
    {
      "cell_type": "code",
      "execution_count": null,
      "id": "63ebaafb",
      "metadata": {
        "id": "63ebaafb"
      },
      "outputs": [],
      "source": []
    },
    {
      "cell_type": "markdown",
      "id": "8ba9b9ca",
      "metadata": {
        "id": "8ba9b9ca"
      },
      "source": [
        "To see whether a line contains \"Jonathan\", we can use the `in` operator, which checks whether this sequence of characters appears anywhere in the line."
      ]
    },
    {
      "cell_type": "code",
      "execution_count": null,
      "id": "9973e6e8",
      "metadata": {
        "id": "9973e6e8"
      },
      "outputs": [],
      "source": []
    },
    {
      "cell_type": "markdown",
      "id": "27805245",
      "metadata": {
        "id": "27805245"
      },
      "source": [
        "There are 199 lines that contain the name, but that's not quite the total number of times it appears, because it can appear more than once in a line.\n",
        "To get the total, we can use the `count` method, which returns the number of times a sequence appears in a string."
      ]
    },
    {
      "cell_type": "code",
      "execution_count": null,
      "id": "02e06ff1",
      "metadata": {
        "id": "02e06ff1"
      },
      "outputs": [],
      "source": []
    },
    {
      "cell_type": "markdown",
      "id": "68026797",
      "metadata": {
        "id": "68026797"
      },
      "source": [
        "Now we can replace `'Jonathan'` with `'Thomas'` like this:"
      ]
    },
    {
      "cell_type": "code",
      "execution_count": null,
      "id": "1450e82c",
      "metadata": {
        "id": "1450e82c"
      },
      "outputs": [],
      "source": []
    },
    {
      "cell_type": "markdown",
      "id": "57ba56f3",
      "metadata": {
        "id": "57ba56f3"
      },
      "source": [
        "The result is a new file called `pg345_replaced.txt` that contains a version of *Dracula* where Jonathan Harker is called Thomas."
      ]
    },
    {
      "cell_type": "code",
      "execution_count": null,
      "id": "a57b64c6",
      "metadata": {
        "tags": [],
        "id": "a57b64c6"
      },
      "outputs": [],
      "source": []
    },
    {
      "cell_type": "markdown",
      "id": "cc9af187",
      "metadata": {
        "id": "cc9af187"
      },
      "source": [
        "## Regular expressions\n",
        "\n",
        "If we know exactly what sequence of characters we're looking for, we can use the `in` operator to find it and the `replace` method to replace it.\n",
        "But there is another tool, called a **regular expression** that can also perform these operations -- and a lot more.\n",
        "\n",
        "To demonstrate, I'll start with a simple example and we'll work our way up.\n",
        "Suppose, again, that we want to find all lines that contain a particular word.\n",
        "For a change, let's look for references to the titular character of the book, Count Dracula.\n",
        "Here's a line that mentions him."
      ]
    },
    {
      "cell_type": "code",
      "execution_count": null,
      "id": "a6069027",
      "metadata": {
        "id": "a6069027"
      },
      "outputs": [],
      "source": []
    },
    {
      "cell_type": "markdown",
      "id": "d4fd6d11",
      "metadata": {
        "id": "d4fd6d11"
      },
      "source": [
        "And here's the **pattern** we'll use to search."
      ]
    },
    {
      "cell_type": "code",
      "execution_count": null,
      "id": "e3c19abe",
      "metadata": {
        "id": "e3c19abe"
      },
      "outputs": [],
      "source": []
    },
    {
      "cell_type": "markdown",
      "id": "268f647c",
      "metadata": {
        "id": "268f647c"
      },
      "source": [
        "A module called `re` provides functions related to regular expressions.\n",
        "We can import it like this and use the `search` function to check whether the pattern appears in the text."
      ]
    },
    {
      "cell_type": "code",
      "execution_count": null,
      "id": "db588abb",
      "metadata": {
        "id": "db588abb"
      },
      "outputs": [],
      "source": []
    },
    {
      "cell_type": "markdown",
      "id": "e17f6731",
      "metadata": {
        "id": "e17f6731"
      },
      "source": [
        "If the pattern appears in the text, `search` returns a `Match` object that contains the results of the search.\n",
        "Among other information, it has a variable named `string` that contains the text that was searched."
      ]
    },
    {
      "cell_type": "code",
      "execution_count": null,
      "id": "924524a6",
      "metadata": {
        "id": "924524a6"
      },
      "outputs": [],
      "source": []
    },
    {
      "cell_type": "markdown",
      "id": "a8eab0f6",
      "metadata": {
        "id": "a8eab0f6"
      },
      "source": [
        "It also provides a method called `group` that returns the part of the text that matched the pattern."
      ]
    },
    {
      "cell_type": "code",
      "execution_count": null,
      "id": "c72b860c",
      "metadata": {
        "id": "c72b860c"
      },
      "outputs": [],
      "source": []
    },
    {
      "cell_type": "markdown",
      "id": "b6962a7d",
      "metadata": {
        "id": "b6962a7d"
      },
      "source": [
        "And it provides a method called `span` that returns the index in the text where the pattern starts and ends."
      ]
    },
    {
      "cell_type": "code",
      "execution_count": null,
      "id": "7c2f556c",
      "metadata": {
        "id": "7c2f556c"
      },
      "outputs": [],
      "source": []
    },
    {
      "cell_type": "markdown",
      "id": "8f1e5261",
      "metadata": {
        "id": "8f1e5261"
      },
      "source": [
        "If the pattern doesn't appear in the text, the return value from `search` is `None`."
      ]
    },
    {
      "cell_type": "code",
      "execution_count": null,
      "id": "d5242ef6",
      "metadata": {
        "id": "d5242ef6"
      },
      "outputs": [],
      "source": []
    },
    {
      "cell_type": "markdown",
      "id": "d5ed33ff",
      "metadata": {
        "id": "d5ed33ff"
      },
      "source": [
        "So we can check whether the search was successful by checking whether the result is `None`."
      ]
    },
    {
      "cell_type": "code",
      "execution_count": null,
      "id": "18c09b63",
      "metadata": {
        "id": "18c09b63"
      },
      "outputs": [],
      "source": []
    },
    {
      "cell_type": "markdown",
      "id": "a08e38f6",
      "metadata": {
        "id": "a08e38f6"
      },
      "source": [
        "Putting all that together, here's a function that loops through the lines in the book until it finds one that matches the given pattern, and returns the `Match` object."
      ]
    },
    {
      "cell_type": "code",
      "execution_count": null,
      "id": "fedb7d95",
      "metadata": {
        "id": "fedb7d95"
      },
      "outputs": [],
      "source": []
    },
    {
      "cell_type": "markdown",
      "id": "96570515",
      "metadata": {
        "id": "96570515"
      },
      "source": [
        "We can use it to find the first mention of a character."
      ]
    },
    {
      "cell_type": "code",
      "execution_count": null,
      "id": "d7cbe2c2",
      "metadata": {
        "id": "d7cbe2c2"
      },
      "outputs": [],
      "source": []
    },
    {
      "cell_type": "markdown",
      "id": "3f687fdc",
      "metadata": {
        "id": "3f687fdc"
      },
      "source": [
        "For this example, we didn't have to use regular expressions -- we could have done the same thing more easily with the `in` operator.\n",
        "But regular expressions can do things the `in` operator cannot.\n",
        "\n",
        "For example, if the pattern includes the vertical bar character, `'|'`, it can match either the sequence on the left or the sequence on the right.\n",
        "Suppose we want to find the first mention of Mina Murray in the book, but we are not sure whether she is referred to by first name or last.\n",
        "We can use the following pattern, which matches either name."
      ]
    },
    {
      "cell_type": "code",
      "execution_count": null,
      "id": "96c64f83",
      "metadata": {
        "id": "96c64f83"
      },
      "outputs": [],
      "source": []
    },
    {
      "cell_type": "markdown",
      "id": "8bea66a6",
      "metadata": {
        "id": "8bea66a6"
      },
      "source": [
        "We can use a pattern like this to see how many times a character is mentioned by either name.\n",
        "Here's a function that loops through the book and counts the number of lines that match the given pattern."
      ]
    },
    {
      "cell_type": "code",
      "execution_count": null,
      "id": "d0d2e926",
      "metadata": {
        "id": "d0d2e926"
      },
      "outputs": [],
      "source": []
    },
    {
      "cell_type": "markdown",
      "id": "0e753a5b",
      "metadata": {
        "id": "0e753a5b"
      },
      "source": [
        "Now let's see how many times Mina is mentioned."
      ]
    },
    {
      "cell_type": "code",
      "execution_count": null,
      "id": "d7e8c5b4",
      "metadata": {
        "id": "d7e8c5b4"
      },
      "outputs": [],
      "source": []
    },
    {
      "cell_type": "markdown",
      "id": "780c9fab",
      "metadata": {
        "id": "780c9fab"
      },
      "source": [
        "The special character `'^'` matches the beginning of a string, so we can find a line that starts with a given pattern."
      ]
    },
    {
      "cell_type": "code",
      "execution_count": null,
      "id": "be63c5b0",
      "metadata": {
        "id": "be63c5b0"
      },
      "outputs": [],
      "source": []
    },
    {
      "cell_type": "markdown",
      "id": "332bad2e",
      "metadata": {
        "id": "332bad2e"
      },
      "source": [
        "And the special character `'$'` matches the end of a string, so we can find a line that ends with a given pattern (ignoring the newline at the end)."
      ]
    },
    {
      "cell_type": "code",
      "execution_count": null,
      "id": "37595ac5",
      "metadata": {
        "id": "37595ac5"
      },
      "outputs": [],
      "source": []
    },
    {
      "cell_type": "markdown",
      "id": "d4b22b6e",
      "metadata": {
        "id": "d4b22b6e"
      },
      "source": [
        "## String substitution\n",
        "\n",
        "Bram Stoker was born in Ireland, and when *Dracula* was published in 1897, he was living in England.\n",
        "So we would expect him to use the British spelling of words like \"centre\" and \"colour\".\n",
        "To check, we can use the following pattern, which matches either \"centre\" or the American spelling \"center\"."
      ]
    },
    {
      "cell_type": "code",
      "execution_count": null,
      "id": "18237bea",
      "metadata": {
        "id": "18237bea"
      },
      "outputs": [],
      "source": []
    },
    {
      "cell_type": "markdown",
      "id": "35abfd7d",
      "metadata": {
        "id": "35abfd7d"
      },
      "source": [
        "In this pattern, the parentheses enclose the part of the pattern the vertical bar applies to.\n",
        "So this pattern matches a sequence that starts with `'cent'` and ends with either `'er'` or `'re'`."
      ]
    },
    {
      "cell_type": "code",
      "execution_count": null,
      "id": "ce65805f",
      "metadata": {
        "id": "ce65805f"
      },
      "outputs": [],
      "source": []
    },
    {
      "cell_type": "markdown",
      "id": "e5703c18",
      "metadata": {
        "id": "e5703c18"
      },
      "source": [
        "As expected, he used the British spelling.\n",
        "\n",
        "We can also check whether he used the British spelling of \"colour\".\n",
        "The following pattern uses the special character `'?'`, which means that the previous character is optional."
      ]
    },
    {
      "cell_type": "code",
      "execution_count": null,
      "id": "af770664",
      "metadata": {
        "id": "af770664"
      },
      "outputs": [],
      "source": []
    },
    {
      "cell_type": "markdown",
      "id": "beed9a7b",
      "metadata": {
        "id": "beed9a7b"
      },
      "source": [
        "This pattern matches either \"colour\" with the `'u'` or \"color\" without it."
      ]
    },
    {
      "cell_type": "code",
      "execution_count": null,
      "id": "ed67bde7",
      "metadata": {
        "id": "ed67bde7"
      },
      "outputs": [],
      "source": []
    },
    {
      "cell_type": "markdown",
      "id": "1a31f179",
      "metadata": {
        "id": "1a31f179"
      },
      "source": [
        "Again, as expected, he used the British spelling.\n",
        "\n",
        "Now suppose we want to produce an edition of the book with American spellings.\n",
        "We can use the `sub` function in the `re` module, which does **string substitution**."
      ]
    },
    {
      "cell_type": "code",
      "execution_count": null,
      "id": "52dd938c",
      "metadata": {
        "id": "52dd938c"
      },
      "outputs": [],
      "source": []
    },
    {
      "cell_type": "markdown",
      "id": "04a80fc6",
      "metadata": {
        "id": "04a80fc6"
      },
      "source": [
        "The first argument is the pattern we want to find and replace, the second is what we want to replace it with, and the third is the string we want to search.\n",
        "In the result, you can see that \"colour\" has been replaced with \"color\"."
      ]
    },
    {
      "cell_type": "code",
      "execution_count": null,
      "id": "d2e309a2",
      "metadata": {
        "tags": [],
        "id": "d2e309a2"
      },
      "outputs": [],
      "source": []
    },
    {
      "cell_type": "code",
      "execution_count": null,
      "id": "3d8b2a9f",
      "metadata": {
        "tags": [],
        "id": "3d8b2a9f"
      },
      "outputs": [],
      "source": []
    },
    {
      "cell_type": "markdown",
      "id": "0318507d",
      "metadata": {
        "id": "0318507d"
      },
      "source": [
        "## Debugging\n",
        "\n",
        "When you are reading and writing files, debugging can be tricky.\n",
        "If you are working in a Jupyter notebook, you can use **shell commands** to help.\n",
        "For example, to display the first few lines of a file, you can use the command `!head`, like this:"
      ]
    },
    {
      "cell_type": "code",
      "execution_count": null,
      "id": "cc39942c",
      "metadata": {
        "tags": [],
        "id": "cc39942c"
      },
      "outputs": [],
      "source": []
    },
    {
      "cell_type": "markdown",
      "id": "1d480c02",
      "metadata": {
        "id": "1d480c02"
      },
      "source": [
        "The initial exclamation point, `!`, indicates that this is a shell command, which is not part of Python.\n",
        "To display the last few lines, you can use `!tail`."
      ]
    },
    {
      "cell_type": "code",
      "execution_count": null,
      "id": "bc3741e1",
      "metadata": {
        "tags": [],
        "id": "bc3741e1"
      },
      "outputs": [],
      "source": []
    },
    {
      "cell_type": "markdown",
      "id": "6874023a",
      "metadata": {
        "id": "6874023a"
      },
      "source": [
        "When you are working with large files, debugging can be difficult because there might be too much output to check by hand.\n",
        "A good debugging strategy is to start with just part of the file, get the program working, and then run it with the whole file.\n",
        "\n",
        "To make a small file that contains part of a larger file, we can use `!head` again with the redirect operator, `>`, which indicates that the results should be written to a file rather than displayed."
      ]
    },
    {
      "cell_type": "code",
      "execution_count": null,
      "id": "d4c92501",
      "metadata": {
        "id": "d4c92501"
      },
      "outputs": [],
      "source": []
    },
    {
      "cell_type": "markdown",
      "id": "3fc851f8",
      "metadata": {
        "id": "3fc851f8"
      },
      "source": [
        "By default, `!head` reads the first 10 lines, but it takes an optional argument that indicates the number of lines to read."
      ]
    },
    {
      "cell_type": "code",
      "execution_count": null,
      "id": "8f6606dd",
      "metadata": {
        "id": "8f6606dd"
      },
      "outputs": [],
      "source": []
    },
    {
      "cell_type": "markdown",
      "id": "24871c78",
      "metadata": {
        "id": "24871c78"
      },
      "source": [
        "This shell command reads the first 100 lines from `pg345_cleaned.txt` and writes them to a file called `pg345_cleaned_100_lines.txt`.\n",
        "\n",
        "Note: The shell commands `!head` and `!tail` are not available on all operating systems.\n",
        "If they don't work for you, we can write similar functions in Python.\n",
        "See the first exercise at the end of this chapter for suggestions."
      ]
    },
    {
      "cell_type": "markdown",
      "id": "c842524d",
      "metadata": {
        "id": "c842524d"
      },
      "source": [
        "## Glossary\n",
        "\n",
        "**sequence:**\n",
        " An ordered collection of values where each value is identified by an integer index.\n",
        "\n",
        "**character:**\n",
        "An element of a string, including letters, numbers, and symbols.\n",
        "\n",
        "**index:**\n",
        " An integer value used to select an item in a sequence, such as a character in a string. In Python indices start from `0`.\n",
        "\n",
        "**slice:**\n",
        " A part of a string specified by a range of indices.\n",
        "\n",
        "**empty string:**\n",
        "A string that contains no characters and has length `0`.\n",
        "\n",
        "**object:**\n",
        " Something a variable can refer to. An object has a type and a value.\n",
        "\n",
        "**immutable:**\n",
        "If the elements of an object cannot be changed, the object is immutable.\n",
        "\n",
        "**invocation:**\n",
        " An expression -- or part of an expression -- that calls a method.\n",
        "\n",
        "**regular expression:**\n",
        "A sequence of characters that defines a search pattern.\n",
        "\n",
        "**pattern:**\n",
        "A rule that specifies the requirements a string has to meet to constitute a match.\n",
        "\n",
        "**string substitution:**\n",
        "Replacement of a string, or part of a string, with another string.\n",
        "\n",
        "**shell command:**\n",
        "A statement in a shell language, which is a language used to interact with an operating system."
      ]
    },
    {
      "cell_type": "markdown",
      "id": "4306e765",
      "metadata": {
        "id": "4306e765"
      },
      "source": [
        "## Exercises"
      ]
    },
    {
      "cell_type": "code",
      "execution_count": null,
      "id": "18bced21",
      "metadata": {
        "tags": [],
        "id": "18bced21"
      },
      "outputs": [],
      "source": []
    },
    {
      "cell_type": "code",
      "execution_count": null,
      "id": "772f5c14",
      "metadata": {
        "tags": [],
        "id": "772f5c14"
      },
      "outputs": [],
      "source": []
    },
    {
      "cell_type": "markdown",
      "id": "5be97ddc",
      "metadata": {
        "id": "5be97ddc"
      },
      "source": [
        "### Ask a virtual assistant\n",
        "\n",
        "In this chapter, we only scratched the surface of what regular expressions can do.\n",
        "To get an idea of what's possible, ask a virtual assistant, \"What are the most common special characters used in Python regular expressions?\"\n",
        "\n",
        "You can also ask for a pattern that matches particular kinds of strings.\n",
        "For example, try asking:\n",
        "\n",
        "* Write a Python regular expression that matches a 10-digit phone number with hyphens.\n",
        "\n",
        "* Write a Python regular expression that matches a street address with a number and a street name, followed by `ST` or `AVE`.\n",
        "\n",
        "* Write a Python regular expression that matches a full name with any common title like `Mr` or `Mrs` followed by any number of names beginning with capital letters, possibly with hyphens between some names.\n",
        "\n",
        "And if you want to see something more complicated, try asking for a regular expression that matches any legal URL.\n",
        "\n",
        "A regular expression often has the letter `r` before the quotation mark, which indicates that it is a \"raw string\".\n",
        "For more information, ask a virtual assistant, \"What is a raw string in Python?\""
      ]
    },
    {
      "cell_type": "code",
      "execution_count": null,
      "id": "8650dec2",
      "metadata": {
        "tags": [],
        "id": "8650dec2"
      },
      "outputs": [],
      "source": []
    },
    {
      "cell_type": "markdown",
      "id": "20dcbbb3",
      "metadata": {
        "id": "20dcbbb3"
      },
      "source": [
        "### Exercise\n",
        "\n",
        "See if you can write a function that does the same thing as the shell command `!head`.\n",
        "It should take as arguments the name of a file to read, the number of lines to read, and the name of the file to write the lines into.\n",
        "If the third parameter is `None`, it should display the lines rather than write them to a file.\n",
        "\n",
        "Consider asking a virtual assistant for help, but if you do, tell it not to use a `with` statement or a `try` statement."
      ]
    },
    {
      "cell_type": "markdown",
      "id": "24f6aac3",
      "metadata": {
        "tags": [],
        "id": "24f6aac3"
      },
      "source": [
        "You can use the following examples to test your function."
      ]
    },
    {
      "cell_type": "code",
      "source": [
        "import os\n",
        "import requests\n",
        "\n",
        "def head(filename, num_lines, output_filename=None):\n",
        "    if not os.path.exists(filename):\n",
        "        print(f\"Error: File '{filename}' not found.\")\n",
        "        return  # Exit the function if the file is not found\n",
        "\n",
        "    with open(filename, 'r', encoding=\"utf-8\") as infile:  # Open in read mode with encoding\n",
        "        lines = []\n",
        "        for _ in range(num_lines):\n",
        "            line = infile.readline()\n",
        "            if not line:\n",
        "                break\n",
        "            lines.append(line)\n",
        "\n",
        "    if output_filename:\n",
        "        with open(output_filename, 'w', encoding=\"utf-8\") as outfile:  # Open in write mode with encoding\n",
        "            outfile.writelines(lines)\n",
        "    else:\n",
        "        for line in lines:\n",
        "            print(line, end='')\n",
        "\n",
        "def download_and_clean_dracula():\n",
        "    \"\"\"Downloads Dracula from Project Gutenberg and creates a cleaned version.\"\"\"\n",
        "    url = \"https://www.gutenberg.org/files/345/345-0.txt\"\n",
        "\n",
        "    try:\n",
        "        response = requests.get(url)\n",
        "        response.raise_for_status()  # Raise an exception for bad status codes\n",
        "    except requests.exceptions.RequestException as e:\n",
        "        print(f\"Error downloading the book: {e}\")\n",
        "        return  # Exit if download fails\n",
        "\n",
        "    text = response.text\n",
        "\n",
        "    try:\n",
        "        with open(\"pg345.txt\", \"w\", encoding=\"utf-8\") as f:\n",
        "            f.write(text)\n",
        "    except OSError as e:\n",
        "        print(f\"Error writing to pg345.txt: {e}\")\n",
        "        return  # Exit if writing fails\n",
        "\n",
        "    try:\n",
        "        with open(\"pg345.txt\", \"r\", encoding=\"utf-8\") as infile, open(\"pg345_cleaned.txt\", \"w\", encoding=\"utf-8\") as outfile:\n",
        "            start_marker = \"*** START OF THIS PROJECT GUTENBERG EBOOK DRACULA ***\"\n",
        "            end_marker = \"*** END OF THIS PROJECT GUTENBERG EBOOK DRACULA ***\"\n",
        "\n",
        "            started = False\n",
        "            for line in infile:\n",
        "                if start_marker in line:\n",
        "                    started = True\n",
        "                    continue  # Skip the start marker line\n",
        "                if end_marker in line:\n",
        "                    break  # Stop when the end marker is found\n",
        "                if started:\n",
        "                    outfile.write(line)\n",
        "    except OSError as e:\n",
        "        print(f\"Error cleaning the book: {e}\")\n",
        "        return  # Exit if cleaning fails\n",
        "\n",
        "# Download and clean the book first\n",
        "download_and_clean_dracula()\n",
        "\n",
        "# Now call the head function\n",
        "head('pg345_cleaned.txt', 10)"
      ],
      "metadata": {
        "id": "pLyyT-z5wXjS"
      },
      "id": "pLyyT-z5wXjS",
      "execution_count": 19,
      "outputs": []
    },
    {
      "cell_type": "code",
      "execution_count": 20,
      "id": "9cbc19cd",
      "metadata": {
        "tags": [],
        "id": "9cbc19cd"
      },
      "outputs": [],
      "source": [
        "head('pg345_cleaned.txt', 10)"
      ]
    },
    {
      "cell_type": "code",
      "execution_count": 21,
      "id": "19de7df0",
      "metadata": {
        "tags": [],
        "id": "19de7df0"
      },
      "outputs": [],
      "source": [
        "head('pg345_cleaned.txt', 100, 'pg345_cleaned_100_lines.txt')"
      ]
    },
    {
      "cell_type": "code",
      "execution_count": 22,
      "id": "242f7ba6",
      "metadata": {
        "tags": [],
        "id": "242f7ba6"
      },
      "outputs": [],
      "source": [
        "!tail pg345_cleaned_100_lines.txt # VA attempted to be used, but doesn't appear to be working in the slightest"
      ]
    },
    {
      "cell_type": "markdown",
      "id": "adb78357",
      "metadata": {
        "id": "adb78357"
      },
      "source": [
        "### Exercise\n",
        "\n",
        "\"Wordle\" is an online word game where the objective is to guess a five-letter word in six or fewer attempts.\n",
        "Each attempt has to be recognized as a word, not including proper nouns.\n",
        "After each attempt, you get information about which of the letters you guessed appear in the target word, and which ones are in the correct position.\n",
        "\n",
        "For example, suppose the target word is `MOWER` and you guess `TRIED`.\n",
        "You would learn that `E` is in the word and in the correct position, `R` is in the word but not in the correct position, and `T`, `I`, and `D` are not in the word.\n",
        "\n",
        "As a different example, suppose you have guessed the words `SPADE` and `CLERK`, and you've learned that `E` is in the word, but not in either of those positions, and none of the other letters appear in the word.\n",
        "Of the words in the word list, how many could be the target word?\n",
        "Write a function called `check_word` that takes a five-letter word and checks whether it could be the target word, given these guesses."
      ]
    },
    {
      "cell_type": "code",
      "execution_count": 25,
      "id": "2a37092e",
      "metadata": {
        "id": "2a37092e"
      },
      "outputs": [],
      "source": [
        "def check_word(word):\n",
        "    if len(word) != 5: # Checks if word length is 5 letters long\n",
        "        return False\n",
        "    if 'e' not in word or word[1] == 'e' or word[4] == 'e':\n",
        "        return False\n",
        "    forbidden_letters = set('spadclk') # Defines what the forbidden letters arae\n",
        "    for letter in word:\n",
        "        if letter in forbidden_letters:\n",
        "            return False\n",
        "\n",
        "    return True"
      ]
    },
    {
      "cell_type": "markdown",
      "id": "87fdf676",
      "metadata": {
        "id": "87fdf676"
      },
      "source": [
        "You can use any of the functions from the previous chapter, like `uses_any`."
      ]
    },
    {
      "cell_type": "code",
      "execution_count": 26,
      "id": "8d19b6ce",
      "metadata": {
        "tags": [],
        "id": "8d19b6ce"
      },
      "outputs": [],
      "source": [
        "def uses_any(word, forbidden):\n",
        "    for letter in forbidden:\n",
        "        if letter in word:\n",
        "            return True\n",
        "    return False\n",
        "\n",
        "def check_word(word):\n",
        "    if len(word) != 5:\n",
        "        return False\n",
        "    if 'e' not in word or word[1] == 'e' or word[4] == 'e':\n",
        "        return False\n",
        "    forbidden_letters = 'spadclk'\n",
        "    if uses_any(word, forbidden_letters):\n",
        "        return False\n",
        "\n",
        "    return True"
      ]
    },
    {
      "cell_type": "markdown",
      "id": "63593f1b",
      "metadata": {
        "tags": [],
        "id": "63593f1b"
      },
      "source": [
        "You can use the following loop to test your function."
      ]
    },
    {
      "cell_type": "code",
      "execution_count": 32,
      "id": "9bbf0b1c",
      "metadata": {
        "tags": [],
        "id": "9bbf0b1c",
        "outputId": "7f2e85f1-a0a8-4c28-df2b-fed15fcb846b",
        "colab": {
          "base_uri": "https://localhost:8080/"
        }
      },
      "outputs": [
        {
          "output_type": "stream",
          "name": "stdout",
          "text": [
            "Number of possible target words: 1\n",
            "Possible target words: ['totem']\n"
          ]
        }
      ],
      "source": [
        "word_list = [\"hound\", \"needs\", \"totem\", \"power\", \"pizza\"]\n",
        "possible_targets = [word for word in word_list if check_word(word.lower())]\n",
        "print(f\"Number of possible target words: {len(possible_targets)}\")\n",
        "print(f\"Possible target words: {possible_targets}\")"
      ]
    },
    {
      "cell_type": "markdown",
      "id": "d009cb52",
      "metadata": {
        "id": "d009cb52"
      },
      "source": [
        "### Exercise\n",
        "\n",
        "Continuing the previous exercise, suppose you guess the work `TOTEM` and learn that the `E` is *still* not in the right place, but the `M` is. How many words are left?"
      ]
    },
    {
      "cell_type": "code",
      "execution_count": null,
      "id": "925c7aa9",
      "metadata": {
        "id": "925c7aa9"
      },
      "outputs": [],
      "source": []
    },
    {
      "cell_type": "code",
      "execution_count": null,
      "id": "3f658f3a",
      "metadata": {
        "id": "3f658f3a"
      },
      "outputs": [],
      "source": []
    },
    {
      "cell_type": "markdown",
      "id": "c1d0f892",
      "metadata": {
        "id": "c1d0f892"
      },
      "source": [
        "### Exercise\n",
        "\n",
        "*The Count of Monte Cristo* is a novel by Alexandre Dumas that is considered a classic.\n",
        "Nevertheless, in the introduction of an English translation of the book, the writer Umberto Eco confesses that he found the book to be \"one of the most badly written novels of all time\".\n",
        "\n",
        "In particular, he says it is \"shameless in its repetition of the same adjective,\" and mentions in particular the number of times \"its characters either shudder or turn pale.\"\n",
        "\n",
        "To see whether his objection is valid, let's count the number number of lines that contain the word `pale` in any form, including `pale`, `pales`, `paled`, and `paleness`, as well as the related word `pallor`.\n",
        "Use a single regular expression that matches any of these words.\n",
        "As an additional challenge, make sure that it doesn't match any other words, like `impale` -- you might want to ask a virtual assistant for help."
      ]
    },
    {
      "cell_type": "markdown",
      "id": "742efd98",
      "metadata": {
        "tags": [],
        "id": "742efd98"
      },
      "source": [
        "The following cell downloads the book from Project Gutenberg <https://www.gutenberg.org/ebooks/1184>."
      ]
    },
    {
      "cell_type": "code",
      "execution_count": 33,
      "id": "9a74be13",
      "metadata": {
        "tags": [],
        "id": "9a74be13"
      },
      "outputs": [],
      "source": [
        "import re"
      ]
    },
    {
      "cell_type": "code",
      "source": [
        "pattern = r\"\\b(pale|pales|paled|paleness|pallor)\\b\""
      ],
      "metadata": {
        "id": "wSCL82WCx-14"
      },
      "id": "wSCL82WCx-14",
      "execution_count": 34,
      "outputs": []
    },
    {
      "cell_type": "code",
      "source": [
        "import os\n",
        "import requests\n",
        "import re\n",
        "\n",
        "def download_and_clean_monte_cristo():\n",
        "    \"\"\"Downloads The Count of Monte Cristo from Project Gutenberg and creates a cleaned version.\"\"\"\n",
        "    url = \"https://www.gutenberg.org/files/1184/1184-0.txt\"  # URL for The Count of Monte Cristo\n",
        "\n",
        "    try:\n",
        "        response = requests.get(url)\n",
        "        response.raise_for_status()  # Raise an exception for bad status codes\n",
        "    except requests.exceptions.RequestException as e:\n",
        "        print(f\"Error downloading the book: {e}\")\n",
        "        return  # Exit if download fails\n",
        "\n",
        "    text = response.text\n",
        "\n",
        "    try:\n",
        "        with open(\"pg1184.txt\", \"w\", encoding=\"utf-8\") as f:\n",
        "            f.write(text)\n",
        "    except OSError as e:\n",
        "        print(f\"Error writing to pg1184.txt: {e}\")\n",
        "        return  # Exit if writing fails\n",
        "\n",
        "    try:\n",
        "        with open(\"pg1184.txt\", \"r\", encoding=\"utf-8\") as infile, open(\"pg1184_cleaned.txt\", \"w\", encoding=\"utf-8\") as outfile:\n",
        "            start_marker = \"*** START OF THIS PROJECT GUTENBERG EBOOK THE COUNT OF MONTE CRISTO ***\"\n",
        "            end_marker = \"*** END OF THIS PROJECT GUTENBERG EBOOK THE COUNT OF MONTE CRISTO ***\"\n",
        "\n",
        "            started = False\n",
        "            for line in infile:\n",
        "                if start_marker in line:\n",
        "                    started = True\n",
        "                    continue  # Skip the start marker line\n",
        "                if end_marker in line:\n",
        "                    break  # Stop when the end marker is found\n",
        "                if started:\n",
        "                    outfile.write(line)\n",
        "    except OSError as e:\n",
        "        print(f\"Error cleaning the book: {e}\")\n",
        "        return  # Exit if cleaning fails\n",
        "\n",
        "# Download and clean the book first\n",
        "download_and_clean_monte_cristo()\n",
        "\n",
        "# Now you can proceed with your original code\n",
        "pattern = r\"\\b(pale|pales|paled|paleness|pallor)\\b\"\n",
        "\n",
        "with open('pg1184_cleaned.txt', 'r') as f:\n",
        "    lines = f.readlines()\n",
        "    count = 0\n",
        "    for line in lines:\n",
        "        if re.search(pattern, line):\n",
        "            count += 1\n",
        "\n",
        "print(f\"The word 'pale' (or its variations) appears on {count} lines.\")"
      ],
      "metadata": {
        "id": "2XHWj1qsyB4k",
        "outputId": "4964322a-33be-4d01-9e6f-8d5fdc0d41d8",
        "colab": {
          "base_uri": "https://localhost:8080/"
        }
      },
      "id": "2XHWj1qsyB4k",
      "execution_count": 37,
      "outputs": [
        {
          "output_type": "stream",
          "name": "stdout",
          "text": [
            "The word 'pale' (or its variations) appears on 0 lines.\n"
          ]
        }
      ]
    },
    {
      "cell_type": "markdown",
      "id": "881c2f99",
      "metadata": {
        "tags": [],
        "id": "881c2f99"
      },
      "source": [
        "The following cell runs a function that reads the file from Project Gutenberg and writes a file that contains only the text of the book, not the added information about the book."
      ]
    },
    {
      "cell_type": "code",
      "execution_count": 38,
      "id": "946c63d2",
      "metadata": {
        "tags": [],
        "id": "946c63d2",
        "outputId": "bf1f876c-392b-43ca-b62c-25e8768ed3fb",
        "colab": {
          "base_uri": "https://localhost:8080/"
        }
      },
      "outputs": [
        {
          "output_type": "stream",
          "name": "stdout",
          "text": [
            "The word 'pale' (or its variations) appears on 0 lines.\n"
          ]
        }
      ],
      "source": [
        "with open('pg1184_cleaned.txt', 'r') as f:\n",
        "    lines = f.readlines()\n",
        "    count = 0\n",
        "    for line in lines:\n",
        "        if re.search(pattern, line):\n",
        "            count += 1\n",
        "\n",
        "print(f\"The word 'pale' (or its variations) appears on {count} lines.\")"
      ]
    },
    {
      "cell_type": "code",
      "execution_count": null,
      "id": "08294921",
      "metadata": {
        "id": "08294921"
      },
      "outputs": [],
      "source": []
    },
    {
      "cell_type": "code",
      "execution_count": null,
      "id": "3eb8f83f",
      "metadata": {
        "id": "3eb8f83f"
      },
      "outputs": [],
      "source": []
    },
    {
      "cell_type": "code",
      "execution_count": null,
      "id": "b6bffe8a",
      "metadata": {
        "id": "b6bffe8a"
      },
      "outputs": [],
      "source": []
    },
    {
      "cell_type": "markdown",
      "id": "7db56337",
      "metadata": {
        "tags": [],
        "id": "7db56337"
      },
      "source": [
        "By this count, these words appear on `223` lines of the book, so Mr. Eco might have a point."
      ]
    },
    {
      "cell_type": "markdown",
      "id": "a7f4edf8",
      "metadata": {
        "tags": [],
        "id": "a7f4edf8"
      },
      "source": [
        "[Think Python: 3rd Edition](https://allendowney.github.io/ThinkPython/index.html)\n",
        "\n",
        "Copyright 2024 [Allen B. Downey](https://allendowney.com)\n",
        "\n",
        "Code license: [MIT License](https://mit-license.org/)\n",
        "\n",
        "Text license: [Creative Commons Attribution-NonCommercial-ShareAlike 4.0 International](https://creativecommons.org/licenses/by-nc-sa/4.0/)"
      ]
    }
  ],
  "metadata": {
    "celltoolbar": "Tags",
    "kernelspec": {
      "display_name": "Python 3 (ipykernel)",
      "language": "python",
      "name": "python3"
    },
    "language_info": {
      "codemirror_mode": {
        "name": "ipython",
        "version": 3
      },
      "file_extension": ".py",
      "mimetype": "text/x-python",
      "name": "python",
      "nbconvert_exporter": "python",
      "pygments_lexer": "ipython3",
      "version": "3.10.11"
    },
    "colab": {
      "provenance": []
    }
  },
  "nbformat": 4,
  "nbformat_minor": 5
}