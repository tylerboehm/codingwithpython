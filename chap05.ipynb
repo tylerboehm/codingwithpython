{
  "cells": [
    {
      "cell_type": "markdown",
      "id": "1331faa1",
      "metadata": {
        "id": "1331faa1"
      },
      "source": [
        "You can order print and ebook versions of *Think Python 3e* from\n",
        "[Bookshop.org](https://bookshop.org/a/98697/9781098155438) and\n",
        "[Amazon](https://www.amazon.com/_/dp/1098155432?smid=ATVPDKIKX0DER&_encoding=UTF8&tag=oreilly20-20&_encoding=UTF8&tag=greenteapre01-20&linkCode=ur2&linkId=e2a529f94920295d27ec8a06e757dc7c&camp=1789&creative=9325)."
      ]
    },
    {
      "cell_type": "code",
      "execution_count": null,
      "id": "8119ba50",
      "metadata": {
        "tags": [],
        "id": "8119ba50"
      },
      "outputs": [],
      "source": [
        "# EXERCISES COMPLETED AT END OF ASSIGNMENT"
      ]
    },
    {
      "cell_type": "markdown",
      "id": "75b60d6c",
      "metadata": {
        "id": "75b60d6c"
      },
      "source": [
        "# Conditionals and Recursion\n",
        "\n",
        "The main topic of this chapter is the `if` statement, which executes different code depending on the state of the program.\n",
        "And with the `if` statement we'll be able to explore one of the most powerful ideas in computing, **recursion**.\n",
        "\n",
        "But we'll start with three new features: the modulus operator, boolean expressions, and logical operators."
      ]
    },
    {
      "cell_type": "markdown",
      "id": "4ab7caf4",
      "metadata": {
        "id": "4ab7caf4"
      },
      "source": [
        "## Integer division and modulus\n",
        "\n",
        "Recall that the integer division operator, `//`, divides two numbers and rounds\n",
        "down to an integer.\n",
        "For example, suppose the run time of a movie is 105 minutes.\n",
        "You might want to know how long that is in hours.\n",
        "Conventional division returns a floating-point number:"
      ]
    },
    {
      "cell_type": "code",
      "execution_count": 1,
      "id": "30bd0ba7",
      "metadata": {
        "id": "30bd0ba7",
        "outputId": "6c494871-1be4-4a7f-ad4e-7bbbd0db46bf",
        "colab": {
          "base_uri": "https://localhost:8080/"
        }
      },
      "outputs": [
        {
          "output_type": "execute_result",
          "data": {
            "text/plain": [
              "1.75"
            ]
          },
          "metadata": {},
          "execution_count": 1
        }
      ],
      "source": [
        "minutes = 105\n",
        "minutes / 60"
      ]
    },
    {
      "cell_type": "markdown",
      "id": "3f224403",
      "metadata": {
        "id": "3f224403"
      },
      "source": [
        "But we don't normally write hours with decimal points.\n",
        "Integer division returns the integer number of hours, rounding down:"
      ]
    },
    {
      "cell_type": "code",
      "execution_count": 3,
      "id": "451e3198",
      "metadata": {
        "id": "451e3198",
        "outputId": "998c2cdf-8599-4ad4-d11a-cd152c820b8f",
        "colab": {
          "base_uri": "https://localhost:8080/"
        }
      },
      "outputs": [
        {
          "output_type": "execute_result",
          "data": {
            "text/plain": [
              "1"
            ]
          },
          "metadata": {},
          "execution_count": 3
        }
      ],
      "source": [
        "minutes = 105\n",
        "hours = minutes // 60 # // means no remainder will show and will round down\n",
        "hours"
      ]
    },
    {
      "cell_type": "markdown",
      "id": "bfa9b0cf",
      "metadata": {
        "id": "bfa9b0cf"
      },
      "source": [
        "To get the remainder, you could subtract off one hour in minutes:"
      ]
    },
    {
      "cell_type": "code",
      "execution_count": 5,
      "id": "64b92876",
      "metadata": {
        "id": "64b92876",
        "outputId": "f08cd07d-19ae-4909-9f81-d87799532a33",
        "colab": {
          "base_uri": "https://localhost:8080/"
        }
      },
      "outputs": [
        {
          "output_type": "execute_result",
          "data": {
            "text/plain": [
              "45"
            ]
          },
          "metadata": {},
          "execution_count": 5
        }
      ],
      "source": [
        "minutes = 105\n",
        "hours = minutes // 60\n",
        "remainder = minutes - hours * 60 # * 60 because we're converting to minutes\n",
        "remainder"
      ]
    },
    {
      "cell_type": "markdown",
      "id": "05caf27f",
      "metadata": {
        "id": "05caf27f"
      },
      "source": [
        "Or you could use the **modulus operator**, `%`, which divides two numbers and returns the remainder."
      ]
    },
    {
      "cell_type": "code",
      "execution_count": 6,
      "id": "0a593844",
      "metadata": {
        "id": "0a593844",
        "outputId": "8e091eba-7fbe-436a-ee8a-e2e77e50ba4b",
        "colab": {
          "base_uri": "https://localhost:8080/"
        }
      },
      "outputs": [
        {
          "output_type": "execute_result",
          "data": {
            "text/plain": [
              "45"
            ]
          },
          "metadata": {},
          "execution_count": 6
        }
      ],
      "source": [
        "remainder = minutes % 60 # a shortcut of the prior example\n",
        "remainder"
      ]
    },
    {
      "cell_type": "markdown",
      "id": "18c1e0d0",
      "metadata": {
        "id": "18c1e0d0"
      },
      "source": [
        "The modulus operator is more useful than it might seem.\n",
        "For example, it can check whether one number is divisible by another -- if `x % y` is zero, then `x` is divisible by `y`.\n",
        "\n",
        "Also, it can extract the right-most digit or digits from a number.\n",
        "For example, `x % 10` yields the right-most digit of `x` (in base 10).\n",
        "Similarly, `x % 100` yields the last two digits."
      ]
    },
    {
      "cell_type": "code",
      "execution_count": 8,
      "id": "5bd341f7",
      "metadata": {
        "id": "5bd341f7",
        "outputId": "17a4134b-2e04-4ed2-807b-1bd74837d97a",
        "colab": {
          "base_uri": "https://localhost:8080/"
        }
      },
      "outputs": [
        {
          "output_type": "execute_result",
          "data": {
            "text/plain": [
              "3"
            ]
          },
          "metadata": {},
          "execution_count": 8
        }
      ],
      "source": [
        "x = 543\n",
        "x % 10\n",
        "# could use this to see if a number is odd or even with boolean expressions"
      ]
    },
    {
      "cell_type": "code",
      "execution_count": 9,
      "id": "367fce0c",
      "metadata": {
        "id": "367fce0c",
        "outputId": "2382c552-64ee-4a66-d24a-1892778cf107",
        "colab": {
          "base_uri": "https://localhost:8080/"
        }
      },
      "outputs": [
        {
          "output_type": "execute_result",
          "data": {
            "text/plain": [
              "43"
            ]
          },
          "metadata": {},
          "execution_count": 9
        }
      ],
      "source": [
        "x % 100"
      ]
    },
    {
      "cell_type": "markdown",
      "id": "f2344fc0",
      "metadata": {
        "id": "f2344fc0"
      },
      "source": [
        "Finally, the modulus operator can do \"clock arithmetic\".\n",
        "For example, if an event starts at 11 AM and lasts three hours, we can use the modulus operator to figure out what time it ends."
      ]
    },
    {
      "cell_type": "code",
      "execution_count": 11,
      "id": "db33a44d",
      "metadata": {
        "id": "db33a44d",
        "outputId": "7f6ea368-8e56-4ddd-8491-c37e56d22bd4",
        "colab": {
          "base_uri": "https://localhost:8080/"
        }
      },
      "outputs": [
        {
          "output_type": "execute_result",
          "data": {
            "text/plain": [
              "2"
            ]
          },
          "metadata": {},
          "execution_count": 11
        }
      ],
      "source": [
        "start = 11\n",
        "duration = 3\n",
        "end = (start + duration) % 12\n",
        "end"
      ]
    },
    {
      "cell_type": "markdown",
      "id": "351c30df",
      "metadata": {
        "id": "351c30df"
      },
      "source": [
        "The event would end at 2 PM."
      ]
    },
    {
      "cell_type": "markdown",
      "id": "5ed1b58b",
      "metadata": {
        "id": "5ed1b58b"
      },
      "source": [
        "## Boolean Expressions\n",
        "\n",
        "A **boolean expression** is an expression that is either true or false.\n",
        "For example, the following expressions use the equals operator, `==`, which compares two values and produces `True` if they are equal and `False` otherwise:"
      ]
    },
    {
      "cell_type": "code",
      "execution_count": 14,
      "id": "85589d38",
      "metadata": {
        "id": "85589d38",
        "outputId": "8ed2fa86-ba03-4f19-aa14-41ce357aec76",
        "colab": {
          "base_uri": "https://localhost:8080/"
        }
      },
      "outputs": [
        {
          "output_type": "execute_result",
          "data": {
            "text/plain": [
              "True"
            ]
          },
          "metadata": {},
          "execution_count": 14
        }
      ],
      "source": [
        "77 == 77 # one = means it's defining the value of a variable, but two is checking if it's true or not"
      ]
    },
    {
      "cell_type": "code",
      "execution_count": 13,
      "id": "3c9c8f61",
      "metadata": {
        "id": "3c9c8f61",
        "outputId": "d12cbbe2-2421-4972-ef04-737cb6fc36f5",
        "colab": {
          "base_uri": "https://localhost:8080/"
        }
      },
      "outputs": [
        {
          "output_type": "execute_result",
          "data": {
            "text/plain": [
              "False"
            ]
          },
          "metadata": {},
          "execution_count": 13
        }
      ],
      "source": [
        "777 == 77"
      ]
    },
    {
      "cell_type": "markdown",
      "id": "41fbc642",
      "metadata": {
        "id": "41fbc642"
      },
      "source": [
        "A common error is to use a single equal sign (`=`) instead of a double equal sign (`==`).\n",
        "Remember that `=` assigns a value to a variable and `==` compares two values."
      ]
    },
    {
      "cell_type": "code",
      "execution_count": 30,
      "id": "c0e51bcc",
      "metadata": {
        "id": "c0e51bcc"
      },
      "outputs": [],
      "source": [
        "x = 77\n",
        "y = 88"
      ]
    },
    {
      "cell_type": "code",
      "execution_count": 18,
      "id": "a6be44db",
      "metadata": {
        "id": "a6be44db",
        "outputId": "52c6bd1b-cc1a-49db-a472-e6781ce4e642",
        "colab": {
          "base_uri": "https://localhost:8080/"
        }
      },
      "outputs": [
        {
          "output_type": "execute_result",
          "data": {
            "text/plain": [
              "False"
            ]
          },
          "metadata": {},
          "execution_count": 18
        }
      ],
      "source": [
        "x == y"
      ]
    },
    {
      "cell_type": "markdown",
      "id": "d3ec6b48",
      "metadata": {
        "id": "d3ec6b48"
      },
      "source": [
        "`True` and `False` are special values that belong to the type `bool`;\n",
        "they are not strings:"
      ]
    },
    {
      "cell_type": "code",
      "execution_count": 19,
      "id": "90fb1c9c",
      "metadata": {
        "id": "90fb1c9c",
        "outputId": "af94f768-d34e-45a2-ab4d-4af85986cccb",
        "colab": {
          "base_uri": "https://localhost:8080/"
        }
      },
      "outputs": [
        {
          "output_type": "execute_result",
          "data": {
            "text/plain": [
              "bool"
            ]
          },
          "metadata": {},
          "execution_count": 19
        }
      ],
      "source": [
        "type(True)"
      ]
    },
    {
      "cell_type": "code",
      "execution_count": 20,
      "id": "c1cae572",
      "metadata": {
        "id": "c1cae572",
        "outputId": "ee2d71ab-a122-4f22-d6dc-7daa2631f037",
        "colab": {
          "base_uri": "https://localhost:8080/"
        }
      },
      "outputs": [
        {
          "output_type": "execute_result",
          "data": {
            "text/plain": [
              "bool"
            ]
          },
          "metadata": {},
          "execution_count": 20
        }
      ],
      "source": [
        "type(False)"
      ]
    },
    {
      "cell_type": "markdown",
      "id": "451b2e8d",
      "metadata": {
        "id": "451b2e8d"
      },
      "source": [
        "The `==` operator is one of the **relational operators**; the others are:"
      ]
    },
    {
      "cell_type": "code",
      "execution_count": 21,
      "id": "c901fe2b",
      "metadata": {
        "id": "c901fe2b",
        "outputId": "81c79faf-15ec-44a4-c181-2ed3583186ce",
        "colab": {
          "base_uri": "https://localhost:8080/"
        }
      },
      "outputs": [
        {
          "output_type": "execute_result",
          "data": {
            "text/plain": [
              "True"
            ]
          },
          "metadata": {},
          "execution_count": 21
        }
      ],
      "source": [
        "x > y # x is more than y"
      ]
    },
    {
      "cell_type": "code",
      "execution_count": 22,
      "id": "1457949f",
      "metadata": {
        "id": "1457949f",
        "outputId": "62e61c3c-26b7-4dbc-ca20-eb5a8e864a97",
        "colab": {
          "base_uri": "https://localhost:8080/"
        }
      },
      "outputs": [
        {
          "output_type": "execute_result",
          "data": {
            "text/plain": [
              "False"
            ]
          },
          "metadata": {},
          "execution_count": 22
        }
      ],
      "source": [
        "x < y # x is less than y"
      ]
    },
    {
      "cell_type": "code",
      "execution_count": 23,
      "id": "56bb7eed",
      "metadata": {
        "id": "56bb7eed",
        "outputId": "5e8dc44f-d4b9-453c-d58d-8a4444fb11b1",
        "colab": {
          "base_uri": "https://localhost:8080/"
        }
      },
      "outputs": [
        {
          "output_type": "execute_result",
          "data": {
            "text/plain": [
              "True"
            ]
          },
          "metadata": {},
          "execution_count": 23
        }
      ],
      "source": [
        "x >= y # x is more than or equal to y"
      ]
    },
    {
      "cell_type": "code",
      "execution_count": 24,
      "id": "1cdcc7ab",
      "metadata": {
        "id": "1cdcc7ab",
        "outputId": "4941175b-126b-4246-c521-073354343f0d",
        "colab": {
          "base_uri": "https://localhost:8080/"
        }
      },
      "outputs": [
        {
          "output_type": "execute_result",
          "data": {
            "text/plain": [
              "False"
            ]
          },
          "metadata": {},
          "execution_count": 24
        }
      ],
      "source": [
        "x <= y # x is less than or equal to y"
      ]
    },
    {
      "cell_type": "code",
      "execution_count": 25,
      "id": "df1a1287",
      "metadata": {
        "id": "df1a1287",
        "outputId": "e0177a46-1e06-4c23-cbb0-504e71cc9018",
        "colab": {
          "base_uri": "https://localhost:8080/"
        }
      },
      "outputs": [
        {
          "output_type": "execute_result",
          "data": {
            "text/plain": [
              "True"
            ]
          },
          "metadata": {},
          "execution_count": 25
        }
      ],
      "source": [
        "x != y # x is not equal to y\n",
        "# not mentioned but if using a relational operator, otherwise it will not work"
      ]
    },
    {
      "cell_type": "code",
      "source": [
        "x =! y # as you can see here"
      ],
      "metadata": {
        "id": "AajdPj0ajODw"
      },
      "id": "AajdPj0ajODw",
      "execution_count": 28,
      "outputs": []
    },
    {
      "cell_type": "markdown",
      "id": "db5a9477",
      "metadata": {
        "id": "db5a9477"
      },
      "source": [
        "## Logical operators\n",
        "\n",
        "To combine boolean values into expressions, we can use **logical operators**.\n",
        "The most common are `and`, ` or`, and `not`.\n",
        "The meaning of these operators is similar to their meaning in English.\n",
        "For example, the value of the following expression is `True` only if `x` is greater than `0` *and* less than `10`."
      ]
    },
    {
      "cell_type": "code",
      "execution_count": 31,
      "id": "848c5f2c",
      "metadata": {
        "id": "848c5f2c",
        "outputId": "4433f040-5734-41e2-deb3-105a4cd9e379",
        "colab": {
          "base_uri": "https://localhost:8080/"
        }
      },
      "outputs": [
        {
          "output_type": "execute_result",
          "data": {
            "text/plain": [
              "True"
            ]
          },
          "metadata": {},
          "execution_count": 31
        }
      ],
      "source": [
        "x = 77\n",
        "y = 88\n",
        "x > 20 and x < 100"
      ]
    },
    {
      "cell_type": "markdown",
      "id": "e8c14026",
      "metadata": {
        "id": "e8c14026"
      },
      "source": [
        "The following expression is `True` if *either or both* of the conditions is true, that is, if the number is divisible by 2 *or* 3:"
      ]
    },
    {
      "cell_type": "code",
      "execution_count": 32,
      "id": "eb66ee6a",
      "metadata": {
        "id": "eb66ee6a",
        "outputId": "fe3bcc61-772f-429f-e113-d90166a19631",
        "colab": {
          "base_uri": "https://localhost:8080/"
        }
      },
      "outputs": [
        {
          "output_type": "execute_result",
          "data": {
            "text/plain": [
              "False"
            ]
          },
          "metadata": {},
          "execution_count": 32
        }
      ],
      "source": [
        "x % 2 == 0 or x % 3 == 0"
      ]
    },
    {
      "cell_type": "markdown",
      "id": "3bd0ef52",
      "metadata": {
        "id": "3bd0ef52"
      },
      "source": [
        "Finally, the `not` operator negates a boolean expression, so the following expression is `True` if `x > y` is `False`."
      ]
    },
    {
      "cell_type": "code",
      "execution_count": 33,
      "id": "6de8b97c",
      "metadata": {
        "id": "6de8b97c",
        "outputId": "b783ab5a-f5be-4823-f889-3cffb6e21c4b",
        "colab": {
          "base_uri": "https://localhost:8080/"
        }
      },
      "outputs": [
        {
          "output_type": "execute_result",
          "data": {
            "text/plain": [
              "True"
            ]
          },
          "metadata": {},
          "execution_count": 33
        }
      ],
      "source": [
        "not x > y"
      ]
    },
    {
      "cell_type": "markdown",
      "id": "fc6098c2",
      "metadata": {
        "id": "fc6098c2"
      },
      "source": [
        "Strictly speaking, the operands of a logical operator should be boolean expressions, but Python is not very strict.\n",
        "Any nonzero number is interpreted as `True`:"
      ]
    },
    {
      "cell_type": "code",
      "execution_count": 34,
      "id": "add63275",
      "metadata": {
        "id": "add63275",
        "outputId": "70e9517b-5355-4318-ba9e-00f59bb86b25",
        "colab": {
          "base_uri": "https://localhost:8080/"
        }
      },
      "outputs": [
        {
          "output_type": "execute_result",
          "data": {
            "text/plain": [
              "True"
            ]
          },
          "metadata": {},
          "execution_count": 34
        }
      ],
      "source": [
        "456 and True"
      ]
    },
    {
      "cell_type": "markdown",
      "id": "102ceab9",
      "metadata": {
        "id": "102ceab9"
      },
      "source": [
        "This flexibility can be useful, but there are some subtleties to it that can be confusing.\n",
        "You might want to avoid it."
      ]
    },
    {
      "cell_type": "markdown",
      "id": "6b0f2dc1",
      "metadata": {
        "id": "6b0f2dc1"
      },
      "source": [
        "## if statements\n",
        "\n",
        "In order to write useful programs, we almost always need the ability to\n",
        "check conditions and change the behavior of the program accordingly.\n",
        "**Conditional statements** give us this ability. The simplest form is\n",
        "the `if` statement:"
      ]
    },
    {
      "cell_type": "code",
      "execution_count": 35,
      "id": "80937bef",
      "metadata": {
        "id": "80937bef",
        "outputId": "bd6e9aa2-d113-4287-99cf-4f43d9723064",
        "colab": {
          "base_uri": "https://localhost:8080/"
        }
      },
      "outputs": [
        {
          "output_type": "stream",
          "name": "stdout",
          "text": [
            "X is not a negative number\n"
          ]
        }
      ],
      "source": [
        "if x > 0:\n",
        "    print ('X is not a negative number')"
      ]
    },
    {
      "cell_type": "markdown",
      "id": "973f705e",
      "metadata": {
        "id": "973f705e"
      },
      "source": [
        "`if` is a Python keyword.\n",
        "`if` statements have the same structure as function definitions: a\n",
        "header followed by an indented statement or sequence of statements called a **block**.\n",
        "\n",
        "The boolean expression after `if` is called the **condition**.\n",
        "If it is true, the statements in the indented block run. If not, they don't.\n",
        "\n",
        "There is no limit to the number of statements that can appear in the block, but there has to be at least one.\n",
        "Occasionally, it is useful to have a block that does nothing -- usually as a place keeper for code you haven't written yet.\n",
        "In that case, you can use the `pass` statement, which does nothing."
      ]
    },
    {
      "cell_type": "code",
      "execution_count": 36,
      "id": "bc74a318",
      "metadata": {
        "id": "bc74a318"
      },
      "outputs": [],
      "source": [
        "if x < 0:\n",
        "  pass"
      ]
    },
    {
      "cell_type": "markdown",
      "id": "adf3f6c5",
      "metadata": {
        "id": "adf3f6c5"
      },
      "source": [
        "The word `TODO` in a comment is a conventional reminder that there's something you need to do later."
      ]
    },
    {
      "cell_type": "markdown",
      "id": "eb39bcd9",
      "metadata": {
        "id": "eb39bcd9"
      },
      "source": [
        "## The `else` clause\n",
        "\n",
        "An `if` statement can have a second part, called an `else` clause.\n",
        "The syntax looks like this:"
      ]
    },
    {
      "cell_type": "code",
      "execution_count": 37,
      "id": "d16f49f2",
      "metadata": {
        "id": "d16f49f2",
        "outputId": "f9970c26-edce-4bf5-bc88-0d7ef06dfc43",
        "colab": {
          "base_uri": "https://localhost:8080/"
        }
      },
      "outputs": [
        {
          "output_type": "stream",
          "name": "stdout",
          "text": [
            "X is an odd number\n"
          ]
        }
      ],
      "source": [
        "if x % 2 == 0:\n",
        "    print ('X is an even number')\n",
        "else:\n",
        "    print ('X is an odd number')"
      ]
    },
    {
      "cell_type": "markdown",
      "id": "e7dc8943",
      "metadata": {
        "id": "e7dc8943"
      },
      "source": [
        "If the condition is true, the first indented statement runs; otherwise, the second indented statement runs.\n",
        "\n",
        "In this example, if `x` is even, the remainder when `x` is divided by `2` is `0`, so the condition is true and the program displays `x is even`.\n",
        "If `x` is odd, the remainder is `1`, so the condition\n",
        "is false, and the program displays `x is odd`.\n",
        "\n",
        "Since the condition must be true or false, exactly one of the alternatives will run.\n",
        "The alternatives are called **branches**."
      ]
    },
    {
      "cell_type": "markdown",
      "id": "20c8adb6",
      "metadata": {
        "id": "20c8adb6"
      },
      "source": [
        "## Chained conditionals\n",
        "\n",
        "Sometimes there are more than two possibilities and we need more than two branches.\n",
        "One way to express a computation like that is a **chained conditional**, which includes an `elif` clause."
      ]
    },
    {
      "cell_type": "code",
      "execution_count": 39,
      "id": "309fccb8",
      "metadata": {
        "id": "309fccb8",
        "outputId": "eeb4df36-121b-439f-da66-342ff24d26b7",
        "colab": {
          "base_uri": "https://localhost:8080/"
        }
      },
      "outputs": [
        {
          "output_type": "stream",
          "name": "stdout",
          "text": [
            "X is lower than Y.\n"
          ]
        }
      ],
      "source": [
        "if x < y:\n",
        "  print ('X is lower than Y.')\n",
        "elif x > y:\n",
        "  print ('X is higher than Y.')\n",
        "else:\n",
        "  print ('Values X and Y are equal in value.')\n",
        "  # elif can be used as many times as needed, but else means it's the end of the conditions"
      ]
    },
    {
      "cell_type": "markdown",
      "id": "46916379",
      "metadata": {
        "id": "46916379"
      },
      "source": [
        "`elif` is an abbreviation of \"else if\".\n",
        "There is no limit on the number of `elif` clauses.\n",
        "If there is an `else` clause, it has to be at the end, but there doesn't have to be\n",
        "one.\n",
        "\n",
        "Each condition is checked in order.\n",
        "If the first is false, the next is checked, and so on.\n",
        "If one of them is true, the corresponding branch runs and the `if` statement ends.\n",
        "Even if more than one condition is true, only the first true branch runs."
      ]
    },
    {
      "cell_type": "markdown",
      "id": "e0c0b9dd",
      "metadata": {
        "id": "e0c0b9dd"
      },
      "source": [
        "## Nested Conditionals\n",
        "\n",
        "One conditional can also be nested within another.\n",
        "We could have written the example in the previous section like this:"
      ]
    },
    {
      "cell_type": "code",
      "execution_count": null,
      "id": "d77539cf",
      "metadata": {
        "id": "d77539cf"
      },
      "outputs": [],
      "source": [
        "# EXERCISES COMPLETED AT END OF ASSIGNMENT"
      ]
    },
    {
      "cell_type": "markdown",
      "id": "29f67a0a",
      "metadata": {
        "id": "29f67a0a"
      },
      "source": [
        "The outer `if` statement contains two branches.\n",
        "The first branch contains a simple statement. The second branch contains another `if` statement, which has two branches of its own.\n",
        "Those two branches are both simple statements, although they could have been conditional statements as well.\n",
        "\n",
        "Although the indentation of the statements makes the structure apparent, **nested conditionals** can be difficult to read.\n",
        "I suggest you avoid them when you can.\n",
        "\n",
        "Logical operators often provide a way to simplify nested conditional statements.\n",
        "Here's an example with a nested conditional."
      ]
    },
    {
      "cell_type": "code",
      "execution_count": null,
      "id": "91cac1a0",
      "metadata": {
        "id": "91cac1a0"
      },
      "outputs": [],
      "source": [
        "# EXERCISES COMPLETED AT END OF ASSIGNMENT"
      ]
    },
    {
      "cell_type": "markdown",
      "id": "5292eb11",
      "metadata": {
        "id": "5292eb11"
      },
      "source": [
        "The `print` statement runs only if we make it past both conditionals, so we get the same effect with the `and` operator."
      ]
    },
    {
      "cell_type": "code",
      "execution_count": null,
      "id": "f8ba1724",
      "metadata": {
        "id": "f8ba1724"
      },
      "outputs": [],
      "source": [
        "# EXERCISES COMPLETED AT END OF ASSIGNMENT"
      ]
    },
    {
      "cell_type": "markdown",
      "id": "dd8e808a",
      "metadata": {
        "id": "dd8e808a"
      },
      "source": [
        "For this kind of condition, Python provides a more concise option:"
      ]
    },
    {
      "cell_type": "code",
      "execution_count": null,
      "id": "014cd6f4",
      "metadata": {
        "id": "014cd6f4"
      },
      "outputs": [],
      "source": [
        "# EXERCISES COMPLETED AT END OF ASSIGNMENT"
      ]
    },
    {
      "cell_type": "markdown",
      "id": "db583cd9",
      "metadata": {
        "id": "db583cd9"
      },
      "source": [
        "## Recursion\n",
        "\n",
        "It is legal for a function to call itself.\n",
        "It may not be obvious why that is a good thing, but it turns out to be one of the most magical things a program can do.\n",
        "Here's an example."
      ]
    },
    {
      "cell_type": "code",
      "execution_count": null,
      "id": "17904e98",
      "metadata": {
        "id": "17904e98"
      },
      "outputs": [],
      "source": [
        "# EXERCISES COMPLETED AT END OF ASSIGNMENT"
      ]
    },
    {
      "cell_type": "markdown",
      "id": "c88e0dc7",
      "metadata": {
        "id": "c88e0dc7"
      },
      "source": [
        "If `n` is 0 or negative, `countdown` outputs the word, \"Blastoff!\" Otherwise, it\n",
        "outputs `n` and then calls itself, passing `n-1` as an argument.\n",
        "\n",
        "Here's what happens when we call this function with the argument `3`."
      ]
    },
    {
      "cell_type": "code",
      "execution_count": null,
      "id": "6c1e32e2",
      "metadata": {
        "id": "6c1e32e2"
      },
      "outputs": [],
      "source": [
        "# EXERCISES COMPLETED AT END OF ASSIGNMENT"
      ]
    },
    {
      "cell_type": "markdown",
      "id": "3f3c87ec",
      "metadata": {
        "id": "3f3c87ec"
      },
      "source": [
        "The execution of `countdown` begins with `n=3`, and since `n` is greater\n",
        "than `0`, it displays `3`, and then calls itself\\...\n",
        "\n",
        "> The execution of `countdown` begins with `n=2`, and since `n` is\n",
        "> greater than `0`, it displays `2`, and then calls itself\\...\n",
        ">\n",
        "> > The execution of `countdown` begins with `n=1`, and since `n` is\n",
        "> > greater than `0`, it displays `1`, and then calls itself\\...\n",
        "> >\n",
        "> > > The execution of `countdown` begins with `n=0`, and since `n` is\n",
        "> > > not greater than `0`, it displays \"Blastoff!\" and returns.\n",
        "> >\n",
        "> > The `countdown` that got `n=1` returns.\n",
        ">\n",
        "> The `countdown` that got `n=2` returns.\n",
        "\n",
        "The `countdown` that got `n=3` returns."
      ]
    },
    {
      "cell_type": "markdown",
      "id": "782e95bb",
      "metadata": {
        "id": "782e95bb"
      },
      "source": [
        "A function that calls itself is **recursive**.\n",
        "As another example, we can write a function that prints a string `n` times."
      ]
    },
    {
      "cell_type": "code",
      "execution_count": null,
      "id": "1bb13f8e",
      "metadata": {
        "id": "1bb13f8e"
      },
      "outputs": [],
      "source": [
        "# EXERCISES COMPLETED AT END OF ASSIGNMENT"
      ]
    },
    {
      "cell_type": "markdown",
      "id": "73d07c17",
      "metadata": {
        "id": "73d07c17"
      },
      "source": [
        "If `n` is positive, `print_n_times` displays the value of `string` and then calls itself, passing along `string` and `n-1` as arguments.\n",
        "\n",
        "If `n` is `0` or negative, the condition is false and `print_n_times` does nothing.\n",
        "\n",
        "Here's how it works."
      ]
    },
    {
      "cell_type": "code",
      "execution_count": null,
      "id": "e7b68c57",
      "metadata": {
        "id": "e7b68c57"
      },
      "outputs": [],
      "source": [
        "# EXERCISES COMPLETED AT END OF ASSIGNMENT"
      ]
    },
    {
      "cell_type": "markdown",
      "id": "1fb55a78",
      "metadata": {
        "id": "1fb55a78"
      },
      "source": [
        "For simple examples like this, it is probably easier to use a `for`\n",
        "loop. But we will see examples later that are hard to write with a `for`\n",
        "loop and easy to write with recursion, so it is good to start early."
      ]
    },
    {
      "cell_type": "markdown",
      "id": "c652c739",
      "metadata": {
        "id": "c652c739"
      },
      "source": [
        "## Stack diagrams for recursive functions\n",
        "\n",
        "Here's a stack diagram that shows the frames created when we called `countdown` with `n = 3`."
      ]
    },
    {
      "cell_type": "code",
      "execution_count": null,
      "id": "643148da",
      "metadata": {
        "tags": [],
        "id": "643148da"
      },
      "outputs": [],
      "source": [
        "# EXERCISES COMPLETED AT END OF ASSIGNMENT"
      ]
    },
    {
      "cell_type": "code",
      "execution_count": null,
      "id": "a8510119",
      "metadata": {
        "tags": [],
        "id": "a8510119"
      },
      "outputs": [],
      "source": [
        "# EXERCISES COMPLETED AT END OF ASSIGNMENT"
      ]
    },
    {
      "cell_type": "markdown",
      "id": "9282331b",
      "metadata": {
        "id": "9282331b"
      },
      "source": [
        "The four `countdown` frames have different values for the parameter `n`.\n",
        "The bottom of the stack, where `n=0`, is called the **base case**.\n",
        "It does not make a recursive call, so there are no more frames."
      ]
    },
    {
      "cell_type": "code",
      "execution_count": null,
      "id": "a2a376b3",
      "metadata": {
        "tags": [],
        "id": "a2a376b3"
      },
      "outputs": [],
      "source": [
        "# EXERCISES COMPLETED AT END OF ASSIGNMENT"
      ]
    },
    {
      "cell_type": "markdown",
      "id": "37bbc2b8",
      "metadata": {
        "id": "37bbc2b8"
      },
      "source": [
        "## Infinite recursion\n",
        "\n",
        "If a recursion never reaches a base case, it goes on making recursive\n",
        "calls forever, and the program never terminates. This is known as\n",
        "**infinite recursion**, and it is generally not a good idea.\n",
        "Here's a minimal function with an infinite recursion."
      ]
    },
    {
      "cell_type": "code",
      "execution_count": null,
      "id": "af487feb",
      "metadata": {
        "id": "af487feb"
      },
      "outputs": [],
      "source": [
        "# EXERCISES COMPLETED AT END OF ASSIGNMENT"
      ]
    },
    {
      "cell_type": "markdown",
      "id": "450a20ac",
      "metadata": {
        "id": "450a20ac"
      },
      "source": [
        "Every time `recurse` is called, it calls itself, which creates another frame.\n",
        "In Python, there is a limit to the number of frames that can be on the stack at the same time.\n",
        "If a program exceeds the limit, it causes a runtime error."
      ]
    },
    {
      "cell_type": "code",
      "execution_count": null,
      "id": "e5d6c732",
      "metadata": {
        "tags": [],
        "id": "e5d6c732"
      },
      "outputs": [],
      "source": [
        "# EXERCISES COMPLETED AT END OF ASSIGNMENT"
      ]
    },
    {
      "cell_type": "code",
      "execution_count": null,
      "id": "22454b51",
      "metadata": {
        "tags": [],
        "id": "22454b51"
      },
      "outputs": [],
      "source": [
        "# EXERCISES COMPLETED AT END OF ASSIGNMENT"
      ]
    },
    {
      "cell_type": "markdown",
      "id": "39fc5c31",
      "metadata": {
        "id": "39fc5c31"
      },
      "source": [
        "The traceback indicates that there were almost 3000 frames on the stack when the error occurred.\n",
        "\n",
        "If you encounter an infinite recursion by accident, review your function to confirm that there is a base case that does not make a recursive call. And if there is a base case, check whether you are guaranteed to reach it."
      ]
    },
    {
      "cell_type": "markdown",
      "id": "45299414",
      "metadata": {
        "id": "45299414"
      },
      "source": [
        "## Keyboard input\n",
        "\n",
        "The programs we have written so far accept no input from the user. They\n",
        "just do the same thing every time.\n",
        "\n",
        "Python provides a built-in function called `input` that stops the\n",
        "program and waits for the user to type something. When the user presses\n",
        "*Return* or *Enter*, the program resumes and `input` returns what the user\n",
        "typed as a string."
      ]
    },
    {
      "cell_type": "code",
      "execution_count": null,
      "id": "ac0fb4a6",
      "metadata": {
        "tags": [],
        "id": "ac0fb4a6"
      },
      "outputs": [],
      "source": [
        "# EXERCISES COMPLETED AT END OF ASSIGNMENT"
      ]
    },
    {
      "cell_type": "code",
      "execution_count": null,
      "id": "f6a2e4d6",
      "metadata": {
        "id": "f6a2e4d6"
      },
      "outputs": [],
      "source": [
        "# EXERCISES COMPLETED AT END OF ASSIGNMENT"
      ]
    },
    {
      "cell_type": "markdown",
      "id": "acf9ec53",
      "metadata": {
        "id": "acf9ec53"
      },
      "source": [
        "Before getting input from the user, you might want to display a prompt\n",
        "telling the user what to type. `input` can take a prompt as an argument:"
      ]
    },
    {
      "cell_type": "code",
      "execution_count": null,
      "id": "e0600e5e",
      "metadata": {
        "tags": [],
        "id": "e0600e5e"
      },
      "outputs": [],
      "source": [
        "# EXERCISES COMPLETED AT END OF ASSIGNMENT"
      ]
    },
    {
      "cell_type": "code",
      "execution_count": null,
      "id": "964346f0",
      "metadata": {
        "id": "964346f0"
      },
      "outputs": [],
      "source": [
        "# EXERCISES COMPLETED AT END OF ASSIGNMENT"
      ]
    },
    {
      "cell_type": "markdown",
      "id": "1b754b39",
      "metadata": {
        "id": "1b754b39"
      },
      "source": [
        "The sequence `\\n` at the end of the prompt represents a **newline**, which is a special character that causes a line break -- that way the user's input appears below the prompt.\n",
        "\n",
        "If you expect the user to type an integer, you can use the `int` function to convert the return value to `int`."
      ]
    },
    {
      "cell_type": "code",
      "execution_count": null,
      "id": "590983cd",
      "metadata": {
        "tags": [],
        "id": "590983cd"
      },
      "outputs": [],
      "source": [
        "# EXERCISES COMPLETED AT END OF ASSIGNMENT"
      ]
    },
    {
      "cell_type": "code",
      "execution_count": null,
      "id": "60a484d7",
      "metadata": {
        "id": "60a484d7"
      },
      "outputs": [],
      "source": [
        "# EXERCISES COMPLETED AT END OF ASSIGNMENT"
      ]
    },
    {
      "cell_type": "markdown",
      "id": "0a65f2af",
      "metadata": {
        "id": "0a65f2af"
      },
      "source": [
        "But if they type something that's not an integer, you'll get a runtime error."
      ]
    },
    {
      "cell_type": "code",
      "execution_count": null,
      "id": "8d3d6049",
      "metadata": {
        "tags": [],
        "id": "8d3d6049"
      },
      "outputs": [],
      "source": [
        "# EXERCISES COMPLETED AT END OF ASSIGNMENT"
      ]
    },
    {
      "cell_type": "code",
      "execution_count": null,
      "id": "a04e3016",
      "metadata": {
        "tags": [],
        "id": "a04e3016"
      },
      "outputs": [],
      "source": [
        "# EXERCISES COMPLETED AT END OF ASSIGNMENT"
      ]
    },
    {
      "cell_type": "markdown",
      "id": "a4ce3ed5",
      "metadata": {
        "id": "a4ce3ed5"
      },
      "source": [
        "We will see how to handle this kind of error later."
      ]
    },
    {
      "cell_type": "markdown",
      "id": "14c1d3dc",
      "metadata": {
        "id": "14c1d3dc"
      },
      "source": [
        "## Debugging\n",
        "\n",
        "When a syntax or runtime error occurs, the error message contains a lot\n",
        "of information, but it can be overwhelming. The most useful parts are\n",
        "usually:\n",
        "\n",
        "-   What kind of error it was, and\n",
        "\n",
        "-   Where it occurred.\n",
        "\n",
        "Syntax errors are usually easy to find, but there are a few gotchas.\n",
        "Errors related to spaces and tabs can be tricky because they are invisible\n",
        "and we are used to ignoring them."
      ]
    },
    {
      "cell_type": "code",
      "execution_count": null,
      "id": "b82642f6",
      "metadata": {
        "tags": [],
        "id": "b82642f6"
      },
      "outputs": [],
      "source": [
        "# EXERCISES COMPLETED AT END OF ASSIGNMENT"
      ]
    },
    {
      "cell_type": "markdown",
      "id": "d1d06263",
      "metadata": {
        "id": "d1d06263"
      },
      "source": [
        "In this example, the problem is that the second line is indented by one space.\n",
        "But the error message points to `y`, which is misleading.\n",
        "Error messages indicate where the problem was discovered, but the actual error might be earlier in the code.\n",
        "\n",
        "The same is true of runtime errors.\n",
        "For example, suppose you are trying to convert a ratio to decibels, like this:"
      ]
    },
    {
      "cell_type": "code",
      "execution_count": null,
      "id": "583ef53c",
      "metadata": {
        "tags": [],
        "id": "583ef53c"
      },
      "outputs": [],
      "source": [
        "# EXERCISES COMPLETED AT END OF ASSIGNMENT"
      ]
    },
    {
      "cell_type": "code",
      "execution_count": null,
      "id": "2f4b6082",
      "metadata": {
        "tags": [],
        "id": "2f4b6082"
      },
      "outputs": [],
      "source": [
        "# EXERCISES COMPLETED AT END OF ASSIGNMENT"
      ]
    },
    {
      "cell_type": "markdown",
      "id": "55914374",
      "metadata": {
        "id": "55914374"
      },
      "source": [
        "The error message indicates line 5, but there is nothing wrong with that line.\n",
        "The problem is in line 4, which uses integer division instead of floating-point division -- as a result, the value of `ratio` is `0`.\n",
        "When we call `math.log10`, we get a `ValueError` with the message `math domain error`, because `0` is not in the \"domain\" of valid arguments for `math.log10`, because the logarithm of `0` is undefined.\n",
        "\n",
        "In general, you should take the time to read error messages carefully, but don't assume that everything they say is correct."
      ]
    },
    {
      "cell_type": "markdown",
      "id": "8ffe690e",
      "metadata": {
        "id": "8ffe690e"
      },
      "source": [
        "## Glossary\n",
        "\n",
        "**recursion:**\n",
        "The process of calling the function that is currently executing.\n",
        "\n",
        "**modulus operator:**\n",
        "An operator, `%`, that works on integers and returns the remainder when one number is divided by another.\n",
        "\n",
        "**boolean expression:**\n",
        "An expression whose value is either `True` or `False`.\n",
        "\n",
        "**relational operator:**\n",
        "One of the operators that compares its operands: `==`, `!=`, `>`, `<`, `>=`, and `<=`.\n",
        "\n",
        "**logical operator:**\n",
        "One of the operators that combines boolean expressions, including `and`, `or`, and `not`.\n",
        "\n",
        "**conditional statement:**\n",
        "A statement that controls the flow of execution depending on some condition.\n",
        "\n",
        "**condition:**\n",
        "The boolean expression in a conditional statement that determines which branch runs.\n",
        "\n",
        "**block:**\n",
        "One or more statements indented to indicate they are part of another statement.\n",
        "\n",
        "**branch:**\n",
        "One of the alternative sequences of statements in a conditional statement.\n",
        "\n",
        "**chained conditional:**\n",
        "A conditional statement with a series of alternative branches.\n",
        "\n",
        "**nested conditional:**\n",
        "A conditional statement that appears in one of the branches of another conditional statement.\n",
        "\n",
        "**recursive:**\n",
        "A function that calls itself is recursive.\n",
        "\n",
        "**base case:**\n",
        "A conditional branch in a recursive function that does not make a recursive call.\n",
        "\n",
        "**infinite recursion:**\n",
        "A recursion that doesn't have a base case, or never reaches it.\n",
        "Eventually, an infinite recursion causes a runtime error.\n",
        "\n",
        "**newline:**\n",
        "A character that creates a line break between two parts of a string."
      ]
    },
    {
      "cell_type": "markdown",
      "id": "8d783953",
      "metadata": {
        "id": "8d783953"
      },
      "source": [
        "## Exercises"
      ]
    },
    {
      "cell_type": "code",
      "execution_count": null,
      "id": "66aae3cb",
      "metadata": {
        "tags": [],
        "id": "66aae3cb"
      },
      "outputs": [],
      "source": []
    },
    {
      "cell_type": "markdown",
      "id": "02f9f1d7",
      "metadata": {
        "id": "02f9f1d7"
      },
      "source": [
        "### Ask a virtual assistant\n",
        "\n",
        "* Ask a virtual assistant, \"What are some uses of the modulus operator?\"\n",
        "\n",
        "* Python provides operators to compute the logical operations `and`, `or`, and `not`, but it doesn't have an operator that computes the exclusive `or` operation, usually written `xor`. Ask an assistant \"What is the logical xor operation and how do I compute it in Python?\"\n",
        "\n",
        "In this chapter, we saw two ways to write an `if` statement with three branches, using a chained conditional or a nested conditional.\n",
        "You can use a virtual assistant to convert from one to the other.\n",
        "For example, ask a VA, \"Convert this statement to a chained conditional.\""
      ]
    },
    {
      "cell_type": "code",
      "execution_count": 45,
      "id": "ade1ecb4",
      "metadata": {
        "tags": [],
        "id": "ade1ecb4",
        "outputId": "32d8a861-1644-420b-bf7a-21d05df9018c",
        "colab": {
          "base_uri": "https://localhost:8080/"
        }
      },
      "outputs": [
        {
          "output_type": "stream",
          "name": "stdout",
          "text": [
            "X has a lower value than Y.\n"
          ]
        }
      ],
      "source": [
        "if x == y:\n",
        "    print('X and Y are equal in their value.')\n",
        "else:\n",
        "    if x < y:\n",
        "        print('X has a lower value than Y.')\n",
        "    else:\n",
        "        print('X has a greater value than Y.')"
      ]
    },
    {
      "cell_type": "markdown",
      "id": "9c2a8466",
      "metadata": {
        "id": "9c2a8466"
      },
      "source": [
        "Ask a VA, \"Rewrite this statement with a single conditional.\""
      ]
    },
    {
      "cell_type": "code",
      "execution_count": 50,
      "id": "1fd919ea",
      "metadata": {
        "id": "1fd919ea"
      },
      "outputs": [],
      "source": [
        "if 0 < x:\n",
        "    if x < 10:\n",
        "        print('x is a positive single-digit number.')\n",
        "# VA used"
      ]
    },
    {
      "cell_type": "markdown",
      "id": "e0fbed08",
      "metadata": {
        "id": "e0fbed08"
      },
      "source": [
        "See if a VA can simplify this unnecessary complexity."
      ]
    },
    {
      "cell_type": "code",
      "execution_count": 51,
      "id": "1e71702e",
      "metadata": {
        "id": "1e71702e"
      },
      "outputs": [],
      "source": [
        "if not x <= 0 and not x >= 10:\n",
        "    print('x is a positive single-digit number.')\n",
        "# VA used"
      ]
    },
    {
      "cell_type": "markdown",
      "id": "74ef776d",
      "metadata": {
        "id": "74ef776d"
      },
      "source": [
        "Here's an attempt at a recursive function that counts down by two."
      ]
    },
    {
      "cell_type": "code",
      "execution_count": 52,
      "id": "84cbd5a4",
      "metadata": {
        "id": "84cbd5a4"
      },
      "outputs": [],
      "source": [
        "def count_down_two(n):\n",
        "  if n == 0:\n",
        "    print ('Blastoff!!!')\n",
        "  else:\n",
        "    print(n)\n",
        "    count_down_two(n-2)"
      ]
    },
    {
      "cell_type": "markdown",
      "id": "77178e79",
      "metadata": {
        "id": "77178e79"
      },
      "source": [
        "It seems to work."
      ]
    },
    {
      "cell_type": "code",
      "execution_count": 53,
      "id": "b0918789",
      "metadata": {
        "id": "b0918789",
        "outputId": "86f2cc37-8abe-4631-dd51-b66bd3d6ab74",
        "colab": {
          "base_uri": "https://localhost:8080/"
        }
      },
      "outputs": [
        {
          "output_type": "stream",
          "name": "stdout",
          "text": [
            "6\n",
            "4\n",
            "2\n",
            "Blastoff!!!\n"
          ]
        }
      ],
      "source": [
        "count_down_two(6)\n",
        "# no error appears to be here?"
      ]
    },
    {
      "cell_type": "markdown",
      "id": "c9d3a8dc",
      "metadata": {
        "id": "c9d3a8dc"
      },
      "source": [
        "But it has an error. Ask a virtual assistant what's wrong and how to fix it.\n",
        "Paste the solution it provides back here and test it."
      ]
    },
    {
      "cell_type": "code",
      "source": [],
      "metadata": {
        "id": "4p7NjTrcmcIo"
      },
      "id": "4p7NjTrcmcIo",
      "execution_count": null,
      "outputs": []
    },
    {
      "cell_type": "markdown",
      "id": "240a3888",
      "metadata": {
        "id": "240a3888"
      },
      "source": [
        "### Exercise\n",
        "\n",
        "The `time` module provides a function, also called `time`, that returns\n",
        "returns the number of seconds since the \"Unix epoch\", which is January 1, 1970, 00:00:00 UTC (Coordinated Universal Time)."
      ]
    },
    {
      "cell_type": "code",
      "execution_count": 54,
      "id": "1e7a2c07",
      "metadata": {
        "id": "1e7a2c07",
        "outputId": "bee721b9-ebbf-46b1-b6f9-0570f5f3e9e1",
        "colab": {
          "base_uri": "https://localhost:8080/"
        }
      },
      "outputs": [
        {
          "output_type": "execute_result",
          "data": {
            "text/plain": [
              "1737911593.4927752"
            ]
          },
          "metadata": {},
          "execution_count": 54
        }
      ],
      "source": [
        "from time import time\n",
        "now = time()\n",
        "now"
      ]
    },
    {
      "cell_type": "markdown",
      "id": "054c3197",
      "metadata": {
        "id": "054c3197"
      },
      "source": [
        "Use integer division and the modulus operator to compute the number of days since January 1, 1970 and the current time of day in hours, minutes, and seconds."
      ]
    },
    {
      "cell_type": "markdown",
      "id": "310196ba",
      "metadata": {
        "tags": [],
        "id": "310196ba"
      },
      "source": [
        "You can read more about the `time` module at <https://docs.python.org/3/library/time.html>."
      ]
    },
    {
      "cell_type": "markdown",
      "id": "6b1fd514",
      "metadata": {
        "id": "6b1fd514"
      },
      "source": [
        "### Exercise\n",
        "\n",
        "If you are given three sticks, you may or may not be able to arrange\n",
        "them in a triangle. For example, if one of the sticks is 12 inches long\n",
        "and the other two are one inch long, you will not be able to get the\n",
        "short sticks to meet in the middle. For any three lengths, there is a\n",
        "test to see if it is possible to form a triangle:\n",
        "\n",
        "> If any of the three lengths is greater than the sum of the other two,\n",
        "> then you cannot form a triangle. Otherwise, you can. (If the sum of\n",
        "> two lengths equals the third, they form what is called a \"degenerate\"\n",
        "> triangle.)\n",
        "\n",
        "Write a function named `is_triangle` that takes three integers as\n",
        "arguments, and that prints either \"Yes\" or \"No\", depending on\n",
        "whether you can or cannot form a triangle from sticks with the given\n",
        "lengths. Hint: Use a chained conditional.\n",
        "\n"
      ]
    },
    {
      "cell_type": "code",
      "execution_count": 55,
      "id": "06381639",
      "metadata": {
        "tags": [],
        "id": "06381639"
      },
      "outputs": [],
      "source": [
        "def is_triangle(a, c, e):\n",
        "  if a > c + e:\n",
        "    print(\"No\")\n",
        "  elif c > a + e:\n",
        "    print(\"No\")\n",
        "  elif e > a + c:\n",
        "    print(\"No\")\n",
        "  else:\n",
        "    print(\"Yes\")\n",
        "# VA used to help determine elif conditions"
      ]
    },
    {
      "cell_type": "markdown",
      "id": "2842401c",
      "metadata": {
        "tags": [],
        "id": "2842401c"
      },
      "source": [
        "Test your function with the following cases."
      ]
    },
    {
      "cell_type": "code",
      "execution_count": 57,
      "id": "156273af",
      "metadata": {
        "tags": [],
        "id": "156273af",
        "outputId": "3ae968cf-5281-45d2-aba4-c46741ebb1bf",
        "colab": {
          "base_uri": "https://localhost:8080/"
        }
      },
      "outputs": [
        {
          "output_type": "stream",
          "name": "stdout",
          "text": [
            "Yes\n"
          ]
        }
      ],
      "source": [
        "is_triangle (6, 6, 6)"
      ]
    },
    {
      "cell_type": "code",
      "execution_count": 58,
      "id": "e00793f4",
      "metadata": {
        "tags": [],
        "id": "e00793f4",
        "outputId": "f24feab1-1716-4891-af74-6669ad50c60f",
        "colab": {
          "base_uri": "https://localhost:8080/"
        }
      },
      "outputs": [
        {
          "output_type": "stream",
          "name": "stdout",
          "text": [
            "Yes\n"
          ]
        }
      ],
      "source": [
        "is_triangle (3, 5, 7)"
      ]
    },
    {
      "cell_type": "code",
      "execution_count": 59,
      "id": "d2911c71",
      "metadata": {
        "tags": [],
        "id": "d2911c71",
        "outputId": "24e3314f-1b12-483a-b2cb-c36f00286b03",
        "colab": {
          "base_uri": "https://localhost:8080/"
        }
      },
      "outputs": [
        {
          "output_type": "stream",
          "name": "stdout",
          "text": [
            "No\n"
          ]
        }
      ],
      "source": [
        "is_triangle (66, 20, 45)"
      ]
    },
    {
      "cell_type": "code",
      "execution_count": 60,
      "id": "2b05586e",
      "metadata": {
        "tags": [],
        "id": "2b05586e",
        "outputId": "9a37ab99-c449-404a-da07-efc92aa31b7c",
        "colab": {
          "base_uri": "https://localhost:8080/"
        }
      },
      "outputs": [
        {
          "output_type": "stream",
          "name": "stdout",
          "text": [
            "No\n"
          ]
        }
      ],
      "source": [
        "is_triangle (0, 4, 3)"
      ]
    },
    {
      "cell_type": "markdown",
      "id": "2ba42106",
      "metadata": {
        "id": "2ba42106"
      },
      "source": [
        "### Exercise\n",
        "\n",
        "What is the output of the following program? Draw a stack diagram that\n",
        "shows the state of the program when it prints the result."
      ]
    },
    {
      "cell_type": "code",
      "execution_count": 61,
      "id": "dac374ad",
      "metadata": {
        "id": "dac374ad",
        "outputId": "0a73dbc7-44ba-481a-da0c-dc2cf12b3867",
        "colab": {
          "base_uri": "https://localhost:8080/"
        }
      },
      "outputs": [
        {
          "output_type": "stream",
          "name": "stdout",
          "text": [
            "Collecting ColabTurtle\n",
            "  Downloading ColabTurtle-2.1.0.tar.gz (6.8 kB)\n",
            "  Preparing metadata (setup.py) ... \u001b[?25l\u001b[?25hdone\n",
            "Building wheels for collected packages: ColabTurtle\n",
            "  Building wheel for ColabTurtle (setup.py) ... \u001b[?25l\u001b[?25hdone\n",
            "  Created wheel for ColabTurtle: filename=ColabTurtle-2.1.0-py3-none-any.whl size=7642 sha256=fe0b8c864f673984a6f0716423edc38eff7c85c07c9ba653eeae138f544aefa8\n",
            "  Stored in directory: /root/.cache/pip/wheels/f6/9e/81/137e7da25129474562d30f8660be599e5c8d79228cb747e5b9\n",
            "Successfully built ColabTurtle\n",
            "Installing collected packages: ColabTurtle\n",
            "Successfully installed ColabTurtle-2.1.0\n"
          ]
        }
      ],
      "source": [
        "# VA used as I'm using colab which doesn't use jupyturtle\n",
        "!pip install ColabTurtle"
      ]
    },
    {
      "cell_type": "code",
      "source": [
        "# THIS IS THE JUPYTURTLE EXERCISE, ACCIDENTALLY DID IT IN THE WRONG PLACE, THE STACK DIAGRAM EXERCISE WILL BE DONE IN THE JUPYTURTLE SECTION\n",
        "from ColabTurtle.Turtle import *\n",
        "initializeTurtle()\n",
        "def draw(length):\n",
        "    angle = 50\n",
        "    factor = 0.6\n",
        "    if length > 5:\n",
        "        forward(length)\n",
        "        left(angle)\n",
        "        draw(factor * length)\n",
        "        right(2 * angle)\n",
        "        draw(factor * length)\n",
        "        left(angle)\n",
        "        back(length)"
      ],
      "metadata": {
        "id": "VCYPYrSOnmn5",
        "outputId": "a3f1022d-56b0-4731-975c-1ed20580a7a4",
        "colab": {
          "base_uri": "https://localhost:8080/",
          "height": 521
        }
      },
      "id": "VCYPYrSOnmn5",
      "execution_count": 62,
      "outputs": [
        {
          "output_type": "display_data",
          "data": {
            "text/plain": [
              "<IPython.core.display.HTML object>"
            ],
            "text/html": [
              "\n",
              "      <svg width=\"800\" height=\"500\">\n",
              "        <rect width=\"100%\" height=\"100%\" fill=\"black\"/>\n",
              "        \n",
              "        <g visibility=visible transform=\"rotate(360,400,250) translate(382, 232)\">\n",
              "<path style=\" stroke:none;fill-rule:evenodd;fill:white;fill-opacity:1;\" d=\"M 18.214844 0.632812 C 16.109375 1.800781 15.011719 4.074219 15.074219 7.132812 L 15.085938 7.652344 L 14.785156 7.496094 C 13.476562 6.824219 11.957031 6.671875 10.40625 7.066406 C 8.46875 7.550781 6.515625 9.15625 4.394531 11.992188 C 3.0625 13.777344 2.679688 14.636719 3.042969 15.027344 L 3.15625 15.152344 L 3.519531 15.152344 C 4.238281 15.152344 4.828125 14.886719 8.1875 13.039062 C 9.386719 12.378906 10.371094 11.839844 10.378906 11.839844 C 10.386719 11.839844 10.355469 11.929688 10.304688 12.035156 C 9.832031 13.09375 9.257812 14.820312 8.96875 16.078125 C 7.914062 20.652344 8.617188 24.53125 11.070312 27.660156 C 11.351562 28.015625 11.363281 27.914062 10.972656 28.382812 C 8.925781 30.84375 7.945312 33.28125 8.238281 35.1875 C 8.289062 35.527344 8.28125 35.523438 8.917969 35.523438 C 10.941406 35.523438 13.074219 34.207031 15.136719 31.6875 C 15.359375 31.417969 15.328125 31.425781 15.5625 31.574219 C 16.292969 32.042969 18.023438 32.964844 18.175781 32.964844 C 18.335938 32.964844 19.941406 32.210938 20.828125 31.71875 C 20.996094 31.625 21.136719 31.554688 21.136719 31.558594 C 21.203125 31.664062 21.898438 32.414062 22.222656 32.730469 C 23.835938 34.300781 25.5625 35.132812 27.582031 35.300781 C 27.90625 35.328125 27.9375 35.308594 28.007812 34.984375 C 28.382812 33.242188 27.625 30.925781 25.863281 28.425781 L 25.542969 27.96875 L 25.699219 27.785156 C 28.945312 23.960938 29.132812 18.699219 26.257812 11.96875 L 26.207031 11.84375 L 27.945312 12.703125 C 31.53125 14.476562 32.316406 14.800781 33.03125 14.800781 C 33.976562 14.800781 33.78125 13.9375 32.472656 12.292969 C 28.519531 7.355469 25.394531 5.925781 21.921875 7.472656 L 21.558594 7.636719 L 21.578125 7.542969 C 21.699219 6.992188 21.761719 5.742188 21.699219 5.164062 C 21.496094 3.296875 20.664062 1.964844 19.003906 0.855469 C 18.480469 0.503906 18.457031 0.5 18.214844 0.632812\"/>\n",
              "</g>\n",
              "      </svg>\n",
              "    "
            ]
          },
          "metadata": {}
        }
      ]
    },
    {
      "cell_type": "code",
      "execution_count": 63,
      "id": "a438cec5",
      "metadata": {
        "id": "a438cec5",
        "outputId": "910b781b-26ae-45f3-ccd9-8c4624c2c102",
        "colab": {
          "base_uri": "https://localhost:8080/",
          "height": 521
        }
      },
      "outputs": [
        {
          "output_type": "display_data",
          "data": {
            "text/plain": [
              "<IPython.core.display.HTML object>"
            ],
            "text/html": [
              "\n",
              "      <svg width=\"800\" height=\"500\">\n",
              "        <rect width=\"100%\" height=\"100%\" fill=\"black\"/>\n",
              "        <line x1=\"400\" y1=\"250\" x2=\"400.0\" y2=\"150.0\" stroke-linecap=\"round\" style=\"stroke:white;stroke-width:4\"/><line x1=\"400.0\" y1=\"150.0\" x2=\"354.037\" y2=\"111.433\" stroke-linecap=\"round\" style=\"stroke:white;stroke-width:4\"/><line x1=\"354.037\" y1=\"111.433\" x2=\"318.584\" y2=\"117.684\" stroke-linecap=\"round\" style=\"stroke:white;stroke-width:4\"/><line x1=\"318.584\" y1=\"117.684\" x2=\"307.784\" y2=\"136.39\" stroke-linecap=\"round\" style=\"stroke:white;stroke-width:4\"/><line x1=\"307.784\" y1=\"136.39\" x2=\"312.217\" y2=\"148.568\" stroke-linecap=\"round\" style=\"stroke:white;stroke-width:4\"/><line x1=\"312.217\" y1=\"148.568\" x2=\"319.524\" y2=\"151.228\" stroke-linecap=\"round\" style=\"stroke:white;stroke-width:4\"/><line x1=\"319.524\" y1=\"151.228\" x2=\"312.217\" y2=\"148.568\" stroke-linecap=\"round\" style=\"stroke:white;stroke-width:4\"/><line x1=\"312.217\" y1=\"148.568\" x2=\"308.329\" y2=\"155.302\" stroke-linecap=\"round\" style=\"stroke:white;stroke-width:4\"/><line x1=\"308.329\" y1=\"155.302\" x2=\"312.217\" y2=\"148.568\" stroke-linecap=\"round\" style=\"stroke:white;stroke-width:4\"/><line x1=\"312.217\" y1=\"148.568\" x2=\"307.784\" y2=\"136.39\" stroke-linecap=\"round\" style=\"stroke:white;stroke-width:4\"/><line x1=\"307.784\" y1=\"136.39\" x2=\"295.021\" y2=\"138.64\" stroke-linecap=\"round\" style=\"stroke:white;stroke-width:4\"/><line x1=\"295.021\" y1=\"138.64\" x2=\"291.133\" y2=\"145.374\" stroke-linecap=\"round\" style=\"stroke:white;stroke-width:4\"/><line x1=\"291.133\" y1=\"145.374\" x2=\"295.021\" y2=\"138.64\" stroke-linecap=\"round\" style=\"stroke:white;stroke-width:4\"/><line x1=\"295.021\" y1=\"138.64\" x2=\"289.064\" y2=\"133.642\" stroke-linecap=\"round\" style=\"stroke:white;stroke-width:4\"/><line x1=\"289.064\" y1=\"133.642\" x2=\"295.021\" y2=\"138.64\" stroke-linecap=\"round\" style=\"stroke:white;stroke-width:4\"/><line x1=\"295.021\" y1=\"138.64\" x2=\"307.784\" y2=\"136.39\" stroke-linecap=\"round\" style=\"stroke:white;stroke-width:4\"/><line x1=\"307.784\" y1=\"136.39\" x2=\"318.584\" y2=\"117.684\" stroke-linecap=\"round\" style=\"stroke:white;stroke-width:4\"/><line x1=\"318.584\" y1=\"117.684\" x2=\"302.037\" y2=\"103.8\" stroke-linecap=\"round\" style=\"stroke:white;stroke-width:4\"/><line x1=\"302.037\" y1=\"103.8\" x2=\"289.274\" y2=\"106.05\" stroke-linecap=\"round\" style=\"stroke:white;stroke-width:4\"/><line x1=\"289.274\" y1=\"106.05\" x2=\"285.386\" y2=\"112.784\" stroke-linecap=\"round\" style=\"stroke:white;stroke-width:4\"/><line x1=\"285.386\" y1=\"112.784\" x2=\"289.274\" y2=\"106.05\" stroke-linecap=\"round\" style=\"stroke:white;stroke-width:4\"/><line x1=\"289.274\" y1=\"106.05\" x2=\"283.317\" y2=\"101.052\" stroke-linecap=\"round\" style=\"stroke:white;stroke-width:4\"/><line x1=\"283.317\" y1=\"101.052\" x2=\"289.274\" y2=\"106.05\" stroke-linecap=\"round\" style=\"stroke:white;stroke-width:4\"/><line x1=\"289.274\" y1=\"106.05\" x2=\"302.037\" y2=\"103.8\" stroke-linecap=\"round\" style=\"stroke:white;stroke-width:4\"/><line x1=\"302.037\" y1=\"103.8\" x2=\"302.037\" y2=\"90.84\" stroke-linecap=\"round\" style=\"stroke:white;stroke-width:4\"/><line x1=\"302.037\" y1=\"90.84\" x2=\"296.08\" y2=\"85.842\" stroke-linecap=\"round\" style=\"stroke:white;stroke-width:4\"/><line x1=\"296.08\" y1=\"85.842\" x2=\"302.037\" y2=\"90.84\" stroke-linecap=\"round\" style=\"stroke:white;stroke-width:4\"/><line x1=\"302.037\" y1=\"90.84\" x2=\"307.994\" y2=\"85.842\" stroke-linecap=\"round\" style=\"stroke:white;stroke-width:4\"/><line x1=\"307.994\" y1=\"85.842\" x2=\"302.037\" y2=\"90.84\" stroke-linecap=\"round\" style=\"stroke:white;stroke-width:4\"/><line x1=\"302.037\" y1=\"90.84\" x2=\"302.037\" y2=\"103.8\" stroke-linecap=\"round\" style=\"stroke:white;stroke-width:4\"/><line x1=\"302.037\" y1=\"103.8\" x2=\"318.584\" y2=\"117.684\" stroke-linecap=\"round\" style=\"stroke:white;stroke-width:4\"/><line x1=\"318.584\" y1=\"117.684\" x2=\"354.037\" y2=\"111.433\" stroke-linecap=\"round\" style=\"stroke:white;stroke-width:4\"/><line x1=\"354.037\" y1=\"111.433\" x2=\"354.037\" y2=\"75.433\" stroke-linecap=\"round\" style=\"stroke:white;stroke-width:4\"/><line x1=\"354.037\" y1=\"75.433\" x2=\"337.49\" y2=\"61.549\" stroke-linecap=\"round\" style=\"stroke:white;stroke-width:4\"/><line x1=\"337.49\" y1=\"61.549\" x2=\"324.727\" y2=\"63.799\" stroke-linecap=\"round\" style=\"stroke:white;stroke-width:4\"/><line x1=\"324.727\" y1=\"63.799\" x2=\"320.839\" y2=\"70.533\" stroke-linecap=\"round\" style=\"stroke:white;stroke-width:4\"/><line x1=\"320.839\" y1=\"70.533\" x2=\"324.727\" y2=\"63.799\" stroke-linecap=\"round\" style=\"stroke:white;stroke-width:4\"/><line x1=\"324.727\" y1=\"63.799\" x2=\"318.77\" y2=\"58.801\" stroke-linecap=\"round\" style=\"stroke:white;stroke-width:4\"/><line x1=\"318.77\" y1=\"58.801\" x2=\"324.727\" y2=\"63.799\" stroke-linecap=\"round\" style=\"stroke:white;stroke-width:4\"/><line x1=\"324.727\" y1=\"63.799\" x2=\"337.49\" y2=\"61.549\" stroke-linecap=\"round\" style=\"stroke:white;stroke-width:4\"/><line x1=\"337.49\" y1=\"61.549\" x2=\"337.49\" y2=\"48.589\" stroke-linecap=\"round\" style=\"stroke:white;stroke-width:4\"/><line x1=\"337.49\" y1=\"48.589\" x2=\"331.533\" y2=\"43.591\" stroke-linecap=\"round\" style=\"stroke:white;stroke-width:4\"/><line x1=\"331.533\" y1=\"43.591\" x2=\"337.49\" y2=\"48.589\" stroke-linecap=\"round\" style=\"stroke:white;stroke-width:4\"/><line x1=\"337.49\" y1=\"48.589\" x2=\"343.447\" y2=\"43.591\" stroke-linecap=\"round\" style=\"stroke:white;stroke-width:4\"/><line x1=\"343.447\" y1=\"43.591\" x2=\"337.49\" y2=\"48.589\" stroke-linecap=\"round\" style=\"stroke:white;stroke-width:4\"/><line x1=\"337.49\" y1=\"48.589\" x2=\"337.49\" y2=\"61.549\" stroke-linecap=\"round\" style=\"stroke:white;stroke-width:4\"/><line x1=\"337.49\" y1=\"61.549\" x2=\"354.037\" y2=\"75.433\" stroke-linecap=\"round\" style=\"stroke:white;stroke-width:4\"/><line x1=\"354.037\" y1=\"75.433\" x2=\"370.584\" y2=\"61.549\" stroke-linecap=\"round\" style=\"stroke:white;stroke-width:4\"/><line x1=\"370.584\" y1=\"61.549\" x2=\"370.584\" y2=\"48.589\" stroke-linecap=\"round\" style=\"stroke:white;stroke-width:4\"/><line x1=\"370.584\" y1=\"48.589\" x2=\"364.627\" y2=\"43.591\" stroke-linecap=\"round\" style=\"stroke:white;stroke-width:4\"/><line x1=\"364.627\" y1=\"43.591\" x2=\"370.584\" y2=\"48.589\" stroke-linecap=\"round\" style=\"stroke:white;stroke-width:4\"/><line x1=\"370.584\" y1=\"48.589\" x2=\"376.541\" y2=\"43.591\" stroke-linecap=\"round\" style=\"stroke:white;stroke-width:4\"/><line x1=\"376.541\" y1=\"43.591\" x2=\"370.584\" y2=\"48.589\" stroke-linecap=\"round\" style=\"stroke:white;stroke-width:4\"/><line x1=\"370.584\" y1=\"48.589\" x2=\"370.584\" y2=\"61.549\" stroke-linecap=\"round\" style=\"stroke:white;stroke-width:4\"/><line x1=\"370.584\" y1=\"61.549\" x2=\"383.347\" y2=\"63.799\" stroke-linecap=\"round\" style=\"stroke:white;stroke-width:4\"/><line x1=\"383.347\" y1=\"63.799\" x2=\"389.304\" y2=\"58.801\" stroke-linecap=\"round\" style=\"stroke:white;stroke-width:4\"/><line x1=\"389.304\" y1=\"58.801\" x2=\"383.347\" y2=\"63.799\" stroke-linecap=\"round\" style=\"stroke:white;stroke-width:4\"/><line x1=\"383.347\" y1=\"63.799\" x2=\"387.235\" y2=\"70.533\" stroke-linecap=\"round\" style=\"stroke:white;stroke-width:4\"/><line x1=\"387.235\" y1=\"70.533\" x2=\"383.347\" y2=\"63.799\" stroke-linecap=\"round\" style=\"stroke:white;stroke-width:4\"/><line x1=\"383.347\" y1=\"63.799\" x2=\"370.584\" y2=\"61.549\" stroke-linecap=\"round\" style=\"stroke:white;stroke-width:4\"/><line x1=\"370.584\" y1=\"61.549\" x2=\"354.037\" y2=\"75.433\" stroke-linecap=\"round\" style=\"stroke:white;stroke-width:4\"/><line x1=\"354.037\" y1=\"75.433\" x2=\"354.037\" y2=\"111.433\" stroke-linecap=\"round\" style=\"stroke:white;stroke-width:4\"/><line x1=\"354.037\" y1=\"111.433\" x2=\"400.0\" y2=\"150.0\" stroke-linecap=\"round\" style=\"stroke:white;stroke-width:4\"/><line x1=\"400.0\" y1=\"150.0\" x2=\"445.963\" y2=\"111.433\" stroke-linecap=\"round\" style=\"stroke:white;stroke-width:4\"/><line x1=\"445.963\" y1=\"111.433\" x2=\"445.963\" y2=\"75.433\" stroke-linecap=\"round\" style=\"stroke:white;stroke-width:4\"/><line x1=\"445.963\" y1=\"75.433\" x2=\"429.416\" y2=\"61.549\" stroke-linecap=\"round\" style=\"stroke:white;stroke-width:4\"/><line x1=\"429.416\" y1=\"61.549\" x2=\"416.653\" y2=\"63.799\" stroke-linecap=\"round\" style=\"stroke:white;stroke-width:4\"/><line x1=\"416.653\" y1=\"63.799\" x2=\"412.765\" y2=\"70.533\" stroke-linecap=\"round\" style=\"stroke:white;stroke-width:4\"/><line x1=\"412.765\" y1=\"70.533\" x2=\"416.653\" y2=\"63.799\" stroke-linecap=\"round\" style=\"stroke:white;stroke-width:4\"/><line x1=\"416.653\" y1=\"63.799\" x2=\"410.696\" y2=\"58.801\" stroke-linecap=\"round\" style=\"stroke:white;stroke-width:4\"/><line x1=\"410.696\" y1=\"58.801\" x2=\"416.653\" y2=\"63.799\" stroke-linecap=\"round\" style=\"stroke:white;stroke-width:4\"/><line x1=\"416.653\" y1=\"63.799\" x2=\"429.416\" y2=\"61.549\" stroke-linecap=\"round\" style=\"stroke:white;stroke-width:4\"/><line x1=\"429.416\" y1=\"61.549\" x2=\"429.416\" y2=\"48.589\" stroke-linecap=\"round\" style=\"stroke:white;stroke-width:4\"/><line x1=\"429.416\" y1=\"48.589\" x2=\"423.459\" y2=\"43.591\" stroke-linecap=\"round\" style=\"stroke:white;stroke-width:4\"/><line x1=\"423.459\" y1=\"43.591\" x2=\"429.416\" y2=\"48.589\" stroke-linecap=\"round\" style=\"stroke:white;stroke-width:4\"/><line x1=\"429.416\" y1=\"48.589\" x2=\"435.373\" y2=\"43.591\" stroke-linecap=\"round\" style=\"stroke:white;stroke-width:4\"/><line x1=\"435.373\" y1=\"43.591\" x2=\"429.416\" y2=\"48.589\" stroke-linecap=\"round\" style=\"stroke:white;stroke-width:4\"/><line x1=\"429.416\" y1=\"48.589\" x2=\"429.416\" y2=\"61.549\" stroke-linecap=\"round\" style=\"stroke:white;stroke-width:4\"/><line x1=\"429.416\" y1=\"61.549\" x2=\"445.963\" y2=\"75.433\" stroke-linecap=\"round\" style=\"stroke:white;stroke-width:4\"/><line x1=\"445.963\" y1=\"75.433\" x2=\"462.51\" y2=\"61.549\" stroke-linecap=\"round\" style=\"stroke:white;stroke-width:4\"/><line x1=\"462.51\" y1=\"61.549\" x2=\"462.51\" y2=\"48.589\" stroke-linecap=\"round\" style=\"stroke:white;stroke-width:4\"/><line x1=\"462.51\" y1=\"48.589\" x2=\"456.553\" y2=\"43.591\" stroke-linecap=\"round\" style=\"stroke:white;stroke-width:4\"/><line x1=\"456.553\" y1=\"43.591\" x2=\"462.51\" y2=\"48.589\" stroke-linecap=\"round\" style=\"stroke:white;stroke-width:4\"/><line x1=\"462.51\" y1=\"48.589\" x2=\"468.467\" y2=\"43.591\" stroke-linecap=\"round\" style=\"stroke:white;stroke-width:4\"/><line x1=\"468.467\" y1=\"43.591\" x2=\"462.51\" y2=\"48.589\" stroke-linecap=\"round\" style=\"stroke:white;stroke-width:4\"/><line x1=\"462.51\" y1=\"48.589\" x2=\"462.51\" y2=\"61.549\" stroke-linecap=\"round\" style=\"stroke:white;stroke-width:4\"/><line x1=\"462.51\" y1=\"61.549\" x2=\"475.273\" y2=\"63.799\" stroke-linecap=\"round\" style=\"stroke:white;stroke-width:4\"/><line x1=\"475.273\" y1=\"63.799\" x2=\"481.23\" y2=\"58.801\" stroke-linecap=\"round\" style=\"stroke:white;stroke-width:4\"/><line x1=\"481.23\" y1=\"58.801\" x2=\"475.273\" y2=\"63.799\" stroke-linecap=\"round\" style=\"stroke:white;stroke-width:4\"/><line x1=\"475.273\" y1=\"63.799\" x2=\"479.161\" y2=\"70.533\" stroke-linecap=\"round\" style=\"stroke:white;stroke-width:4\"/><line x1=\"479.161\" y1=\"70.533\" x2=\"475.273\" y2=\"63.799\" stroke-linecap=\"round\" style=\"stroke:white;stroke-width:4\"/><line x1=\"475.273\" y1=\"63.799\" x2=\"462.51\" y2=\"61.549\" stroke-linecap=\"round\" style=\"stroke:white;stroke-width:4\"/><line x1=\"462.51\" y1=\"61.549\" x2=\"445.963\" y2=\"75.433\" stroke-linecap=\"round\" style=\"stroke:white;stroke-width:4\"/><line x1=\"445.963\" y1=\"75.433\" x2=\"445.963\" y2=\"111.433\" stroke-linecap=\"round\" style=\"stroke:white;stroke-width:4\"/><line x1=\"445.963\" y1=\"111.433\" x2=\"481.416\" y2=\"117.684\" stroke-linecap=\"round\" style=\"stroke:white;stroke-width:4\"/><line x1=\"481.416\" y1=\"117.684\" x2=\"497.963\" y2=\"103.8\" stroke-linecap=\"round\" style=\"stroke:white;stroke-width:4\"/><line x1=\"497.963\" y1=\"103.8\" x2=\"497.963\" y2=\"90.84\" stroke-linecap=\"round\" style=\"stroke:white;stroke-width:4\"/><line x1=\"497.963\" y1=\"90.84\" x2=\"492.006\" y2=\"85.842\" stroke-linecap=\"round\" style=\"stroke:white;stroke-width:4\"/><line x1=\"492.006\" y1=\"85.842\" x2=\"497.963\" y2=\"90.84\" stroke-linecap=\"round\" style=\"stroke:white;stroke-width:4\"/><line x1=\"497.963\" y1=\"90.84\" x2=\"503.92\" y2=\"85.842\" stroke-linecap=\"round\" style=\"stroke:white;stroke-width:4\"/><line x1=\"503.92\" y1=\"85.842\" x2=\"497.963\" y2=\"90.84\" stroke-linecap=\"round\" style=\"stroke:white;stroke-width:4\"/><line x1=\"497.963\" y1=\"90.84\" x2=\"497.963\" y2=\"103.8\" stroke-linecap=\"round\" style=\"stroke:white;stroke-width:4\"/><line x1=\"497.963\" y1=\"103.8\" x2=\"510.726\" y2=\"106.05\" stroke-linecap=\"round\" style=\"stroke:white;stroke-width:4\"/><line x1=\"510.726\" y1=\"106.05\" x2=\"516.683\" y2=\"101.052\" stroke-linecap=\"round\" style=\"stroke:white;stroke-width:4\"/><line x1=\"516.683\" y1=\"101.052\" x2=\"510.726\" y2=\"106.05\" stroke-linecap=\"round\" style=\"stroke:white;stroke-width:4\"/><line x1=\"510.726\" y1=\"106.05\" x2=\"514.614\" y2=\"112.784\" stroke-linecap=\"round\" style=\"stroke:white;stroke-width:4\"/><line x1=\"514.614\" y1=\"112.784\" x2=\"510.726\" y2=\"106.05\" stroke-linecap=\"round\" style=\"stroke:white;stroke-width:4\"/><line x1=\"510.726\" y1=\"106.05\" x2=\"497.963\" y2=\"103.8\" stroke-linecap=\"round\" style=\"stroke:white;stroke-width:4\"/><line x1=\"497.963\" y1=\"103.8\" x2=\"481.416\" y2=\"117.684\" stroke-linecap=\"round\" style=\"stroke:white;stroke-width:4\"/><line x1=\"481.416\" y1=\"117.684\" x2=\"492.216\" y2=\"136.39\" stroke-linecap=\"round\" style=\"stroke:white;stroke-width:4\"/><line x1=\"492.216\" y1=\"136.39\" x2=\"504.979\" y2=\"138.64\" stroke-linecap=\"round\" style=\"stroke:white;stroke-width:4\"/><line x1=\"504.979\" y1=\"138.64\" x2=\"510.936\" y2=\"133.642\" stroke-linecap=\"round\" style=\"stroke:white;stroke-width:4\"/><line x1=\"510.936\" y1=\"133.642\" x2=\"504.979\" y2=\"138.64\" stroke-linecap=\"round\" style=\"stroke:white;stroke-width:4\"/><line x1=\"504.979\" y1=\"138.64\" x2=\"508.867\" y2=\"145.374\" stroke-linecap=\"round\" style=\"stroke:white;stroke-width:4\"/><line x1=\"508.867\" y1=\"145.374\" x2=\"504.979\" y2=\"138.64\" stroke-linecap=\"round\" style=\"stroke:white;stroke-width:4\"/><line x1=\"504.979\" y1=\"138.64\" x2=\"492.216\" y2=\"136.39\" stroke-linecap=\"round\" style=\"stroke:white;stroke-width:4\"/><line x1=\"492.216\" y1=\"136.39\" x2=\"487.783\" y2=\"148.568\" stroke-linecap=\"round\" style=\"stroke:white;stroke-width:4\"/><line x1=\"487.783\" y1=\"148.568\" x2=\"491.671\" y2=\"155.302\" stroke-linecap=\"round\" style=\"stroke:white;stroke-width:4\"/><line x1=\"491.671\" y1=\"155.302\" x2=\"487.783\" y2=\"148.568\" stroke-linecap=\"round\" style=\"stroke:white;stroke-width:4\"/><line x1=\"487.783\" y1=\"148.568\" x2=\"480.476\" y2=\"151.228\" stroke-linecap=\"round\" style=\"stroke:white;stroke-width:4\"/><line x1=\"480.476\" y1=\"151.228\" x2=\"487.783\" y2=\"148.568\" stroke-linecap=\"round\" style=\"stroke:white;stroke-width:4\"/><line x1=\"487.783\" y1=\"148.568\" x2=\"492.216\" y2=\"136.39\" stroke-linecap=\"round\" style=\"stroke:white;stroke-width:4\"/><line x1=\"492.216\" y1=\"136.39\" x2=\"481.416\" y2=\"117.684\" stroke-linecap=\"round\" style=\"stroke:white;stroke-width:4\"/><line x1=\"481.416\" y1=\"117.684\" x2=\"445.963\" y2=\"111.433\" stroke-linecap=\"round\" style=\"stroke:white;stroke-width:4\"/><line x1=\"445.963\" y1=\"111.433\" x2=\"400.0\" y2=\"150.0\" stroke-linecap=\"round\" style=\"stroke:white;stroke-width:4\"/><line x1=\"400.0\" y1=\"150.0\" x2=\"400.0\" y2=\"250.0\" stroke-linecap=\"round\" style=\"stroke:white;stroke-width:4\"/>\n",
              "        <g visibility=visible transform=\"rotate(360,400.0,250.0) translate(382.0, 232.0)\">\n",
              "<path style=\" stroke:none;fill-rule:evenodd;fill:white;fill-opacity:1;\" d=\"M 18.214844 0.632812 C 16.109375 1.800781 15.011719 4.074219 15.074219 7.132812 L 15.085938 7.652344 L 14.785156 7.496094 C 13.476562 6.824219 11.957031 6.671875 10.40625 7.066406 C 8.46875 7.550781 6.515625 9.15625 4.394531 11.992188 C 3.0625 13.777344 2.679688 14.636719 3.042969 15.027344 L 3.15625 15.152344 L 3.519531 15.152344 C 4.238281 15.152344 4.828125 14.886719 8.1875 13.039062 C 9.386719 12.378906 10.371094 11.839844 10.378906 11.839844 C 10.386719 11.839844 10.355469 11.929688 10.304688 12.035156 C 9.832031 13.09375 9.257812 14.820312 8.96875 16.078125 C 7.914062 20.652344 8.617188 24.53125 11.070312 27.660156 C 11.351562 28.015625 11.363281 27.914062 10.972656 28.382812 C 8.925781 30.84375 7.945312 33.28125 8.238281 35.1875 C 8.289062 35.527344 8.28125 35.523438 8.917969 35.523438 C 10.941406 35.523438 13.074219 34.207031 15.136719 31.6875 C 15.359375 31.417969 15.328125 31.425781 15.5625 31.574219 C 16.292969 32.042969 18.023438 32.964844 18.175781 32.964844 C 18.335938 32.964844 19.941406 32.210938 20.828125 31.71875 C 20.996094 31.625 21.136719 31.554688 21.136719 31.558594 C 21.203125 31.664062 21.898438 32.414062 22.222656 32.730469 C 23.835938 34.300781 25.5625 35.132812 27.582031 35.300781 C 27.90625 35.328125 27.9375 35.308594 28.007812 34.984375 C 28.382812 33.242188 27.625 30.925781 25.863281 28.425781 L 25.542969 27.96875 L 25.699219 27.785156 C 28.945312 23.960938 29.132812 18.699219 26.257812 11.96875 L 26.207031 11.84375 L 27.945312 12.703125 C 31.53125 14.476562 32.316406 14.800781 33.03125 14.800781 C 33.976562 14.800781 33.78125 13.9375 32.472656 12.292969 C 28.519531 7.355469 25.394531 5.925781 21.921875 7.472656 L 21.558594 7.636719 L 21.578125 7.542969 C 21.699219 6.992188 21.761719 5.742188 21.699219 5.164062 C 21.496094 3.296875 20.664062 1.964844 19.003906 0.855469 C 18.480469 0.503906 18.457031 0.5 18.214844 0.632812\"/>\n",
              "</g>\n",
              "      </svg>\n",
              "    "
            ]
          },
          "metadata": {}
        }
      ],
      "source": [
        "draw (100)"
      ]
    },
    {
      "cell_type": "markdown",
      "id": "bca9517d",
      "metadata": {
        "id": "bca9517d"
      },
      "source": [
        "### Exercise\n",
        "\n",
        "The following exercises use the `jupyturtle` module, described in Chapter 4.\n",
        "\n",
        "Read the following function and see if you can figure out what it does.\n",
        "Then run it and see if you got it right.\n",
        "Adjust the values of `length`, `angle` and `factor` and see what effect they have on the result.\n",
        "If you are not sure you understand how it works, try asking a virtual assistant."
      ]
    },
    {
      "cell_type": "code",
      "execution_count": 67,
      "id": "2b0d60a1",
      "metadata": {
        "id": "2b0d60a1",
        "outputId": "552e4627-6f8a-4094-e1b7-50c8ac3aaeae",
        "colab": {
          "base_uri": "https://localhost:8080/"
        }
      },
      "outputs": [
        {
          "output_type": "stream",
          "name": "stdout",
          "text": [
            "6\n"
          ]
        }
      ],
      "source": [
        "# THIS IS THE STACK DIAGRAM EXERCISE, ACCIDENTALLY DID IT IN THE WRONG PLACE, THE JUPYTURTLE EXERCISE WILL BE DONE IN THE STACK DIAGRAM SECTION\n",
        "def recurse(n, s):\n",
        "     if n == 0:\n",
        "          print(s)\n",
        "     else:\n",
        "          recurse(n-1, n+s)\n",
        "recurse(3, 0)"
      ]
    },
    {
      "cell_type": "code",
      "execution_count": 70,
      "id": "ef0256ee",
      "metadata": {
        "id": "ef0256ee"
      },
      "outputs": [],
      "source": []
    },
    {
      "cell_type": "markdown",
      "id": "e525ba59",
      "metadata": {
        "id": "e525ba59"
      },
      "source": [
        "### Exercise\n",
        "\n",
        "Ask a virtual assistant \"What is the Koch curve?\"\n",
        "\n",
        "To draw a Koch curve with length `x`, all you\n",
        "have to do is\n",
        "\n",
        "1.  Draw a Koch curve with length `x/3`.\n",
        "\n",
        "2.  Turn left 60 degrees.\n",
        "\n",
        "3.  Draw a Koch curve with length `x/3`.\n",
        "\n",
        "4.  Turn right 120 degrees.\n",
        "\n",
        "5.  Draw a Koch curve with length `x/3`.\n",
        "\n",
        "6.  Turn left 60 degrees.\n",
        "\n",
        "7.  Draw a Koch curve with length `x/3`.\n",
        "\n",
        "The exception is if `x` is less than `5` -- in that case, you can just draw a straight line with length `x`.\n",
        "\n",
        "Write a function called `koch` that takes `x` as an argument and draws a Koch curve with the given length.\n"
      ]
    },
    {
      "cell_type": "code",
      "execution_count": 78,
      "id": "c1acc853",
      "metadata": {
        "id": "c1acc853",
        "outputId": "0899f5b6-40ec-4242-bca8-f536444ef0d0",
        "colab": {
          "base_uri": "https://localhost:8080/",
          "height": 521
        }
      },
      "outputs": [
        {
          "output_type": "display_data",
          "data": {
            "text/plain": [
              "<IPython.core.display.HTML object>"
            ],
            "text/html": [
              "\n",
              "      <svg width=\"800\" height=\"500\">\n",
              "        <rect width=\"100%\" height=\"100%\" fill=\"black\"/>\n",
              "        \n",
              "        <g visibility=visible transform=\"rotate(360,400,250) translate(382, 232)\">\n",
              "<path style=\" stroke:none;fill-rule:evenodd;fill:white;fill-opacity:1;\" d=\"M 18.214844 0.632812 C 16.109375 1.800781 15.011719 4.074219 15.074219 7.132812 L 15.085938 7.652344 L 14.785156 7.496094 C 13.476562 6.824219 11.957031 6.671875 10.40625 7.066406 C 8.46875 7.550781 6.515625 9.15625 4.394531 11.992188 C 3.0625 13.777344 2.679688 14.636719 3.042969 15.027344 L 3.15625 15.152344 L 3.519531 15.152344 C 4.238281 15.152344 4.828125 14.886719 8.1875 13.039062 C 9.386719 12.378906 10.371094 11.839844 10.378906 11.839844 C 10.386719 11.839844 10.355469 11.929688 10.304688 12.035156 C 9.832031 13.09375 9.257812 14.820312 8.96875 16.078125 C 7.914062 20.652344 8.617188 24.53125 11.070312 27.660156 C 11.351562 28.015625 11.363281 27.914062 10.972656 28.382812 C 8.925781 30.84375 7.945312 33.28125 8.238281 35.1875 C 8.289062 35.527344 8.28125 35.523438 8.917969 35.523438 C 10.941406 35.523438 13.074219 34.207031 15.136719 31.6875 C 15.359375 31.417969 15.328125 31.425781 15.5625 31.574219 C 16.292969 32.042969 18.023438 32.964844 18.175781 32.964844 C 18.335938 32.964844 19.941406 32.210938 20.828125 31.71875 C 20.996094 31.625 21.136719 31.554688 21.136719 31.558594 C 21.203125 31.664062 21.898438 32.414062 22.222656 32.730469 C 23.835938 34.300781 25.5625 35.132812 27.582031 35.300781 C 27.90625 35.328125 27.9375 35.308594 28.007812 34.984375 C 28.382812 33.242188 27.625 30.925781 25.863281 28.425781 L 25.542969 27.96875 L 25.699219 27.785156 C 28.945312 23.960938 29.132812 18.699219 26.257812 11.96875 L 26.207031 11.84375 L 27.945312 12.703125 C 31.53125 14.476562 32.316406 14.800781 33.03125 14.800781 C 33.976562 14.800781 33.78125 13.9375 32.472656 12.292969 C 28.519531 7.355469 25.394531 5.925781 21.921875 7.472656 L 21.558594 7.636719 L 21.578125 7.542969 C 21.699219 6.992188 21.761719 5.742188 21.699219 5.164062 C 21.496094 3.296875 20.664062 1.964844 19.003906 0.855469 C 18.480469 0.503906 18.457031 0.5 18.214844 0.632812\"/>\n",
              "</g>\n",
              "      </svg>\n",
              "    "
            ]
          },
          "metadata": {}
        }
      ],
      "source": [
        "initializeTurtle()\n",
        "def koch(x):\n",
        "  if x < 5:\n",
        "    forward(x)\n",
        "  else:\n",
        "    koch(x/3)\n",
        "    left(60)\n",
        "    koch(x/3)\n",
        "    right(120)\n",
        "    koch(x/3)\n",
        "    left(60)\n",
        "    koch(x/3)"
      ]
    },
    {
      "cell_type": "markdown",
      "id": "2991143a",
      "metadata": {
        "id": "2991143a"
      },
      "source": [
        "The result should look like this:"
      ]
    },
    {
      "cell_type": "code",
      "execution_count": 79,
      "id": "55507716",
      "metadata": {
        "id": "55507716",
        "outputId": "7a9f4d3e-4543-4d44-aeb5-0ea4b74906a4",
        "colab": {
          "base_uri": "https://localhost:8080/",
          "height": 521
        }
      },
      "outputs": [
        {
          "output_type": "display_data",
          "data": {
            "text/plain": [
              "<IPython.core.display.HTML object>"
            ],
            "text/html": [
              "\n",
              "      <svg width=\"800\" height=\"500\">\n",
              "        <rect width=\"100%\" height=\"100%\" fill=\"black\"/>\n",
              "        <line x1=\"400\" y1=\"250\" x2=\"400.0\" y2=\"245.556\" stroke-linecap=\"round\" style=\"stroke:white;stroke-width:4\"/><line x1=\"400.0\" y1=\"245.556\" x2=\"396.151\" y2=\"243.334\" stroke-linecap=\"round\" style=\"stroke:white;stroke-width:4\"/><line x1=\"396.151\" y1=\"243.334\" x2=\"400.0\" y2=\"241.112\" stroke-linecap=\"round\" style=\"stroke:white;stroke-width:4\"/><line x1=\"400.0\" y1=\"241.112\" x2=\"400.0\" y2=\"236.668\" stroke-linecap=\"round\" style=\"stroke:white;stroke-width:4\"/><line x1=\"400.0\" y1=\"236.668\" x2=\"396.151\" y2=\"234.446\" stroke-linecap=\"round\" style=\"stroke:white;stroke-width:4\"/><line x1=\"396.151\" y1=\"234.446\" x2=\"392.302\" y2=\"236.668\" stroke-linecap=\"round\" style=\"stroke:white;stroke-width:4\"/><line x1=\"392.302\" y1=\"236.668\" x2=\"392.302\" y2=\"232.224\" stroke-linecap=\"round\" style=\"stroke:white;stroke-width:4\"/><line x1=\"392.302\" y1=\"232.224\" x2=\"388.453\" y2=\"230.002\" stroke-linecap=\"round\" style=\"stroke:white;stroke-width:4\"/><line x1=\"388.453\" y1=\"230.002\" x2=\"392.302\" y2=\"227.78\" stroke-linecap=\"round\" style=\"stroke:white;stroke-width:4\"/><line x1=\"392.302\" y1=\"227.78\" x2=\"392.302\" y2=\"223.336\" stroke-linecap=\"round\" style=\"stroke:white;stroke-width:4\"/><line x1=\"392.302\" y1=\"223.336\" x2=\"396.151\" y2=\"225.558\" stroke-linecap=\"round\" style=\"stroke:white;stroke-width:4\"/><line x1=\"396.151\" y1=\"225.558\" x2=\"400.0\" y2=\"223.336\" stroke-linecap=\"round\" style=\"stroke:white;stroke-width:4\"/><line x1=\"400.0\" y1=\"223.336\" x2=\"400.0\" y2=\"218.892\" stroke-linecap=\"round\" style=\"stroke:white;stroke-width:4\"/><line x1=\"400.0\" y1=\"218.892\" x2=\"396.151\" y2=\"216.67\" stroke-linecap=\"round\" style=\"stroke:white;stroke-width:4\"/><line x1=\"396.151\" y1=\"216.67\" x2=\"400.0\" y2=\"214.448\" stroke-linecap=\"round\" style=\"stroke:white;stroke-width:4\"/><line x1=\"400.0\" y1=\"214.448\" x2=\"400.0\" y2=\"210.004\" stroke-linecap=\"round\" style=\"stroke:white;stroke-width:4\"/><line x1=\"400.0\" y1=\"210.004\" x2=\"396.151\" y2=\"207.782\" stroke-linecap=\"round\" style=\"stroke:white;stroke-width:4\"/><line x1=\"396.151\" y1=\"207.782\" x2=\"392.302\" y2=\"210.004\" stroke-linecap=\"round\" style=\"stroke:white;stroke-width:4\"/><line x1=\"392.302\" y1=\"210.004\" x2=\"392.302\" y2=\"205.56\" stroke-linecap=\"round\" style=\"stroke:white;stroke-width:4\"/><line x1=\"392.302\" y1=\"205.56\" x2=\"388.453\" y2=\"203.338\" stroke-linecap=\"round\" style=\"stroke:white;stroke-width:4\"/><line x1=\"388.453\" y1=\"203.338\" x2=\"384.604\" y2=\"205.56\" stroke-linecap=\"round\" style=\"stroke:white;stroke-width:4\"/><line x1=\"384.604\" y1=\"205.56\" x2=\"384.604\" y2=\"210.004\" stroke-linecap=\"round\" style=\"stroke:white;stroke-width:4\"/><line x1=\"384.604\" y1=\"210.004\" x2=\"380.755\" y2=\"207.782\" stroke-linecap=\"round\" style=\"stroke:white;stroke-width:4\"/><line x1=\"380.755\" y1=\"207.782\" x2=\"376.906\" y2=\"210.004\" stroke-linecap=\"round\" style=\"stroke:white;stroke-width:4\"/><line x1=\"376.906\" y1=\"210.004\" x2=\"376.906\" y2=\"205.56\" stroke-linecap=\"round\" style=\"stroke:white;stroke-width:4\"/><line x1=\"376.906\" y1=\"205.56\" x2=\"373.057\" y2=\"203.338\" stroke-linecap=\"round\" style=\"stroke:white;stroke-width:4\"/><line x1=\"373.057\" y1=\"203.338\" x2=\"376.906\" y2=\"201.116\" stroke-linecap=\"round\" style=\"stroke:white;stroke-width:4\"/><line x1=\"376.906\" y1=\"201.116\" x2=\"376.906\" y2=\"196.672\" stroke-linecap=\"round\" style=\"stroke:white;stroke-width:4\"/><line x1=\"376.906\" y1=\"196.672\" x2=\"373.057\" y2=\"194.45\" stroke-linecap=\"round\" style=\"stroke:white;stroke-width:4\"/><line x1=\"373.057\" y1=\"194.45\" x2=\"369.208\" y2=\"196.672\" stroke-linecap=\"round\" style=\"stroke:white;stroke-width:4\"/><line x1=\"369.208\" y1=\"196.672\" x2=\"369.208\" y2=\"192.228\" stroke-linecap=\"round\" style=\"stroke:white;stroke-width:4\"/><line x1=\"369.208\" y1=\"192.228\" x2=\"365.359\" y2=\"190.006\" stroke-linecap=\"round\" style=\"stroke:white;stroke-width:4\"/><line x1=\"365.359\" y1=\"190.006\" x2=\"369.208\" y2=\"187.784\" stroke-linecap=\"round\" style=\"stroke:white;stroke-width:4\"/><line x1=\"369.208\" y1=\"187.784\" x2=\"369.208\" y2=\"183.34\" stroke-linecap=\"round\" style=\"stroke:white;stroke-width:4\"/><line x1=\"369.208\" y1=\"183.34\" x2=\"373.057\" y2=\"185.562\" stroke-linecap=\"round\" style=\"stroke:white;stroke-width:4\"/><line x1=\"373.057\" y1=\"185.562\" x2=\"376.906\" y2=\"183.34\" stroke-linecap=\"round\" style=\"stroke:white;stroke-width:4\"/><line x1=\"376.906\" y1=\"183.34\" x2=\"376.906\" y2=\"178.896\" stroke-linecap=\"round\" style=\"stroke:white;stroke-width:4\"/><line x1=\"376.906\" y1=\"178.896\" x2=\"373.057\" y2=\"176.674\" stroke-linecap=\"round\" style=\"stroke:white;stroke-width:4\"/><line x1=\"373.057\" y1=\"176.674\" x2=\"376.906\" y2=\"174.452\" stroke-linecap=\"round\" style=\"stroke:white;stroke-width:4\"/><line x1=\"376.906\" y1=\"174.452\" x2=\"376.906\" y2=\"170.008\" stroke-linecap=\"round\" style=\"stroke:white;stroke-width:4\"/><line x1=\"376.906\" y1=\"170.008\" x2=\"380.755\" y2=\"172.23\" stroke-linecap=\"round\" style=\"stroke:white;stroke-width:4\"/><line x1=\"380.755\" y1=\"172.23\" x2=\"384.604\" y2=\"170.008\" stroke-linecap=\"round\" style=\"stroke:white;stroke-width:4\"/><line x1=\"384.604\" y1=\"170.008\" x2=\"384.604\" y2=\"174.452\" stroke-linecap=\"round\" style=\"stroke:white;stroke-width:4\"/><line x1=\"384.604\" y1=\"174.452\" x2=\"388.453\" y2=\"176.674\" stroke-linecap=\"round\" style=\"stroke:white;stroke-width:4\"/><line x1=\"388.453\" y1=\"176.674\" x2=\"392.302\" y2=\"174.452\" stroke-linecap=\"round\" style=\"stroke:white;stroke-width:4\"/><line x1=\"392.302\" y1=\"174.452\" x2=\"392.302\" y2=\"170.008\" stroke-linecap=\"round\" style=\"stroke:white;stroke-width:4\"/><line x1=\"392.302\" y1=\"170.008\" x2=\"396.151\" y2=\"172.23\" stroke-linecap=\"round\" style=\"stroke:white;stroke-width:4\"/><line x1=\"396.151\" y1=\"172.23\" x2=\"400.0\" y2=\"170.008\" stroke-linecap=\"round\" style=\"stroke:white;stroke-width:4\"/><line x1=\"400.0\" y1=\"170.008\" x2=\"400.0\" y2=\"165.564\" stroke-linecap=\"round\" style=\"stroke:white;stroke-width:4\"/><line x1=\"400.0\" y1=\"165.564\" x2=\"396.151\" y2=\"163.342\" stroke-linecap=\"round\" style=\"stroke:white;stroke-width:4\"/><line x1=\"396.151\" y1=\"163.342\" x2=\"400.0\" y2=\"161.12\" stroke-linecap=\"round\" style=\"stroke:white;stroke-width:4\"/><line x1=\"400.0\" y1=\"161.12\" x2=\"400.0\" y2=\"156.676\" stroke-linecap=\"round\" style=\"stroke:white;stroke-width:4\"/><line x1=\"400.0\" y1=\"156.676\" x2=\"396.151\" y2=\"154.454\" stroke-linecap=\"round\" style=\"stroke:white;stroke-width:4\"/><line x1=\"396.151\" y1=\"154.454\" x2=\"392.302\" y2=\"156.676\" stroke-linecap=\"round\" style=\"stroke:white;stroke-width:4\"/><line x1=\"392.302\" y1=\"156.676\" x2=\"392.302\" y2=\"152.232\" stroke-linecap=\"round\" style=\"stroke:white;stroke-width:4\"/><line x1=\"392.302\" y1=\"152.232\" x2=\"388.453\" y2=\"150.01\" stroke-linecap=\"round\" style=\"stroke:white;stroke-width:4\"/><line x1=\"388.453\" y1=\"150.01\" x2=\"392.302\" y2=\"147.788\" stroke-linecap=\"round\" style=\"stroke:white;stroke-width:4\"/><line x1=\"392.302\" y1=\"147.788\" x2=\"392.302\" y2=\"143.344\" stroke-linecap=\"round\" style=\"stroke:white;stroke-width:4\"/><line x1=\"392.302\" y1=\"143.344\" x2=\"396.151\" y2=\"145.566\" stroke-linecap=\"round\" style=\"stroke:white;stroke-width:4\"/><line x1=\"396.151\" y1=\"145.566\" x2=\"400.0\" y2=\"143.344\" stroke-linecap=\"round\" style=\"stroke:white;stroke-width:4\"/><line x1=\"400.0\" y1=\"143.344\" x2=\"400.0\" y2=\"138.9\" stroke-linecap=\"round\" style=\"stroke:white;stroke-width:4\"/><line x1=\"400.0\" y1=\"138.9\" x2=\"396.151\" y2=\"136.678\" stroke-linecap=\"round\" style=\"stroke:white;stroke-width:4\"/><line x1=\"396.151\" y1=\"136.678\" x2=\"400.0\" y2=\"134.456\" stroke-linecap=\"round\" style=\"stroke:white;stroke-width:4\"/><line x1=\"400.0\" y1=\"134.456\" x2=\"400.0\" y2=\"130.012\" stroke-linecap=\"round\" style=\"stroke:white;stroke-width:4\"/>\n",
              "        <g visibility=visible transform=\"rotate(360,400.0,130.012) translate(382.0, 112.012)\">\n",
              "<path style=\" stroke:none;fill-rule:evenodd;fill:white;fill-opacity:1;\" d=\"M 18.214844 0.632812 C 16.109375 1.800781 15.011719 4.074219 15.074219 7.132812 L 15.085938 7.652344 L 14.785156 7.496094 C 13.476562 6.824219 11.957031 6.671875 10.40625 7.066406 C 8.46875 7.550781 6.515625 9.15625 4.394531 11.992188 C 3.0625 13.777344 2.679688 14.636719 3.042969 15.027344 L 3.15625 15.152344 L 3.519531 15.152344 C 4.238281 15.152344 4.828125 14.886719 8.1875 13.039062 C 9.386719 12.378906 10.371094 11.839844 10.378906 11.839844 C 10.386719 11.839844 10.355469 11.929688 10.304688 12.035156 C 9.832031 13.09375 9.257812 14.820312 8.96875 16.078125 C 7.914062 20.652344 8.617188 24.53125 11.070312 27.660156 C 11.351562 28.015625 11.363281 27.914062 10.972656 28.382812 C 8.925781 30.84375 7.945312 33.28125 8.238281 35.1875 C 8.289062 35.527344 8.28125 35.523438 8.917969 35.523438 C 10.941406 35.523438 13.074219 34.207031 15.136719 31.6875 C 15.359375 31.417969 15.328125 31.425781 15.5625 31.574219 C 16.292969 32.042969 18.023438 32.964844 18.175781 32.964844 C 18.335938 32.964844 19.941406 32.210938 20.828125 31.71875 C 20.996094 31.625 21.136719 31.554688 21.136719 31.558594 C 21.203125 31.664062 21.898438 32.414062 22.222656 32.730469 C 23.835938 34.300781 25.5625 35.132812 27.582031 35.300781 C 27.90625 35.328125 27.9375 35.308594 28.007812 34.984375 C 28.382812 33.242188 27.625 30.925781 25.863281 28.425781 L 25.542969 27.96875 L 25.699219 27.785156 C 28.945312 23.960938 29.132812 18.699219 26.257812 11.96875 L 26.207031 11.84375 L 27.945312 12.703125 C 31.53125 14.476562 32.316406 14.800781 33.03125 14.800781 C 33.976562 14.800781 33.78125 13.9375 32.472656 12.292969 C 28.519531 7.355469 25.394531 5.925781 21.921875 7.472656 L 21.558594 7.636719 L 21.578125 7.542969 C 21.699219 6.992188 21.761719 5.742188 21.699219 5.164062 C 21.496094 3.296875 20.664062 1.964844 19.003906 0.855469 C 18.480469 0.503906 18.457031 0.5 18.214844 0.632812\"/>\n",
              "</g>\n",
              "      </svg>\n",
              "    "
            ]
          },
          "metadata": {}
        }
      ],
      "source": [
        "from ColabTurtle.Turtle import *\n",
        "koch(120)\n",
        "# Used VA to help with creating colab turtle"
      ]
    },
    {
      "cell_type": "markdown",
      "id": "b1c58420",
      "metadata": {
        "tags": [],
        "id": "b1c58420"
      },
      "source": [
        "Once you have koch working, you can use this loop to draw three Koch curves in the shape of a snowflake."
      ]
    },
    {
      "cell_type": "code",
      "execution_count": null,
      "id": "86d3123b",
      "metadata": {
        "tags": [],
        "id": "86d3123b"
      },
      "outputs": [],
      "source": []
    },
    {
      "cell_type": "markdown",
      "id": "4c964239",
      "metadata": {
        "id": "4c964239"
      },
      "source": [
        "### Exercise\n",
        "\n",
        "Virtual assistants know about the functions in the `jupyturtle` module, but there are many versions of these functions, with different names, so a VA might not know which one you are talking about.\n",
        "\n",
        "To solve this problem, you can provide additional information before you ask a question.\n",
        "For example, you could start a prompt with \"Here's a program that uses the `jupyturtle` module,\" and then paste in one of the examples from this chapter.\n",
        "After that, the VA should be able to generate code that uses this module.\n",
        "\n",
        "As an example, ask a VA for a program that draws a Sierpiński triangle.\n",
        "The code you get should be a good starting place, but you might have to do some debugging.\n",
        "If the first attempt doesn't work, you can tell the VA what happened and ask for help -- or you can debug it yourself."
      ]
    },
    {
      "cell_type": "code",
      "execution_count": null,
      "id": "68439acf",
      "metadata": {
        "id": "68439acf"
      },
      "outputs": [],
      "source": []
    },
    {
      "cell_type": "markdown",
      "id": "6a95097a",
      "metadata": {
        "id": "6a95097a"
      },
      "source": [
        "Here's what the result might look like, although the version you get might be different."
      ]
    },
    {
      "cell_type": "code",
      "execution_count": null,
      "id": "43470b3d",
      "metadata": {
        "id": "43470b3d"
      },
      "outputs": [],
      "source": []
    },
    {
      "cell_type": "code",
      "execution_count": null,
      "id": "9d6969d4",
      "metadata": {
        "id": "9d6969d4"
      },
      "outputs": [],
      "source": []
    },
    {
      "cell_type": "markdown",
      "id": "a7f4edf8",
      "metadata": {
        "tags": [],
        "id": "a7f4edf8"
      },
      "source": [
        "[Think Python: 3rd Edition](https://allendowney.github.io/ThinkPython/index.html)\n",
        "\n",
        "Copyright 2024 [Allen B. Downey](https://allendowney.com)\n",
        "\n",
        "Code license: [MIT License](https://mit-license.org/)\n",
        "\n",
        "Text license: [Creative Commons Attribution-NonCommercial-ShareAlike 4.0 International](https://creativecommons.org/licenses/by-nc-sa/4.0/)"
      ]
    }
  ],
  "metadata": {
    "celltoolbar": "Tags",
    "kernelspec": {
      "display_name": "Python 3 (ipykernel)",
      "language": "python",
      "name": "python3"
    },
    "language_info": {
      "codemirror_mode": {
        "name": "ipython",
        "version": 3
      },
      "file_extension": ".py",
      "mimetype": "text/x-python",
      "name": "python",
      "nbconvert_exporter": "python",
      "pygments_lexer": "ipython3",
      "version": "3.10.11"
    },
    "colab": {
      "provenance": []
    }
  },
  "nbformat": 4,
  "nbformat_minor": 5
}